{
 "cells": [
  {
   "cell_type": "markdown",
   "id": "fcbc891d-2239-4cc3-9f8a-813abd383ddb",
   "metadata": {},
   "source": [
    "# Шаблон архитектуры системы управления данными \"Lakehouse\""
   ]
  },
  {
   "cell_type": "markdown",
   "id": "0d180104-9226-4f59-aa20-af47553ee08e",
   "metadata": {
    "jp-MarkdownHeadingCollapsed": true
   },
   "source": [
    "## Мотивация"
   ]
  },
  {
   "cell_type": "markdown",
   "id": "8f5f88e6-b6fe-488c-b2bc-177b1c342baf",
   "metadata": {},
   "source": [
    "### Хранилища Данных - Data Warehouse, DWH"
   ]
  },
  {
   "cell_type": "markdown",
   "id": "9646cdb3-9f48-4cde-a979-b4c17613c904",
   "metadata": {},
   "source": [
    "**Хранилища данных** (**Data Warehouse**) исторически были призваны решить задачу формирования аналитической картины для бизнеса на базе собираемой информации. Аналитика позволяет бинесу принимать взвешанные решения и формировать стратегию развития компании. Хранилища данных предъявляют требования к формату входящих данных, что позволяет пользователям хранилища данных работать с понятными данными. Характерной чертой традицонных хранилищ данных (**Data Warehouse**) является неразрывная связь между вычислительными ресурсами и ресурсами для хранения данных."
   ]
  },
  {
   "cell_type": "markdown",
   "id": "7c9f5fbe-5cec-459e-a39a-6caf4554fdfb",
   "metadata": {},
   "source": [
    "С увеличением объема поступающей информации традицонный подход к формированию хранилища данных столкнулись с большими проблемами: неразрывность слоёв хранения и обработки данных диктовала бизнесу вертикальное масштабирование. Бизнес был вынужен закупать железо, способное обслуживать пиковые нагрузки. Таким образом, бизнес тратил много денег, хотя пиковые нагрузки могут и не возникать часто."
   ]
  },
  {
   "cell_type": "markdown",
   "id": "9308cb93-4777-40a4-8716-998ea898c08e",
   "metadata": {},
   "source": [
    "В дополнение к увеличению объема обрабатываемой информации альтернативные форматы данных, которые не всегда имеют чёткую структуру (видео, музыка, текст и т.д.), также начали играть большую роль в построении аналитической картины. К неструктурированным данным **хранилища данных** были не готовы абсолютно."
   ]
  },
  {
   "cell_type": "markdown",
   "id": "db966b72-514e-444d-9efa-9d3c28588802",
   "metadata": {},
   "source": [
    "### Озёра Данных - Data Lake"
   ]
  },
  {
   "cell_type": "markdown",
   "id": "e26a5913-a978-43d3-865a-24a22528b060",
   "metadata": {},
   "source": [
    "Для решения накопившихся проблем были разработаны платформы аналитики данных **второго поколения**.\n",
    "\n",
    "Основная идея заключается в том, что все поступающие данные начали складываться в **озёра данных** (**Data Lake**) - кластер из дешёвых жестких дисков. Данные в **озёре данных** хранятся открытых (open source) форматах, таких как Apache Parquet или ORC.\n",
    "\n",
    "Apache Hadoop с HDFS популяризровал подход с озером данных. От требования к формату входящих данных (`schema-on-write`) удалось перейти к `schema-on-read` - только конечный потребитель знает какие данные ему нужны, и он сам является ответственным за извлечение этих данных из озера данных. Таким образом, `ETL` (**Extract Transform Load**) был заменен на `ELT` (**Extract Load Transform**): бизнес смог собирать всю доступную информацию, которая потом анализировалась различными подходами.\n",
    "\n",
    "Архитектура **Озеро Данных + Хранилища Данных** является доминирующей в современном мире."
   ]
  },
  {
   "cell_type": "markdown",
   "id": "4a98e987-e6a9-46d7-ae10-ef085f0bea5f",
   "metadata": {},
   "source": [
    "Отличительной особенностью озера данных является разделение слоёв хранения данных и обработки данных: бизнес может заказывать дополнительные процессорные мощности при необходимости."
   ]
  },
  {
   "cell_type": "markdown",
   "id": "007e53cb-da5e-492f-b5d3-767c3a5d3d71",
   "metadata": {},
   "source": [
    "### Ограничения современной архитектуры"
   ]
  },
  {
   "cell_type": "markdown",
   "id": "e9be73d7-dc2e-4e37-85bd-a55982667d6e",
   "metadata": {},
   "source": [
    "В свою очередь озера данных (Data Lake) принесли свои проблемы связанные с качеством и управлением данных. При этом данные по прежнему необходимо доставлять в хранилища данных, к которым подключены витрины данных. Таким образом, все поступающие данные проходят два или три шага:\n",
    "\n",
    "- E**L**T для попадания в озеро данных (Data Lake),\n",
    "- ET**L** для попадания в хранилище данных (Warehouse),\n",
    "- (опиционально) ETL для машинного обучения."
   ]
  },
  {
   "cell_type": "markdown",
   "id": "03e15f49-e423-4f31-b84e-64873c4b8818",
   "metadata": {},
   "source": [
    "Современний бизнес также полагается на системы машинного обучения и искуственного интеллекта, для которых ни озёра данных (Data Lake), ни хранилища данных (Data Warehouse) не являются идеальным решением."
   ]
  },
  {
   "cell_type": "markdown",
   "id": "a9eb3dac-23b7-4734-b2d5-6b4d4fafa6c0",
   "metadata": {},
   "source": [
    "Среди проблем современной архитектуры организации данных (**Озеро Данных** + **Хранилища Данных**) можно выделить следующие категории:\n",
    "\n",
    "- **Надежность**,\n",
    "- **Свежесть данных**,\n",
    "- **Ограниченные возможности расширенной аналитики**,\n",
    "- **Итоговая стоимость владения данными**."
   ]
  },
  {
   "cell_type": "markdown",
   "id": "8acb4004-cf65-4f07-82fd-9788dae5aeae",
   "metadata": {},
   "source": [
    "#### Надежность"
   ]
  },
  {
   "cell_type": "markdown",
   "id": "da5be3ad-0c53-4f06-b5fb-dc176eb95f16",
   "metadata": {},
   "source": [
    "Задача поддежрки озера данных и хранилища данных в консистентном состоянии является сложной и затратной. Перекачка данных из озера данных в хранилище данных несёт риски связанные со сбоем оборудования или ошибками программиста, что может выражаться в некоторой разнице между озером данных и хранилищем данных, а это ухудшает качество данных."
   ]
  },
  {
   "cell_type": "markdown",
   "id": "9ee2c22d-bb2d-497b-b29b-f1222de9be01",
   "metadata": {},
   "source": [
    "#### Свежесть данных"
   ]
  },
  {
   "cell_type": "markdown",
   "id": "746ed619-9977-4b59-aa18-141f40beff12",
   "metadata": {},
   "source": [
    "Самые новые данные всегда сначала в озеро данных, а уже потом в хранилище. Перекачка данных из озера данных в хранилище не может выполниться мнгновенно. Таким образом, современные аналитические системы уступают своим предшественникам (**Data Warehouse**) по качеству свежести данных."
   ]
  },
  {
   "cell_type": "markdown",
   "id": "e8d761aa-8069-4afc-89e7-93eb949e4833",
   "metadata": {},
   "source": [
    "#### Ограниченные возможности расширенной аналитики"
   ]
  },
  {
   "cell_type": "markdown",
   "id": "2d2eb8a9-0169-4795-8f60-1d98e2541007",
   "metadata": {},
   "source": [
    "Бизнес должен иметь возможность задавать вопросы относительно будущего на основании собранных данных (например, \"Кому эффективнее всего предоставить скидки?\").\n",
    "\n",
    "Современные фреймворки организации машинного обучения PyTorch, TensorFlow, XGBoost имеют ограниченные возможности работы на базе хранилища данных. В отличии от привычных хранилищам запросов BI характера, которые работают с небольшим объемом информации, фреймворки машинного обучения требуют обработки огромных объемов данных.\n",
    "\n",
    "Для подключения машинного обучения есть два варианта:\n",
    "\n",
    "- выгрузить данные из хранилища данных в файлы, которые можно использовать при работе с машинным обучением (третий ETL шаг),\n",
    "- работа с озером данных напрямую. Это отключает возможности хранилища данных по управлению данными:\n",
    "    - ACID транзакции,\n",
    "    - версионирование данных,\n",
    "    - индексирование."
   ]
  },
  {
   "cell_type": "markdown",
   "id": "6c70a543-75cf-4c29-8aa3-0ba4e424d62f",
   "metadata": {},
   "source": [
    "#### Итоговая стоимость владения данными"
   ]
  },
  {
   "cell_type": "markdown",
   "id": "4a26c6df-32a6-44e6-95c0-24a7ab3122c4",
   "metadata": {},
   "source": [
    "Одновременная поддержка озера данных и хранилища данных фактически увеличивает затраты на хранение данных вдвое: одни и те же данные лежат как в озере данных (\"грязные\"), так и в хранилище данных (\"чистые\"). При этом также в два раза увеличиваются риски утечки данных."
   ]
  },
  {
   "cell_type": "markdown",
   "id": "e8c63462-b743-4e14-b79f-1c6d4978e415",
   "metadata": {},
   "source": [
    "### Требования к организации системы управления данными"
   ]
  },
  {
   "cell_type": "markdown",
   "id": "7993d711-8b6e-44ca-b471-245bfdb85cde",
   "metadata": {},
   "source": [
    "Таким образом, необходимо организовать данные в озере данных, которое отвечает следующим требованиям:\n",
    "\n",
    "1. открытость форматов данных (Parquet, ORC) для хранения как защита от Vendor Lock-In,\n",
    "2. производительность сопоставимая с хранилищами данных,\n",
    "3. возможности управления атрибутами/признаками (feature) данных, сопоставимые с хранилищами данных,\n",
    "4. прямой `I/O` доступ к данным для расширенной аналитики."
   ]
  },
  {
   "cell_type": "markdown",
   "id": "ddf5e6fb-7ec3-43b4-bdd2-7d9594a56aa1",
   "metadata": {},
   "source": [
    "Шаблон архитектуры **Lakehouse** позволяет построить озеро данных, которое отвечает поставленным требованиям."
   ]
  },
  {
   "cell_type": "markdown",
   "id": "78dfa02b-e10f-456b-9b07-5f745f8aa5ce",
   "metadata": {},
   "source": [
    "Функция `dump_parquet` скроет подробности сохранения датафрейма на диск как parquet:"
   ]
  },
  {
   "cell_type": "markdown",
   "id": "e84dd136-94ce-45d1-a87a-05fa09d49eb3",
   "metadata": {},
   "source": [
    "# Шаблон Lakehouse"
   ]
  },
  {
   "cell_type": "markdown",
   "id": "c178098a-8b29-4201-997a-71e920413714",
   "metadata": {},
   "source": [
    "## Подготовка данных"
   ]
  },
  {
   "cell_type": "markdown",
   "id": "de13bb01-cde4-4a0d-a613-14ff424101dc",
   "metadata": {},
   "source": [
    "Распаковать подготовленные архивы с данными:"
   ]
  },
  {
   "cell_type": "code",
   "execution_count": null,
   "id": "95c38b26-7e76-45b0-8c38-cdbd1ec87be7",
   "metadata": {},
   "outputs": [],
   "source": [
    "! cd /tmp && rm -rf steam taxi.parquet && unzip -o ~/work/data/steam.zip && unzip -o ~/work/data/taxi.zip"
   ]
  },
  {
   "cell_type": "markdown",
   "id": "6e2a8ed2-fc82-437a-a538-5c7cda15d9dd",
   "metadata": {},
   "source": [
    "Файлы будут располагаться в HDFS, поэтому необходимо очистить файловую систему:"
   ]
  },
  {
   "cell_type": "code",
   "execution_count": null,
   "id": "660d52ac-6e87-408c-a8e8-a132a1fe9d34",
   "metadata": {},
   "outputs": [],
   "source": [
    "! source ~/.bash_aliases && \\\n",
    "hdfs dfs -rm -f -r /user/jovyan/data && \\\n",
    "hdfs dfs -mkdir -p /user/jovyan/data/steam && \\\n",
    "hdfs dfs -mkdir -p /user/jovyan/data/taxi"
   ]
  },
  {
   "cell_type": "markdown",
   "id": "4c119797-368e-4960-8dea-b90d088d46ce",
   "metadata": {},
   "source": [
    "Загрузить локальные файлы в Apache Spark, разбить их на 4 партиции и положить в HDFS:"
   ]
  },
  {
   "cell_type": "code",
   "execution_count": null,
   "id": "d231e726-576d-4b1e-a5ab-a213999ff12d",
   "metadata": {},
   "outputs": [],
   "source": [
    "def dump_parquet(df, num: int, loc: str):\n",
    "    (df\n",
    "        .repartition(num)\n",
    "        .write\n",
    "        .mode(\"overwrite\")\n",
    "        .parquet(loc)\n",
    "    )"
   ]
  },
  {
   "cell_type": "code",
   "execution_count": null,
   "id": "e13a3da4-ffa8-4afe-b388-b446f688e8f2",
   "metadata": {},
   "outputs": [],
   "source": [
    "def prepare_src_data(sc, data_path):\n",
    "    sc.setJobDescription(\"Разбить датафреймы steam на 4 партиции\")\n",
    "\n",
    "    dump_parquet(spark.read.parquet(\"file:///tmp/steam/details.parquet\"), 4, f\"{data_path}/details\")\n",
    "    dump_parquet(spark.read.parquet(\"file:///tmp/steam/tags.parquet\"), 4, f\"{data_path}/steam/tags\")\n",
    "    dump_parquet(spark.read.parquet(\"file:///tmp/steam/games.parquet\"), 4, f\"{data_path}/steam/games\")\n",
    "    dump_parquet(spark.read.parquet(\"file:///tmp/taxi.parquet\"), 4, f\"{data_path}/taxi\")"
   ]
  },
  {
   "cell_type": "markdown",
   "id": "d3427cbe-340f-40e5-a223-30a3204b9209",
   "metadata": {
    "jp-MarkdownHeadingCollapsed": true
   },
   "source": [
    "## Описание"
   ]
  },
  {
   "cell_type": "markdown",
   "id": "63b223ba-6ae8-4d60-ac4d-751e68d0b421",
   "metadata": {},
   "source": [
    "Lakehouse предлагает организовать систему управления данными на базе следующих концепций:\n",
    "\n",
    "- хранение данных в кластера из дешевых жестких дисков (HDFS, S3, GCS),\n",
    "- система демонстрирует функции аналитической СУБД:\n",
    "    - ACID транзакции,\n",
    "    - версионирование данных,\n",
    "    - аудит,\n",
    "    - индексы,\n",
    "    - кеширование,\n",
    "    - оптимизатор запросов."
   ]
  },
  {
   "cell_type": "markdown",
   "id": "82a05fa0-4812-4510-a55e-b4a55a025ebb",
   "metadata": {},
   "source": [
    "Таким образом, система построеная по шаблону Lakehouse заключает в себе комбинацию ключевых преимуществ озёр данных (Data Lake) и хранилищ данных (Data Warehouse):\n",
    "\n",
    "- низкая стоимость хранения данных,\n",
    "- открытые форматы данных (как в Data Lake),\n",
    "- мощные возможности управления данными и оптимизации запросов (как в Data Warehouse)."
   ]
  },
  {
   "cell_type": "markdown",
   "id": "028fa49e-5c6f-4fbb-815b-223a61e73c13",
   "metadata": {
    "jp-MarkdownHeadingCollapsed": true
   },
   "source": [
    "## Концепции Lakehouse"
   ]
  },
  {
   "cell_type": "markdown",
   "id": "0d1411d9-14a7-46cd-ad28-c65bb17589a4",
   "metadata": {},
   "source": [
    "Шаблон Lakehouse состоит из следующих концепций:\n",
    "\n",
    "- все данные хранятся в блочном хранилище вроде HDFS или S3;\n",
    "- все данные приводятся к стандартному формату, например, Parquet;\n",
    "- данные могут быть организованы в виде логических таблиц;\n",
    "- поверх слоя хранения данных реализован слой метаданных;\n",
    "- слой метаданных может содержать:\n",
    "    - статистику по файлам,\n",
    "    - список файлов, относящихся к текущей версии таблицы.\n",
    "- ACID транзакции, версионирование, индексация - манипуляции со слоем метаданных;\n",
    "- клиенты могут читать файлы из HDFS или S3 напрямую."
   ]
  },
  {
   "cell_type": "markdown",
   "id": "ccb8fe51-6970-45d5-bd2c-6ee602795ac3",
   "metadata": {},
   "source": [
    "### Реализация Lakehouse"
   ]
  },
  {
   "cell_type": "markdown",
   "id": "24dfa666-b19a-4d87-bb86-bf27d53a52c0",
   "metadata": {},
   "source": [
    "Форматы [Delta Lake](https://delta.io/) (Databricks), [Apache Iceberg](https://iceberg.apache.org/) (Netflix) и [Apache Hudi](https://hudi.apache.org/) (Uber) реализуют концепции похожие на Lakehouse схожим образом:\n",
    "\n",
    "- данные сохраняются в формате Parquet или ORC в блочное хранилище (HDFS, S3),\n",
    "- сохраненные файлы неизменны,\n",
    "- рядом с сохраненными данными создаеются файлы с метаданными,\n",
    "- при внесении изменений в файлы, создаются новые файлы,\n",
    "- метаданные отслеживают какие из имеющихся файлов относятся к текущей версии."
   ]
  },
  {
   "cell_type": "markdown",
   "id": "26e18103-4859-41b2-b6c3-bb0c26eddb73",
   "metadata": {},
   "source": [
    "Формат Delta Lake был разработан в компании Databricks, которая развивает Apache Spark, поэтому построение системы управления данными на примере Lakehouse в практической части будет основываться на Delta Lake.\n",
    "\n",
    "> **Delta Lake - основной формат для построения Lakehouse!**"
   ]
  },
  {
   "cell_type": "markdown",
   "id": "4f8e4db5-c1ae-4708-bb12-700d5e54fda3",
   "metadata": {
    "jp-MarkdownHeadingCollapsed": true
   },
   "source": [
    "## Ограничения Delta Lake"
   ]
  },
  {
   "cell_type": "markdown",
   "id": "19a7b6c2-d3ac-471f-b2ff-eb16c595508c",
   "metadata": {},
   "source": [
    "Один файл с метаданными относится к одному Parquet файлу с данными, поэтому, к сожалению, невозможно получить ACID транзакции, включающие множество файлов. Эта проблема известна и находится на контроле ответственных организаций.\n",
    "\n",
    "Учитывая, что Databrics запускает примерно 50% (на 2021 год) всей нагрузки своих клиентов через Delta Lake, возможно отсутствие ACID транзакций на несколько файлов не является большой проблемой."
   ]
  },
  {
   "cell_type": "markdown",
   "id": "98ffb3a9-d93c-449b-b0d2-f2607d07eaf5",
   "metadata": {
    "jp-MarkdownHeadingCollapsed": true
   },
   "source": [
    "## Особенности Delta Lake"
   ]
  },
  {
   "cell_type": "markdown",
   "id": "71a3d27d-2a97-4427-95ee-8461352a12af",
   "metadata": {},
   "source": [
    "Вне зависимости от используемого блочного хранилища Delta Lake эффективно реализует оптимизации:\n",
    "\n",
    "- пропуск файлов при сканировании,\n",
    "- кластеризация строк."
   ]
  },
  {
   "cell_type": "markdown",
   "id": "0d1d355b-e6bd-46eb-a859-cdaef81b230b",
   "metadata": {},
   "source": [
    "### Анализ статистики для пропуска файлов при сканировании"
   ]
  },
  {
   "cell_type": "markdown",
   "id": "59cbd093-6d4e-49b6-9790-e0242c9fc415",
   "metadata": {},
   "source": [
    "Вне зависимости от используемого блочного хранилища, файл с метаданными хранит информацию, которая может использоваться оптимизатором запросов. В метаданных хранится статистика о максимальных и минимальных значениях колонок для каждого файла, что позволяет исключать файлы из сканирования."
   ]
  },
  {
   "cell_type": "markdown",
   "id": "d21afb68-98b8-40b6-94f1-d2d6dd12c2b9",
   "metadata": {},
   "source": [
    "### Пропуск файлов при сканировании на базе Bloom фильтра"
   ]
  },
  {
   "cell_type": "markdown",
   "id": "aae5e5c7-723a-49a2-9ada-0f5fa97ee09f",
   "metadata": {},
   "source": [
    "Для каждого parquet файла строится Bloom фильтр, который также позволяет эффективно пропускать файлы, в которых точно нет требуемых данных."
   ]
  },
  {
   "cell_type": "markdown",
   "id": "98df7446-2b93-4892-b1b2-af5dba36b220",
   "metadata": {},
   "source": [
    "### Кластеризация строк"
   ]
  },
  {
   "cell_type": "markdown",
   "id": "f487480c-0601-4826-a53f-5d9094724518",
   "metadata": {},
   "source": [
    "Delta Lake при помощи Z-Order оптимизации определяет наилучшую организацию строк на диске, с учетом, что несколько строк будут наиболее часто считываться вместе."
   ]
  },
  {
   "cell_type": "markdown",
   "id": "f5cb3c99-9639-4e4e-b33b-7201a882c53a",
   "metadata": {
    "jp-MarkdownHeadingCollapsed": true
   },
   "source": [
    "## Delta Lake"
   ]
  },
  {
   "cell_type": "markdown",
   "id": "9a5805b5-7b5a-4a97-8cc4-b2ccaa0df103",
   "metadata": {},
   "source": [
    "Устанавливать пакет для работы с Delta Lake необязательно, т.к. чтением данных с диска, их обработкой и сохранением данных обратно на диск в формате Delta Lake занимаются воркеры, которые запускаются в JVM процессе. Таким образом, нужно добавить библиотки для работы с Delta Lake на `CLASSPATH` воркеров."
   ]
  },
  {
   "cell_type": "markdown",
   "id": "a87a226f-6c9e-474f-8ed8-0740f3e41f0a",
   "metadata": {},
   "source": [
    "Подготовить `CLASSPATH` можно при помощи указания соответствующих значений в `spark.jars`, `spark.jars.packages`, `spark.jars.repositories`, а можно установить Python пакет `delta-lake` и воспользоваться утилитными функциями для этих целей:"
   ]
  },
  {
   "cell_type": "code",
   "execution_count": null,
   "id": "2af3b680-5322-4a02-b327-4d03ad0575d8",
   "metadata": {},
   "outputs": [],
   "source": [
    "! pip install delta-spark==3.0.0"
   ]
  },
  {
   "cell_type": "markdown",
   "id": "a4afce41-c8ee-46a1-8f72-de89a3b23a82",
   "metadata": {},
   "source": [
    "### Запуск Apache Spark"
   ]
  },
  {
   "cell_type": "code",
   "execution_count": null,
   "id": "1ad78f7c-69a4-44dd-a9df-0a127c8ce423",
   "metadata": {},
   "outputs": [],
   "source": [
    "from pyspark.sql import SparkSession\n",
    "from pyspark.sql.dataframe import DataFrame\n",
    "from pyspark.sql.functions import col\n",
    "from pyspark.sql import functions as F"
   ]
  },
  {
   "cell_type": "code",
   "execution_count": null,
   "id": "28e3166a-52d7-4854-bc57-ccb3f0139fdb",
   "metadata": {},
   "outputs": [],
   "source": [
    "from delta import configure_spark_with_delta_pip\n",
    "from delta.tables import DeltaTable"
   ]
  },
  {
   "cell_type": "code",
   "execution_count": null,
   "id": "4c21cf78-8466-4e14-93aa-da76889edeac",
   "metadata": {},
   "outputs": [],
   "source": [
    "builder = (\n",
    "    SparkSession\n",
    "        .builder\n",
    "        .appName(\"Delta Demo\")\n",
    "        .master(\"local[4]\")\n",
    "        .config(\"spark.sql.warehouse.dir\", \"data/spark-warehouse\")\n",
    "        .config(\"spark.sql.extensions\", \"io.delta.sql.DeltaSparkSessionExtension\")\n",
    "        .config(\"spark.sql.catalog.spark_catalog\", \"org.apache.spark.sql.delta.catalog.DeltaCatalog\")\n",
    ")"
   ]
  },
  {
   "cell_type": "markdown",
   "id": "e82f62ea-2064-4163-b41c-34f64edfa6bd",
   "metadata": {},
   "source": [
    "Функция [`configure_spark_with_delta_pip`](https://docs.delta.io/latest/api/python/index.html#delta.pip_utils.configure_spark_with_delta_pip) активирует возможности Delta Lake:"
   ]
  },
  {
   "cell_type": "code",
   "execution_count": null,
   "id": "c2f02dd9-f7b8-4994-9b00-0de9d49f1d5b",
   "metadata": {},
   "outputs": [],
   "source": [
    "print(configure_spark_with_delta_pip.__doc__)"
   ]
  },
  {
   "cell_type": "code",
   "execution_count": null,
   "id": "cfa716c7-4110-42dc-9386-716ed689c081",
   "metadata": {},
   "outputs": [],
   "source": [
    "spark = configure_spark_with_delta_pip(builder) \\\n",
    "    .getOrCreate()\n",
    "\n",
    "sc = spark.sparkContext"
   ]
  },
  {
   "cell_type": "markdown",
   "id": "f5b07ccd-1bf3-4c89-a71f-874749ac43c9",
   "metadata": {},
   "source": [
    "### Подготовить данные"
   ]
  },
  {
   "cell_type": "code",
   "execution_count": null,
   "id": "dfac41e8-8046-49dc-87d1-f009c1a13024",
   "metadata": {},
   "outputs": [],
   "source": [
    "prepare_src_data(sc, \"/user/jovyan/data\")"
   ]
  },
  {
   "cell_type": "markdown",
   "id": "6c334976-29ff-4550-abc0-a629b4689ec1",
   "metadata": {},
   "source": [
    "Файлы загружены в HDFS:"
   ]
  },
  {
   "cell_type": "code",
   "execution_count": null,
   "id": "be8faae9-2978-4447-aca4-85ec9ef9802b",
   "metadata": {},
   "outputs": [],
   "source": [
    "! source ~/.bash_aliases && \\\n",
    "hdfs dfs -find /user/jovyan/data"
   ]
  },
  {
   "cell_type": "markdown",
   "id": "39446b37-0b0c-425d-bbed-3cfc9c88cba9",
   "metadata": {
    "jp-MarkdownHeadingCollapsed": true
   },
   "source": [
    "## Delta таблицы"
   ]
  },
  {
   "cell_type": "code",
   "execution_count": null,
   "id": "aa1d6c19-3bc4-44bc-8ec3-3df847491df7",
   "metadata": {},
   "outputs": [],
   "source": [
    "my_first_table_path = 'data/my-first-delta-table'"
   ]
  },
  {
   "cell_type": "markdown",
   "id": "c93b60b4-3252-4675-9524-e697fa021ccd",
   "metadata": {},
   "source": [
    "### Создание Delta таблицы"
   ]
  },
  {
   "cell_type": "markdown",
   "id": "9720cbf6-41d8-4816-a102-e4c0685dd0a5",
   "metadata": {},
   "source": [
    "Сохранение датафрейма в формате `delta` создает новую Delta таблицу:"
   ]
  },
  {
   "cell_type": "code",
   "execution_count": null,
   "id": "047a1de8-f9ee-4418-bb4b-eacc21d94d9e",
   "metadata": {},
   "outputs": [],
   "source": [
    "data = spark.range(0, 5)\n",
    "(\n",
    "    data\n",
    "        .write\n",
    "        .format(\"delta\")\n",
    "        .save(my_first_table_path)\n",
    ")"
   ]
  },
  {
   "cell_type": "markdown",
   "id": "42f52657-9af1-4983-b650-8f6713909bdf",
   "metadata": {},
   "source": [
    "### Загрузка Delta таблицы"
   ]
  },
  {
   "cell_type": "markdown",
   "id": "c312081a-79c6-4d94-b9f8-64768b8c1324",
   "metadata": {},
   "source": [
    "Чтение данных из `delta` таблицы:"
   ]
  },
  {
   "cell_type": "code",
   "execution_count": null,
   "id": "5eedacb2-0ca5-4eb7-9883-cd48cf2e13e4",
   "metadata": {},
   "outputs": [],
   "source": [
    "df = (\n",
    "    spark\n",
    "        .read\n",
    "        .format(\"delta\")\n",
    "        .load(my_first_table_path)\n",
    ")\n",
    "df.show()"
   ]
  },
  {
   "cell_type": "markdown",
   "id": "ea524151-c74a-40e6-b50f-05c05f1194b5",
   "metadata": {},
   "source": [
    "### Обновление Delta таблицы"
   ]
  },
  {
   "cell_type": "markdown",
   "id": "02f8a994-99df-466c-af01-a41c46be9170",
   "metadata": {},
   "source": [
    "Запись датафрейма в формате `delta` в режиме `overwrite` обновляет данные в `delta` таблице:"
   ]
  },
  {
   "cell_type": "code",
   "execution_count": null,
   "id": "19dc47a8-f686-4b6e-9f06-ad01713dba6e",
   "metadata": {},
   "outputs": [],
   "source": [
    "df = spark.range(5, 10)\n",
    "(\n",
    "    df\n",
    "        .write\n",
    "        .format(\"delta\")\n",
    "        .mode(\"overwrite\")\n",
    "        .save(my_first_table_path)\n",
    ")"
   ]
  },
  {
   "cell_type": "code",
   "execution_count": null,
   "id": "a76ee5e0-8abf-4dc8-96f3-aa0dff4e37ff",
   "metadata": {},
   "outputs": [],
   "source": [
    "df = (\n",
    "    spark\n",
    "        .read\n",
    "        .format(\"delta\")\n",
    "        .load(my_first_table_path)\n",
    ")\n",
    "df.show()"
   ]
  },
  {
   "cell_type": "markdown",
   "id": "834dd577-1558-43af-a9d5-49d1a8c59fd0",
   "metadata": {},
   "source": [
    "### Частичное обновление Delta таблицы"
   ]
  },
  {
   "cell_type": "markdown",
   "id": "d901c39a-8949-45e0-b386-363dfb8ed82c",
   "metadata": {},
   "source": [
    "Данные в таблице можно обновить по условию:"
   ]
  },
  {
   "cell_type": "code",
   "execution_count": null,
   "id": "10ccc736-51c0-4965-8c3f-aa715c6734a1",
   "metadata": {},
   "outputs": [],
   "source": [
    "deltaTable = DeltaTable.forPath(spark, my_first_table_path)\n",
    "\n",
    "deltaTable.update(\n",
    "    condition = F.expr(\"id % 2 == 0\"),\n",
    "    set = { \"id\": F.expr(\"id + 100\") }\n",
    ")"
   ]
  },
  {
   "cell_type": "code",
   "execution_count": null,
   "id": "dc124774-81e2-48bc-a056-1c8adec64b75",
   "metadata": {},
   "outputs": [],
   "source": [
    "df = (\n",
    "    spark\n",
    "        .read\n",
    "        .format(\"delta\")\n",
    "        .load(my_first_table_path)\n",
    ")\n",
    "df.show()"
   ]
  },
  {
   "cell_type": "markdown",
   "id": "22b715e2-e393-4f24-ad0a-e9f11cf0ce09",
   "metadata": {},
   "source": [
    "### Удаление данных Delta таблицы"
   ]
  },
  {
   "cell_type": "markdown",
   "id": "ab32fc0b-bb4c-49ae-8431-7c2681803e41",
   "metadata": {},
   "source": [
    "Удалить данные в таблице можно можно обновить по условию:"
   ]
  },
  {
   "cell_type": "code",
   "execution_count": null,
   "id": "c02d1f32-fd90-4493-be70-97fc14e1eea9",
   "metadata": {},
   "outputs": [],
   "source": [
    "deltaTable = DeltaTable.forPath(spark, my_first_table_path)\n",
    "deltaTable.delete(condition = F.expr(\"id % 2 == 0\"))"
   ]
  },
  {
   "cell_type": "code",
   "execution_count": null,
   "id": "06daaf71-7aa6-4154-82c0-d5bce1de2a08",
   "metadata": {},
   "outputs": [],
   "source": [
    "df = (\n",
    "    spark\n",
    "        .read\n",
    "        .format(\"delta\")\n",
    "        .load(my_first_table_path)\n",
    ")\n",
    "df.show()"
   ]
  },
  {
   "cell_type": "markdown",
   "id": "c479f17a-0462-472b-9ef5-2b4f82b6d26c",
   "metadata": {},
   "source": [
    "### Слияние данных - Merge, Upsert"
   ]
  },
  {
   "cell_type": "markdown",
   "id": "fed64e93-0465-425f-87c4-678c38795411",
   "metadata": {},
   "source": [
    "Данные могут быть записаны в таблицу по принципу слияния (merge, upsert), т.е. существующие данные заменяются, новые данные добавляются:"
   ]
  },
  {
   "cell_type": "code",
   "execution_count": null,
   "id": "cbe02983-f1df-405f-9815-a5ab9821892e",
   "metadata": {},
   "outputs": [],
   "source": [
    "df = (\n",
    "    spark.read\n",
    "        .format(\"delta\")\n",
    "        .load(my_first_table_path)\n",
    ")\n",
    "df.show()"
   ]
  },
  {
   "cell_type": "code",
   "execution_count": null,
   "id": "59a6bc44-aa2e-4c8c-a123-e46a41156e79",
   "metadata": {},
   "outputs": [],
   "source": [
    "deltaTable = DeltaTable.forPath(spark, my_first_table_path)\n",
    "\n",
    "# New data to upsert (merge) \n",
    "newData = spark.range(7, 20) #.withColumnRenamed(\"id\", \"x\")\n",
    "\n",
    "deltaTable.alias(\"old\").merge(\n",
    "    source = newData.alias(\"new\"),\n",
    "    condition = col(\"old.id\") == col(\"new.id\")\n",
    "  ).whenMatchedUpdate(set = \n",
    "    {\n",
    "       \"id\": col(\"new.id\")\n",
    "    }\n",
    "  ).whenNotMatchedInsert(condition=col(\"new.id\").isNotNull(), values =\n",
    "    {\n",
    "        \"id\": col(\"new.id\") \n",
    "    }\n",
    "  ).whenNotMatchedBySourceDelete() \\\n",
    "  .execute()"
   ]
  },
  {
   "cell_type": "markdown",
   "id": "9e390053-de41-4553-8409-1feccc26dcc4",
   "metadata": {},
   "source": [
    "Обратите внимание, что операция `execute` выполняется немедленно."
   ]
  },
  {
   "cell_type": "code",
   "execution_count": null,
   "id": "ad1f9c58-7d7e-4f48-b532-49d2bcf4cabd",
   "metadata": {},
   "outputs": [],
   "source": [
    "newData.show()"
   ]
  },
  {
   "cell_type": "code",
   "execution_count": null,
   "id": "39b3fd8e-7146-4748-b953-a9d426b6e03a",
   "metadata": {},
   "outputs": [],
   "source": [
    "(\n",
    "    deltaTable.history()\n",
    "        .orderBy(col(\"version\").desc())\n",
    "        .limit(1)\n",
    "        .show(vertical=True, truncate=False)\n",
    ")"
   ]
  },
  {
   "cell_type": "code",
   "execution_count": null,
   "id": "df3bd99d-7400-40bc-b24e-e1b854301bdd",
   "metadata": {},
   "outputs": [],
   "source": [
    "df = (\n",
    "    spark\n",
    "        .read\n",
    "        .format(\"delta\")\n",
    "        .load(my_first_table_path)\n",
    ")\n",
    "df.show()"
   ]
  },
  {
   "cell_type": "markdown",
   "id": "b6c4b916-f92b-4c30-b7e6-eae4ace84c8c",
   "metadata": {
    "jp-MarkdownHeadingCollapsed": true
   },
   "source": [
    "## Машина времени"
   ]
  },
  {
   "cell_type": "markdown",
   "id": "f8a8e9e1-36c2-42a6-aa84-126dd7c2dd9a",
   "metadata": {},
   "source": [
    "Все файлы, загруженные в HDFS через Delta Lake, становятся неизменяемыми. Но как тогда выполняется обновление данных?"
   ]
  },
  {
   "cell_type": "markdown",
   "id": "2ceccbca-1c77-4455-b6f1-9e35e8bef855",
   "metadata": {},
   "source": [
    "Delta создает новые файлы в директории таблицы и при помощи дополнительных файлов отслеживает, какие файлы составляют содержимое текущей версии таблицы.\n",
    "\n",
    "Таким образом, Delta Lake поддерживает версионирование, а значит в любой момент можно вернуться к любой из предыдущих версий: файлы по прежнему находятся в директории таблицы. В качестве примера можно вернуться к самой первой версии:"
   ]
  },
  {
   "cell_type": "code",
   "execution_count": null,
   "id": "29555670-204c-4827-95f6-4029d8323e09",
   "metadata": {},
   "outputs": [],
   "source": [
    "df = (\n",
    "    spark.read\n",
    "        .format(\"delta\")\n",
    "        .option(\"versionAsOf\", 0)\n",
    "        .load(my_first_table_path)\n",
    ")\n",
    "\n",
    "df.show()"
   ]
  },
  {
   "cell_type": "markdown",
   "id": "22e2cd9c-c11e-40ea-a6f8-71a69101b182",
   "metadata": {},
   "source": [
    "Также можно сбросить состояние таблицы на момент одной из предыдущих версий:"
   ]
  },
  {
   "cell_type": "code",
   "execution_count": null,
   "id": "5bfabfdf-bf95-42a5-8428-d20a2c6d40c3",
   "metadata": {},
   "outputs": [],
   "source": [
    "deltaTable = DeltaTable.forPath(spark, my_first_table_path)\n",
    "deltaTable.history().show()"
   ]
  },
  {
   "cell_type": "markdown",
   "id": "93cd5ade-ec75-4215-97da-1f7280b0e900",
   "metadata": {},
   "source": [
    "Сбросить таблицу до начального состояния:"
   ]
  },
  {
   "cell_type": "code",
   "execution_count": null,
   "id": "f9be58de-5d98-41cd-ade7-3662b6b4fb31",
   "metadata": {},
   "outputs": [],
   "source": [
    "deltaTable.restoreToVersion(0)"
   ]
  },
  {
   "cell_type": "markdown",
   "id": "53bf03ca-779e-4d21-a392-aeb0493eae47",
   "metadata": {},
   "source": [
    "Обратите внимание, что `restoreToVersion` выполняется немедленно."
   ]
  },
  {
   "cell_type": "markdown",
   "id": "9b3e3d9e-46c5-4e4e-84f1-166bdf07ea63",
   "metadata": {},
   "source": [
    "При этом создается новая версия:"
   ]
  },
  {
   "cell_type": "code",
   "execution_count": null,
   "id": "98ec0e6a-354a-47f1-8c00-26aa71f7faf5",
   "metadata": {},
   "outputs": [],
   "source": [
    "deltaTable.history().show()"
   ]
  },
  {
   "cell_type": "markdown",
   "id": "5b0f222c-a022-49c0-8c9d-f294599cdf29",
   "metadata": {},
   "source": [
    "Содержимое таблицы:"
   ]
  },
  {
   "cell_type": "code",
   "execution_count": null,
   "id": "dc923771-47f0-4717-8fac-ab76c005e52e",
   "metadata": {},
   "outputs": [],
   "source": [
    "deltaTable.toDF().show()"
   ]
  },
  {
   "cell_type": "markdown",
   "id": "eb844711-3ffd-4273-8dd5-20daf10627f8",
   "metadata": {
    "jp-MarkdownHeadingCollapsed": true
   },
   "source": [
    "## Конвертация Parquet в Delta Lake"
   ]
  },
  {
   "cell_type": "markdown",
   "id": "72cec34c-42de-4ec7-8575-0cd054789453",
   "metadata": {},
   "source": [
    "Delta Lake работает поверх Parquet файлов, поэтому конвертация parquet в Delta Lake заключается в добавлении файлов с метаданными в директорию с Parquet файлами."
   ]
  },
  {
   "cell_type": "markdown",
   "id": "d554dc84-667b-46ec-89e3-f03200f2fd76",
   "metadata": {},
   "source": [
    "Состояние директории без файлов с метаданными Delta Lake:"
   ]
  },
  {
   "cell_type": "code",
   "execution_count": null,
   "id": "7ff4bddc-ddb0-4f24-ad74-9eb4fe3c4f1d",
   "metadata": {},
   "outputs": [],
   "source": [
    "! source ~/.bash_aliases && \\\n",
    "hdfs dfs -find /user/jovyan/data/taxi"
   ]
  },
  {
   "cell_type": "code",
   "execution_count": null,
   "id": "21f17e38-7486-4d26-8e9d-dd4810b553cf",
   "metadata": {},
   "outputs": [],
   "source": [
    "taxi_path = '/user/jovyan/data/taxi'"
   ]
  },
  {
   "cell_type": "code",
   "execution_count": null,
   "id": "4d2ac9ca-5f39-405f-bb04-2a0acea942c6",
   "metadata": {},
   "outputs": [],
   "source": [
    "deltaTable = DeltaTable.convertToDelta(spark, f\"parquet.`{taxi_path}`\")"
   ]
  },
  {
   "cell_type": "code",
   "execution_count": null,
   "id": "89bc7ab7-282e-4b93-9271-0921c4f8ae9d",
   "metadata": {},
   "outputs": [],
   "source": [
    "print(DeltaTable.convertToDelta.__doc__)"
   ]
  },
  {
   "cell_type": "markdown",
   "id": "16fff1e5-8bbe-46bf-9699-0354f8290f2c",
   "metadata": {},
   "source": [
    "Состояние директории после конвертации в Delta Lake:"
   ]
  },
  {
   "cell_type": "code",
   "execution_count": null,
   "id": "91d4631a-14f5-4471-b3d9-66f782a37ca7",
   "metadata": {},
   "outputs": [],
   "source": [
    "! source ~/.bash_aliases && \\\n",
    "hdfs dfs -find /user/jovyan/data/taxi"
   ]
  },
  {
   "cell_type": "markdown",
   "id": "9c3fe30f-fbf6-441d-87d6-8468c6f617bd",
   "metadata": {},
   "source": [
    "Директория `_delta_log` содержит метаданные, например схема:"
   ]
  },
  {
   "cell_type": "code",
   "execution_count": null,
   "id": "c8f57c32-ac23-470c-b81a-b34ec232735d",
   "metadata": {},
   "outputs": [],
   "source": [
    "! source ~/.bash_aliases && \\\n",
    "hdfs dfs -cat /user/jovyan/data/taxi/_delta_log/00000000000000000000.json | \\\n",
    "grep metaData | json_pp | \\\n",
    "grep schema | sed 's,\\s*\"schemaString\" : \",,;s,\"$,,;s,\\\\\",\",g' | json_pp > schema.json"
   ]
  },
  {
   "cell_type": "markdown",
   "id": "40ca72e9-123f-4395-8d3f-138702416f1f",
   "metadata": {},
   "source": [
    "Вывод команды сохранен в [schema.json](schema.json)"
   ]
  },
  {
   "cell_type": "markdown",
   "id": "7dd1f8bf-471d-497a-bcf4-6c80b21ae877",
   "metadata": {},
   "source": [
    "Или статистика по колонкам (`min`, `max`, `total`):"
   ]
  },
  {
   "cell_type": "code",
   "execution_count": null,
   "id": "6b47c344-f688-4221-943e-b7a55f85a9ae",
   "metadata": {},
   "outputs": [],
   "source": [
    "! source ~/.bash_aliases && \\\n",
    "hdfs dfs -cat /user/jovyan/data/taxi/_delta_log/00000000000000000000.json | \\\n",
    "grep add |& head -n 1 | json_pp | \\\n",
    "grep stats | sed 's,\\s*\"stats\" : \",,;s,\"$,,;s,\\\\\",\",g' | json_pp > stats.json"
   ]
  },
  {
   "cell_type": "markdown",
   "id": "dd28fc40-cb69-430c-b31c-b5ea9978c140",
   "metadata": {},
   "source": [
    "Вывод команды сохранен в [stats.json](stats.json)"
   ]
  },
  {
   "cell_type": "markdown",
   "id": "0ed00a2c-5019-4348-b5e7-4b1dc826dcfd",
   "metadata": {
    "jp-MarkdownHeadingCollapsed": true
   },
   "source": [
    "## Z-Order оптимизация"
   ]
  },
  {
   "cell_type": "code",
   "execution_count": null,
   "id": "d60f3a34-62d2-4a7b-bf29-ff8f274d8a84",
   "metadata": {},
   "outputs": [],
   "source": [
    "deltaTable = DeltaTable.forPath(spark, taxi_path)"
   ]
  },
  {
   "cell_type": "code",
   "execution_count": null,
   "id": "b3b77ccf-8f27-41b1-93f2-646db90af47b",
   "metadata": {},
   "outputs": [],
   "source": [
    "! source ~/.bash_aliases && \\\n",
    "hdfs dfs -find /user/jovyan/data/taxi"
   ]
  },
  {
   "cell_type": "markdown",
   "id": "437b1eb0-dbce-4962-813f-c3bb31ca96f2",
   "metadata": {},
   "source": [
    "Оптимизация Z-Order позволяет организовать кластеризацию записей, т.е. сохранение похожих данных вместе. Например, если часто нужно получать агрегированные значения среди поездок в такси с разным числом пассажиров, то имеет смысл выполнить Z-Order оптимизацию по колонке `passenger_count`:"
   ]
  },
  {
   "cell_type": "code",
   "execution_count": null,
   "id": "2209eb9e-65e4-4fa3-9a17-15af55d3e7a9",
   "metadata": {},
   "outputs": [],
   "source": [
    "df = deltaTable.optimize().executeZOrderBy(\"passenger_count\")"
   ]
  },
  {
   "cell_type": "code",
   "execution_count": null,
   "id": "ab65af88-4082-435d-9f54-bfa6c5e441f2",
   "metadata": {},
   "outputs": [],
   "source": [
    "! source ~/.bash_aliases && \\\n",
    "hdfs dfs -find /user/jovyan/data/taxi"
   ]
  },
  {
   "cell_type": "markdown",
   "id": "7fca53ba-09a0-4b89-baff-2b627e067fce",
   "metadata": {},
   "source": [
    "Результатом операции [`executeZOrderBy`](https://docs.delta.io/latest/api/python/index.html#delta.tables.DeltaOptimizeBuilder.executeZOrderBy) будет датафрейм со статистикой по операции:"
   ]
  },
  {
   "cell_type": "code",
   "execution_count": null,
   "id": "c111cc20-f4cc-4359-beda-7b5f6db8bf52",
   "metadata": {},
   "outputs": [],
   "source": [
    "df.printSchema()"
   ]
  },
  {
   "cell_type": "code",
   "execution_count": null,
   "id": "6af68610-e204-4b79-9173-600051044ab6",
   "metadata": {},
   "outputs": [],
   "source": [
    "(\n",
    "    df.select(\"metrics.zOrderStats.inputOtherFiles\", \"metrics.zOrderStats.mergedFiles\")\n",
    "        .select(\n",
    "            col(\"inputOtherFiles.num\").alias(\"input_num_files\"), col(\"inputOtherFiles.size\").alias(\"input_size\"),\n",
    "            col(\"mergedFiles.num\").alias(\"merged_num_files\"), col(\"mergedFiles.size\").alias(\"merged_size\")\n",
    "        )\n",
    "        .show(truncate=False)\n",
    ")"
   ]
  },
  {
   "cell_type": "markdown",
   "id": "beb1543e-4f07-4bb3-8bc1-f66b69db63f3",
   "metadata": {},
   "source": [
    "Также статистику можно получить из истории:"
   ]
  },
  {
   "cell_type": "code",
   "execution_count": null,
   "id": "5838a817-4056-4efb-9a46-59127fa1e91a",
   "metadata": {},
   "outputs": [],
   "source": [
    "(\n",
    "deltaTable.history()\n",
    "    .select(\n",
    "        \"version\",\n",
    "        \"timestamp\",\n",
    "        \"operation\",\n",
    "        \"operationMetrics.numRemovedFiles\",\n",
    "        \"operationMetrics.numAddedFiles\",\n",
    "        \"operationMetrics.numConvertedFiles\")\n",
    "    .show(truncate=False)\n",
    ")"
   ]
  },
  {
   "cell_type": "markdown",
   "id": "b1718e07-1200-4e0f-bd9c-32d60ce584af",
   "metadata": {
    "jp-MarkdownHeadingCollapsed": true
   },
   "source": [
    "## Вакуумная очистка"
   ]
  },
  {
   "cell_type": "code",
   "execution_count": null,
   "id": "4f1df825-6eb5-4696-9310-92f58820daa4",
   "metadata": {},
   "outputs": [],
   "source": [
    "deltaTable = DeltaTable.forPath(spark, taxi_path)"
   ]
  },
  {
   "cell_type": "markdown",
   "id": "ea1c3889-ce0f-4ba0-b35d-d15525dd3419",
   "metadata": {},
   "source": [
    "Количество файлов таблицы может расти бесконтрольно, но не все из них нужны. Файлы, которые относятся к старым версиям можно удалять при помощи [`vacuum`](https://docs.delta.io/latest/api/python/index.html#delta.tables.DeltaTable.vacuum):"
   ]
  },
  {
   "cell_type": "code",
   "execution_count": null,
   "id": "dbf197cc-9365-42dc-acb4-5bcee08d52f8",
   "metadata": {},
   "outputs": [],
   "source": [
    "import sys\n",
    "\n",
    "try:\n",
    "    deltaTable.vacuum(\n",
    "        retentionHours=0 # Optional, the default value is 168\n",
    "    )\n",
    "except Exception as e:\n",
    "    print(e, file=sys.stderr)"
   ]
  },
  {
   "cell_type": "markdown",
   "id": "5acf988d-37df-4219-85e3-7b9e05bdaad9",
   "metadata": {},
   "source": [
    "При этом нельзя удалять слишком свежие данные (моложе 168 часов, 7 дней), т.к. зачастую ошибка."
   ]
  },
  {
   "cell_type": "markdown",
   "id": "47a7672a-e20c-4a47-a1aa-e87881e12c25",
   "metadata": {},
   "source": [
    "Если действительно необходимо удалить свежие данные, то необходимо снять проверку:"
   ]
  },
  {
   "cell_type": "code",
   "execution_count": null,
   "id": "99fc0deb-b9ad-42dd-a989-93e9be84d74b",
   "metadata": {},
   "outputs": [],
   "source": [
    "spark.conf.set('spark.databricks.delta.retentionDurationCheck.enabled', False)"
   ]
  },
  {
   "cell_type": "markdown",
   "id": "ca8d436d-0797-4203-891c-595057dadbd8",
   "metadata": {},
   "source": [
    "Текущий список файлов в директории:"
   ]
  },
  {
   "cell_type": "code",
   "execution_count": null,
   "id": "4d032bf9-2547-4189-ae89-762fd9d48b64",
   "metadata": {},
   "outputs": [],
   "source": [
    "! source ~/.bash_aliases && \\\n",
    "hdfs dfs -find /user/jovyan/data/taxi"
   ]
  },
  {
   "cell_type": "code",
   "execution_count": null,
   "id": "e7635ea2-c943-420a-83b8-5181a0aa96b4",
   "metadata": {},
   "outputs": [],
   "source": [
    "deltaTable.vacuum(retentionHours=0)"
   ]
  },
  {
   "cell_type": "markdown",
   "id": "06f721bd-56b0-45e7-9789-bce9f23738c4",
   "metadata": {},
   "source": [
    "_(Желательно возвращать проверку, т.к. она распространяется на все таблицы)_"
   ]
  },
  {
   "cell_type": "code",
   "execution_count": null,
   "id": "9ff11447-4d4e-4a23-856c-59fe6f26e839",
   "metadata": {},
   "outputs": [],
   "source": [
    "spark.conf.set('spark.databricks.delta.retentionDurationCheck.enabled', True)"
   ]
  },
  {
   "cell_type": "markdown",
   "id": "bca9fa07-a8a5-46ca-a485-0e953481b962",
   "metadata": {},
   "source": [
    "Можно заметить, что теперь на файловой системе нет файлов для предыдущих версий:"
   ]
  },
  {
   "cell_type": "code",
   "execution_count": null,
   "id": "16dbe0a6-46a2-43cb-b557-3552d29f8a6c",
   "metadata": {},
   "outputs": [],
   "source": [
    "! source ~/.bash_aliases && \\\n",
    "hdfs dfs -find /user/jovyan/data/taxi"
   ]
  },
  {
   "cell_type": "markdown",
   "id": "74cf7468-0538-4a2e-a499-62667ccb92ad",
   "metadata": {},
   "source": [
    "В истории по прежнему перечислены все версии:"
   ]
  },
  {
   "cell_type": "code",
   "execution_count": null,
   "id": "b73072b4-b67a-4893-a837-ab5fd1ca7202",
   "metadata": {},
   "outputs": [],
   "source": [
    "deltaTable.history().show()"
   ]
  },
  {
   "cell_type": "markdown",
   "id": "996be155-0a7b-4f19-ab4c-b26613df6043",
   "metadata": {},
   "source": [
    "Если запросить данные для версии, файлы которой удалены, то появится ошибка:"
   ]
  },
  {
   "cell_type": "code",
   "execution_count": null,
   "id": "66afb57d-5b55-453f-a36e-651583e292a3",
   "metadata": {},
   "outputs": [],
   "source": [
    "import sys\n",
    "\n",
    "try:\n",
    "    (\n",
    "    spark.read\n",
    "        .format(\"delta\")\n",
    "        .option(\"versionAsOf\", 0)\n",
    "        .load(taxi_path)\n",
    "        .show()\n",
    "    )\n",
    "except Exception as e:\n",
    "    print(e.java_exception.getMessage(), file=sys.stderr)"
   ]
  },
  {
   "cell_type": "code",
   "execution_count": null,
   "id": "7069cf0f-94b3-4637-a12e-6d2bb17e3554",
   "metadata": {},
   "outputs": [],
   "source": [
    "spark.stop()"
   ]
  },
  {
   "cell_type": "markdown",
   "id": "0716dcaf-d824-4223-8612-c48ed2217e23",
   "metadata": {},
   "source": [
    "# Построение Lakehouse архитектуры"
   ]
  },
  {
   "cell_type": "code",
   "execution_count": null,
   "id": "aad745f7-f923-4dee-ae9e-aef6bebece9a",
   "metadata": {},
   "outputs": [],
   "source": [
    "spark.stop()"
   ]
  },
  {
   "cell_type": "markdown",
   "id": "6d3ffc50-43ca-4bec-9215-3b9b8c83eb05",
   "metadata": {},
   "source": [
    "## Пример системы для обработки"
   ]
  },
  {
   "cell_type": "markdown",
   "id": "80ea1ce8-d149-4545-ae1f-329f6dd49221",
   "metadata": {},
   "source": [
    "В качестве демонстрации построения платформы данных на базе шаблона Lakehouse будет рассмотрена система с компьютерными играми и отзывами."
   ]
  },
  {
   "cell_type": "markdown",
   "id": "043a4cc1-1c50-4195-96e9-db88cd9cb741",
   "metadata": {},
   "source": [
    "### Доменная модель"
   ]
  },
  {
   "cell_type": "markdown",
   "id": "78bc13a2-d3ea-44d8-892b-ce4e3c4cc346",
   "metadata": {},
   "source": [
    "Основные сущности системы:\n",
    "- игры - games,\n",
    "- пользователи - users,\n",
    "- отзывы - reviews.\n",
    "\n",
    "Набор игр список пользователей не меняется."
   ]
  },
  {
   "cell_type": "markdown",
   "id": "f9e7a17b-9c01-4f76-b1d0-4abae908ea53",
   "metadata": {},
   "source": [
    "### Формат отзывов"
   ]
  },
  {
   "cell_type": "markdown",
   "id": "1c0836a8-9813-412f-8839-43cf80457a08",
   "metadata": {},
   "source": [
    "Отзывы приходят в формате `json`.\n",
    "\n",
    "Источники отзывов: Metacritic и Игромания."
   ]
  },
  {
   "cell_type": "markdown",
   "id": "695c206e-2b3e-4d71-93e4-39baf7ed147e",
   "metadata": {},
   "source": [
    "Формат отзывов Metacritic:\n",
    "\n",
    "- **id INT**: идентификатор пользователя,\n",
    "- **app_id INT**: идентификатор игры,\n",
    "- **review_date STRING**: дата отзыва в виде строки (`2022-01-01`),\n",
    "- **review STRING**: текст отзыва,\n",
    "- **score INT**: оценка игры по мнению пользователя (цело число в интервале `[0, 100]`: `81`,`95`, и т.д.),\n",
    "- **user_id INT**: идентификатор пользователя."
   ]
  },
  {
   "cell_type": "markdown",
   "id": "5a4ad4d1-ded8-41c9-8e3f-71829500e146",
   "metadata": {},
   "source": [
    "Формат отзывов Игромания:\n",
    "\n",
    "- **id INT**: идентификатор пользователя,\n",
    "- **app_id INT**: идентификатор игры,\n",
    "- **review_date_unix LONG**: дата отзыва в UNIX формате - число секунд с начала эпохи (`1970-01-01`),\n",
    "- **review STRING**: текст отзыва,\n",
    "- **rating FLOAT**: оценка игры по мнению пользователя (десятичное число в интервале `[0, 10]`: `7.3`,`5.2`, и т.д.),\n",
    "- **user_id INT**: идентификатор пользователя."
   ]
  },
  {
   "cell_type": "markdown",
   "id": "dd1eb129-11b0-4e13-b413-968f238ff9eb",
   "metadata": {},
   "source": [
    "Можно увидеть, что схемы входных данных отличаются:\n",
    "\n",
    "- даты в разных форматах,\n",
    "- оценка игры имеет разные названия,\n",
    "- оценка игры имеет разную точность.\n",
    "\n",
    "Следовательно, будет необходимо привести данные к единому формату."
   ]
  },
  {
   "cell_type": "markdown",
   "id": "355bf149-6e21-405c-8cfb-560e50b0f3bf",
   "metadata": {},
   "source": [
    "### Поток данных - Workflow"
   ]
  },
  {
   "cell_type": "markdown",
   "id": "b3a89596-27cb-4fe4-871d-fa8d0c518a71",
   "metadata": {},
   "source": [
    "Источниками данных для отзывов являются данные в формате json, расположенные в HDFS по пути `/user/jovyan/data/games/source`.\n",
    "\n",
    "Поток данных выглядит следующим образом:\n",
    "\n",
    "1. Для каждого входного файла запускается стрим, который генерирует записи с колонками:\n",
    "    - `seen_time TIMESTAMP` - текущее время для индикации времени обработки входных данных в Spark,\n",
    "    - `data STRING` - строки входного файла. Читаются как текст (десериализация в `json` не происходит).\n",
    "1. Бронзовые таблицы являются приемниками стримов источников данных;\n",
    "1. Каждая бронзовая таблица стартует стрим, который:\n",
    "    - разбирает колонку `data` по json схеме,\n",
    "    - добавляет колонку с именем источника,\n",
    "    - указывает значение ID, котрое будет уникальным среди всех данных бронзовых таблиц.\n",
    "1. Все стримы бронзовых таблиц записывают свои данные в **одну** серебрянную таблицу;\n",
    "1. Для единственной серебрянной таблицы стартует стрим, который создает золотуют таблицу как таблицу фактов с колонками:\n",
    "    - `user_id` - идентификатор пользователя,\n",
    "    - `app_id` - идентификатор игры,\n",
    "    - `review_id` - идентификатор отзыва."
   ]
  },
  {
   "cell_type": "markdown",
   "id": "b858515e-3229-4d0e-ba38-0b5ae0de16a4",
   "metadata": {},
   "source": [
    "Картинка ниже демонстрирует поток данных между слоями:\n",
    "\n",
    "\n",
    "![](../imgs/spark-steam-reviews-worflow.drawio.png)"
   ]
  },
  {
   "cell_type": "markdown",
   "id": "6dfcf650-74c5-4ffb-8ac8-833fcd50a46d",
   "metadata": {},
   "source": [
    "Цветовой индикацией отмечены поля одинаковые по смыслу, но отличающиеся по форме, которые необходимо унифицировать"
   ]
  },
  {
   "cell_type": "markdown",
   "id": "d720937c-d22f-4933-83bd-a41845d571bb",
   "metadata": {},
   "source": [
    "Интересной возможностью Spark Structured Streaming является стриминг данных из директорий, именно на базе этой идеи поток данных и будет работать."
   ]
  },
  {
   "cell_type": "markdown",
   "id": "c9fbb4ca-3d07-465f-9f7c-265460d707ed",
   "metadata": {},
   "source": []
  },
  {
   "cell_type": "markdown",
   "id": "f9f92a65-0fe3-4768-80fb-d7951409bd32",
   "metadata": {},
   "source": []
  },
  {
   "cell_type": "markdown",
   "id": "1a427d1b-8219-45ee-b92a-c64f5c6980a1",
   "metadata": {},
   "source": [
    "## Запуск приложения"
   ]
  },
  {
   "cell_type": "code",
   "execution_count": null,
   "id": "51d63830-d63f-4f12-a0da-7a5a15941c1e",
   "metadata": {},
   "outputs": [],
   "source": [
    "from pyspark.sql import SparkSession\n",
    "from pyspark.sql.dataframe import DataFrame\n",
    "from pyspark.sql.functions import col\n",
    "from pyspark.sql import functions as F"
   ]
  },
  {
   "cell_type": "code",
   "execution_count": null,
   "id": "381a1a25-8eef-4e8a-a6dc-c6b3f83830bf",
   "metadata": {},
   "outputs": [],
   "source": [
    "from delta import configure_spark_with_delta_pip\n",
    "from delta.tables import DeltaTable"
   ]
  },
  {
   "cell_type": "code",
   "execution_count": null,
   "id": "d8cb9d9b-7d91-4c63-a177-ab1f6ed266da",
   "metadata": {},
   "outputs": [],
   "source": [
    "src_games_path = \"data/steam/games\"\n",
    "\n",
    "base_path = \"data/games\"\n",
    "source_path = base_path + \"/source\"\n",
    "\n",
    "checkpoint_path = base_path + \"/checkpoints\""
   ]
  },
  {
   "cell_type": "code",
   "execution_count": null,
   "id": "3eeb77b0-5629-4dc6-9488-48be27ec8509",
   "metadata": {},
   "outputs": [],
   "source": [
    "builder = (\n",
    "    SparkSession\n",
    "        .builder\n",
    "        .appName(\"Delta Demo\")\n",
    "        .master(\"local[4]\")\n",
    "        .config(\"spark.sql.warehouse.dir\", \"data/spark-warehouse\")\n",
    "        .config(\"hive.metastore.uris\", \"thrift://hive:9083\")\n",
    "        .config(\"spark.sql.extensions\", \"io.delta.sql.DeltaSparkSessionExtension\")\n",
    "        .config(\"spark.sql.catalog.spark_catalog\", \"org.apache.spark.sql.delta.catalog.DeltaCatalog\")\n",
    "        .enableHiveSupport()\n",
    ")\n",
    "\n",
    "spark = configure_spark_with_delta_pip(builder) \\\n",
    "    .getOrCreate()\n",
    "\n",
    "sc = spark.sparkContext"
   ]
  },
  {
   "cell_type": "markdown",
   "id": "6cdfd2da-1cc3-4473-9d92-4889cf95016c",
   "metadata": {},
   "source": [
    "Состояние Spark Catalog:"
   ]
  },
  {
   "cell_type": "code",
   "execution_count": null,
   "id": "36b5846e-5988-4985-87f0-2b8048e3cd7a",
   "metadata": {},
   "outputs": [],
   "source": [
    "spark.catalog.listTables()"
   ]
  },
  {
   "cell_type": "markdown",
   "id": "f6d1ba12-c92a-46d3-9527-f563d6167a5d",
   "metadata": {},
   "source": [
    "## Подготовка данных"
   ]
  },
  {
   "cell_type": "markdown",
   "id": "42a13963-aaea-49f9-81b1-757727918d8a",
   "metadata": {},
   "source": [
    "### Обновить директорию с данными"
   ]
  },
  {
   "cell_type": "code",
   "execution_count": null,
   "id": "c49462f8-4c5c-414e-96a1-d9e64f1fe280",
   "metadata": {},
   "outputs": [],
   "source": [
    "! source ~/.bash_aliases && \\\n",
    "hdfs dfs -rm -r -f data/games"
   ]
  },
  {
   "cell_type": "code",
   "execution_count": null,
   "id": "85bb76ce-1252-408b-86ac-9ca2a5ad7593",
   "metadata": {},
   "outputs": [],
   "source": [
    "prepare_src_data(sc, \"data\")"
   ]
  },
  {
   "cell_type": "markdown",
   "id": "f622e896-2cc1-4646-910c-c93d21ef86ca",
   "metadata": {},
   "source": [
    "Файлы загружены в HDFS:"
   ]
  },
  {
   "cell_type": "code",
   "execution_count": null,
   "id": "2264ad81-9bc3-4063-87e4-e058c0228651",
   "metadata": {},
   "outputs": [],
   "source": [
    "! source ~/.bash_aliases && \\\n",
    "hdfs dfs -find /user/jovyan/data"
   ]
  },
  {
   "cell_type": "markdown",
   "id": "63a41c8e-a11e-41d1-ba8c-5ede6ada7be7",
   "metadata": {},
   "source": [
    "### Генерация синтетических отзывов"
   ]
  },
  {
   "cell_type": "markdown",
   "id": "f0c206f9-06ad-424e-bda8-1ec490385e3c",
   "metadata": {},
   "source": [
    "Конвертация `games` в Delta Lake:"
   ]
  },
  {
   "cell_type": "code",
   "execution_count": null,
   "id": "bdb3ffdc-1962-4c3c-a2b7-7c796cd82aac",
   "metadata": {},
   "outputs": [],
   "source": [
    "(\n",
    "    spark\n",
    "        .read\n",
    "        .parquet(src_games_path)\n",
    "        .write\n",
    "        .format(\"delta\")\n",
    "        .mode(\"overwrite\")\n",
    "        .saveAsTable(\"games\")\n",
    ")"
   ]
  },
  {
   "cell_type": "markdown",
   "id": "3e40f925-38ac-4596-82eb-6cb01e560ed4",
   "metadata": {},
   "source": [
    "Утилитные методы для генерации отзывов:"
   ]
  },
  {
   "cell_type": "code",
   "execution_count": null,
   "id": "7d77cdac-f395-45dd-bea8-524b7259556e",
   "metadata": {},
   "outputs": [],
   "source": [
    "from random import randrange\n",
    "\n",
    "def generate_reviews(\n",
    "    ids_range,\n",
    "    rating, date,\n",
    "    max_users=100000\n",
    "):\n",
    "    games_df = spark.table(\"games\")\n",
    "\n",
    "    ids = [ F.lit(x) for x in ids_range ]\n",
    "    \n",
    "    return (games_df\n",
    "        .withColumn(\"id\", F.explode(F.array(ids)))\n",
    "        .select(\n",
    "            F.expr(\"app_id * 1000000 + id\").alias(\"id\"),\n",
    "            \"app_id\",\n",
    "            date,\n",
    "            col(\"title\").alias(\"review\"),\n",
    "            rating,\n",
    "            F.floor(F.rand() * max_users).alias(\"user_id\"),\n",
    "        )\n",
    "    )\n",
    "\n",
    "def generate_reviews_metacritic(ids_range):\n",
    "    rating=F.floor(F.rand() * 100).alias(\"score\")\n",
    "    date=F.expr(\"STRING(DATE_ADD(date_release, CAST(floor(rand() * 500) AS INT)))\").alias(\"review_date\")\n",
    "    return generate_reviews(ids_range, rating, date)\n",
    "\n",
    "def generate_reviews_igromania(ids_range):\n",
    "    rating=F.round(F.rand() * 10, 1).alias(\"rating\")\n",
    "    date=F.expr(\"unix_timestamp() + floor(rand() * 2 * 12 * 30 * 24 * 60 * 60)\").alias(\"review_date_unix\")\n",
    "    return generate_reviews(ids_range, rating, date)"
   ]
  },
  {
   "cell_type": "markdown",
   "id": "9deaec59-ea0c-4f77-a851-50bfb693241b",
   "metadata": {},
   "source": [
    "Подготовка датарфеймов с отзывами:"
   ]
  },
  {
   "cell_type": "code",
   "execution_count": null,
   "id": "e72b7744-5eb6-46bb-9409-48aeaba2f1d7",
   "metadata": {},
   "outputs": [],
   "source": [
    "reviews_metacritic = generate_reviews_metacritic(ids_range=range(1, 10))\n",
    "reviews_igromania = generate_reviews_igromania(ids_range=range(1, 5))"
   ]
  },
  {
   "cell_type": "code",
   "execution_count": null,
   "id": "5427eba6-59db-4486-b9db-c59c99896d5b",
   "metadata": {},
   "outputs": [],
   "source": [
    "reviews_metacritic.show(5, truncate=False)\n",
    "reviews_igromania.show(5, truncate=False)"
   ]
  },
  {
   "cell_type": "markdown",
   "id": "bf181ef5-1f4d-4c63-814e-76a5198a7c56",
   "metadata": {},
   "source": [
    "Функция `save_df` абстрагирует сохранение датафрейма на диск:"
   ]
  },
  {
   "cell_type": "code",
   "execution_count": null,
   "id": "4478fe70-2d3b-4565-987a-4abaa3e481c8",
   "metadata": {},
   "outputs": [],
   "source": [
    "def save_df(df, location, format=\"delta\", mode=\"append\"):\n",
    "    (\n",
    "    df\n",
    "        .write\n",
    "        .format(format)\n",
    "        .mode(mode)\n",
    "        .save(location)\n",
    "    )"
   ]
  },
  {
   "cell_type": "code",
   "execution_count": null,
   "id": "87d92ca0-596a-4596-a518-26ccaa4650e0",
   "metadata": {},
   "outputs": [],
   "source": [
    "save_df(reviews_metacritic, f\"{source_path}/reviews_metacritic\", format=\"json\", mode='overwrite')\n",
    "save_df(reviews_igromania, f\"{source_path}/reviews_igromania\", format=\"json\", mode='overwrite')"
   ]
  },
  {
   "cell_type": "markdown",
   "id": "d667388d-569c-4460-9209-3c2fa3eb5a9f",
   "metadata": {},
   "source": [
    "Проверить, что нет дублей по ключу:"
   ]
  },
  {
   "cell_type": "code",
   "execution_count": null,
   "id": "34557551-4651-4334-9a2e-93ff5c2a427f",
   "metadata": {},
   "outputs": [],
   "source": [
    "def check_duplicates(location: str, format: str=\"delta\"):\n",
    "    return (\n",
    "        spark.read\n",
    "            .format(format)\n",
    "            .option(\"path\", location)\n",
    "            .load()\n",
    "            .groupBy(\"id\")\n",
    "            .count()\n",
    "            .where(\"count > 1\")\n",
    "    )"
   ]
  },
  {
   "cell_type": "code",
   "execution_count": null,
   "id": "3147ac30-72f7-426a-bac3-178be60e195e",
   "metadata": {},
   "outputs": [],
   "source": [
    "check_duplicates(f\"{source_path}/reviews_metacritic\", \"json\").count()"
   ]
  },
  {
   "cell_type": "code",
   "execution_count": null,
   "id": "fc97336b-0c81-4bc0-8491-6c480e65b07a",
   "metadata": {},
   "outputs": [],
   "source": [
    "check_duplicates(f\"{source_path}/reviews_igromania\", \"json\").count()"
   ]
  },
  {
   "cell_type": "markdown",
   "id": "a433ad09-6480-46b1-bedf-713ab3743b07",
   "metadata": {},
   "source": [
    "### Генерация синтетических пользователей"
   ]
  },
  {
   "cell_type": "markdown",
   "id": "e6ae0248-1279-415e-897d-680a6fb7157f",
   "metadata": {},
   "source": [
    "Пользователи будут иметь следующие атрибуты:\n",
    "\n",
    "- идентификатор: `id`,\n",
    "- имя пользователя: `username`,\n",
    "- половая принадлежность: `gender`,\n",
    "- дата рождения (date of birth): `dob`.\n",
    "\n",
    "Всего будет подготовлено 90 тысяч пользователей"
   ]
  },
  {
   "cell_type": "code",
   "execution_count": null,
   "id": "ea44a3c7-934d-43dc-a9db-871445996e34",
   "metadata": {},
   "outputs": [],
   "source": [
    "users_df = (\n",
    "    spark.range(0, 90000)\n",
    "        .withColumn(\"username\", F.concat(F.lit(\"user\"), F.lit(\"_\"), col(\"id\")))\n",
    "        .withColumn(\"gender\", F.when(F.rand() > 0.6, \"F\").otherwise(\"M\"))\n",
    "        .withColumn(\"dob\", F.expr(\"ADD_MONTHS(current_date(), -CAST(floor(rand() * 25 * 12) AS INT) -10 * 12)\"))\n",
    ")\n",
    "users_df.show(5)"
   ]
  },
  {
   "cell_type": "code",
   "execution_count": null,
   "id": "31d710ed-c693-416b-be43-04f996f33ccf",
   "metadata": {},
   "outputs": [],
   "source": [
    "users_df.write.format(\"delta\").mode(\"overwrite\").saveAsTable(\"users\")"
   ]
  },
  {
   "cell_type": "code",
   "execution_count": null,
   "id": "a57c2626-3d15-44be-aab3-b388c257f452",
   "metadata": {},
   "outputs": [],
   "source": [
    "spark.catalog.listTables()"
   ]
  },
  {
   "cell_type": "markdown",
   "id": "1dca9a21-8434-41d6-a57c-9ef9a4031485",
   "metadata": {},
   "source": [
    "## Уровни данных"
   ]
  },
  {
   "cell_type": "markdown",
   "id": "84226a15-a770-4de8-9bf2-04a7beaf854e",
   "metadata": {},
   "source": [
    "Архитектура Lakehouse различает три уровня данных:\n",
    "\n",
    "- **бронзовый уровень (Bronze Layer)**: данные, которые попали в Data Lake без модификации с добавлением метаданных (например, дата поступления строки);\n",
    "- **серебрянный уровень (Silver Layer)**: очищенные бронзовые данные, имеющие определенную структуру;\n",
    "- **золотой уровень (Golden Layer)**: данные, готовые, пригодные для запросов с витрин данных (Data Mart)."
   ]
  },
  {
   "cell_type": "markdown",
   "id": "4c4363d4-763c-4a7c-8912-e306cb652f65",
   "metadata": {},
   "source": [
    "### Бронзовый уровень - Bronze Layer"
   ]
  },
  {
   "cell_type": "code",
   "execution_count": null,
   "id": "524fbeca-5e17-444e-b3a9-8dd9959b7039",
   "metadata": {},
   "outputs": [],
   "source": [
    "spark.sql(\"DROP TABLE IF EXISTS bronze_reviews_igromania\")"
   ]
  },
  {
   "cell_type": "code",
   "execution_count": null,
   "id": "acb429c3-2cb8-424e-ba82-31ade94a5716",
   "metadata": {},
   "outputs": [],
   "source": [
    "spark.sql(\"DROP TABLE IF EXISTS bronze_reviews_metacritic\")"
   ]
  },
  {
   "cell_type": "markdown",
   "id": "6603c8cb-5b4a-4417-847e-345062c8c01f",
   "metadata": {},
   "source": [
    "Бронзовые данные будут представлять собой таблциы с двумя колоками:\n",
    "\n",
    "- `seen_time` дата поступления строки,\n",
    "- `data` входные json данные в текстовом виде."
   ]
  },
  {
   "cell_type": "code",
   "execution_count": null,
   "id": "7d74964e-742c-4a60-841a-21f3ca2f88c3",
   "metadata": {},
   "outputs": [],
   "source": [
    "def ingest_raw_reviews(source_path: str, checkpoint_dir: str, sink_table_name: str):\n",
    "    raw_reviews_read_stream = (\n",
    "        spark.readStream\n",
    "                .format(\"text\")\n",
    "                .schema(\"data STRING\")\n",
    "                .option(\"maxFilesPerTrigger\", 1)\n",
    "                .option(\"checkpointLocation\", checkpoint_dir)\n",
    "                .load(source_path)\n",
    "                .withColumn(\"seen_time\", F.current_timestamp())\n",
    "    )\n",
    "    \n",
    "    return (\n",
    "        raw_reviews_read_stream\n",
    "            .writeStream\n",
    "            .queryName(f\"Lakehouse: {source_path} -> {sink_table_name}\")\n",
    "            .format(\"delta\")\n",
    "            .option(\"checkpointLocation\", checkpoint_dir)\n",
    "            .outputMode(\"append\")\n",
    "            .trigger(processingTime='5 seconds')\n",
    "            .toTable(sink_table_name)\n",
    "    )"
   ]
  },
  {
   "cell_type": "code",
   "execution_count": null,
   "id": "ad51f4d0-dada-4481-854d-3dd46c559926",
   "metadata": {},
   "outputs": [],
   "source": [
    "bronze_reviews_igromania_stream = ingest_raw_reviews(\n",
    "    source_path=f\"{source_path}/reviews_igromania\",\n",
    "    checkpoint_dir=f\"{checkpoint_path}/igromania\",\n",
    "    sink_table_name=\"bronze_reviews_igromania\"\n",
    ")"
   ]
  },
  {
   "cell_type": "code",
   "execution_count": null,
   "id": "b757dedd-7660-4098-bdcb-271d0a3e3d44",
   "metadata": {},
   "outputs": [],
   "source": [
    "bronze_reviews_metacritic_stream = ingest_raw_reviews(\n",
    "    source_path=f\"{source_path}/reviews_metacritic\",\n",
    "    checkpoint_dir=f\"{checkpoint_path}/metacritic\",\n",
    "    sink_table_name=\"bronze_reviews_metacritic\"\n",
    ")"
   ]
  },
  {
   "cell_type": "code",
   "execution_count": null,
   "id": "1ab56e98-83ba-4c84-9bc9-d35008e85e2a",
   "metadata": {},
   "outputs": [],
   "source": [
    "spark.table(\"bronze_reviews_igromania\").show(5, vertical=True, truncate=False)"
   ]
  },
  {
   "cell_type": "code",
   "execution_count": null,
   "id": "529dcf84-9926-4f57-8fef-8e1410bed26e",
   "metadata": {},
   "outputs": [],
   "source": [
    "spark.table(\"bronze_reviews_metacritic\").show(5, vertical=True, truncate=False)"
   ]
  },
  {
   "cell_type": "code",
   "execution_count": null,
   "id": "bff17b83-3291-4b98-82bc-2d75e2595dea",
   "metadata": {},
   "outputs": [],
   "source": [
    "spark.table(\"bronze_reviews_igromania\").count()"
   ]
  },
  {
   "cell_type": "code",
   "execution_count": null,
   "id": "9b627008-eda9-4bf6-8979-1082ce4ce0b0",
   "metadata": {},
   "outputs": [],
   "source": [
    "spark.table(\"bronze_reviews_metacritic\").count()"
   ]
  },
  {
   "cell_type": "code",
   "execution_count": null,
   "id": "1a622f8c-35b0-43d8-809d-e090b9ca8b3e",
   "metadata": {},
   "outputs": [],
   "source": [
    "spark.table(\"bronze_reviews_igromania\").count()"
   ]
  },
  {
   "cell_type": "code",
   "execution_count": null,
   "id": "6b836740-0534-4697-a290-421e8998df24",
   "metadata": {},
   "outputs": [],
   "source": [
    "spark.table(\"bronze_reviews_metacritic\").count()"
   ]
  },
  {
   "cell_type": "code",
   "execution_count": null,
   "id": "c6003aa6-0860-482f-8abe-fbed2a9b7a22",
   "metadata": {},
   "outputs": [],
   "source": [
    "spark.table(\"bronze_reviews_igromania\").select(F.count_distinct(\"seen_time\")).show()"
   ]
  },
  {
   "cell_type": "markdown",
   "id": "01334ab7-c34f-4add-8205-17e396dc20d7",
   "metadata": {},
   "source": [
    "### Серебрянный уровень - Silver Layer"
   ]
  },
  {
   "cell_type": "markdown",
   "id": "40d69615-92bf-4de8-a90e-c3e941098f67",
   "metadata": {},
   "source": [
    "Серебрянный уровень содержит очищенные данные. В нашем случае, входные данные из бронзовых таблицы разбираются JSON парсером, и результат попадает в таблицу `silver_reviews`. В результате:\n",
    "\n",
    "- две бронзовые таблицы `bronze_reviews_igromania` и `` сливаются в одну `silver_reviews` таблицу,\n",
    "- имена и типы колонок унифицируются,\n",
    "- значения `rating` масштабируются на интервал целых чисел `[0-100]`,\n",
    "- каждая строка помечается из какого источника она пришла,\n",
    "- каждая строка имеет уникальный идентификатор среди всех источников данных, вычисленный по формуле `ИМЯ_ИСТОЧНИКА + '_' + ID`."
   ]
  },
  {
   "cell_type": "code",
   "execution_count": null,
   "id": "e3e652b6-f649-4b90-96e7-d4c7a8dbb4c5",
   "metadata": {},
   "outputs": [],
   "source": [
    "spark.sql(\"DROP TABLE IF EXiSTS silver_reviews\")"
   ]
  },
  {
   "cell_type": "code",
   "execution_count": null,
   "id": "f2572e8c-7970-4372-a306-496c9ef4f16f",
   "metadata": {},
   "outputs": [],
   "source": [
    "def ingest_bronze_reviews(bronze_table: str, checkpoint_dir: str, sink_table_name: str, json_parser, *cols):\n",
    "    bronze_reviews_read_stream = (\n",
    "        spark.readStream\n",
    "                .format(\"delta\")\n",
    "                .option(\"maxFilesPerTrigger\", 1)\n",
    "                .option(\"checkpointLocation\", checkpoint_dir)\n",
    "                .table(bronze_table)\n",
    "                .select(\"seen_time\", json_parser)\n",
    "                .select(*cols)\n",
    "    )\n",
    "    \n",
    "    return (\n",
    "        bronze_reviews_read_stream\n",
    "            .writeStream\n",
    "            .queryName(f\"Lakehouse: {bronze_table} -> {sink_table_name}\")\n",
    "            .format(\"delta\")\n",
    "            .option(\"checkpointLocation\", checkpoint_dir)\n",
    "            .outputMode(\"append\")\n",
    "            .trigger(processingTime='5 seconds')\n",
    "            .toTable(sink_table_name)\n",
    "    )"
   ]
  },
  {
   "cell_type": "code",
   "execution_count": null,
   "id": "4fe60167-06e2-4920-8396-aaef1e64842f",
   "metadata": {},
   "outputs": [],
   "source": [
    "reviews_igromania.printSchema()"
   ]
  },
  {
   "cell_type": "code",
   "execution_count": null,
   "id": "63490060-f7ab-40d5-aedd-4d0bb3dc930c",
   "metadata": {},
   "outputs": [],
   "source": [
    "igromania_json_parser = F.from_json(\n",
    "    \"data\",\n",
    "    \"\"\"\n",
    "        id INT,\n",
    "        app_id INT,\n",
    "        review_date_unix LONG,\n",
    "        review STRING,\n",
    "        rating DOUBLE,\n",
    "        user_id LONG\n",
    "    \"\"\"\n",
    ").alias(\"payload\")\n",
    "\n",
    "silver_reviews_from_igromania_stream = ingest_bronze_reviews(\n",
    "    \"bronze_reviews_igromania\",            # `bronze_table` param\n",
    "    f\"{checkpoint_path}/igromania_bronze\", # `checkpoint_dir` param\n",
    "    \"silver_reviews\",                      # `sink_table_name` param\n",
    "    igromania_json_parser,                 # `json_parser` param\n",
    "\n",
    "    # columns to select after parsing the json:\n",
    "    \"seen_time\",\n",
    "    F.concat(F.lit(\"IGROMANIA\"), col(\"payload.id\")).alias(\"id\"),\n",
    "    \"payload.app_id\",\n",
    "    F.from_unixtime(\"payload.review_date_unix\").cast(\"TIMESTAMP\").alias(\"review_ts\"),\n",
    "    \"payload.review\",\n",
    "    F.floor(col(\"payload.rating\") * 10).alias(\"rating\"),\n",
    "    \"payload.user_id\",\n",
    "    F.lit(\"IGROMANIA\").alias(\"source\")\n",
    ")"
   ]
  },
  {
   "cell_type": "code",
   "execution_count": null,
   "id": "691f11e5-8545-4bf0-91c5-d9bed5e1f0ae",
   "metadata": {},
   "outputs": [],
   "source": [
    "spark.table(\"silver_reviews\").count()"
   ]
  },
  {
   "cell_type": "code",
   "execution_count": null,
   "id": "9676ea8e-73b6-4181-bf9d-78cca4c384bb",
   "metadata": {},
   "outputs": [],
   "source": [
    "reviews_metacritic.printSchema()"
   ]
  },
  {
   "cell_type": "code",
   "execution_count": null,
   "id": "e9a54dae-b69e-4286-807f-6a45d2782330",
   "metadata": {},
   "outputs": [],
   "source": [
    "metacritic_json_parser = F.from_json(\n",
    "    \"data\",\n",
    "    \"\"\"\n",
    "        id LONG,\n",
    "        app_id INT,\n",
    "        review_date STRING,\n",
    "        review STRING,\n",
    "        score INT,\n",
    "        user_id LONG\n",
    "    \"\"\"\n",
    ").alias(\"payload\")\n",
    "\n",
    "silver_reviews_from_metacritic_stream = ingest_bronze_reviews(\n",
    "    \"bronze_reviews_metacritic\",            # `bronze_table` param\n",
    "    f\"{checkpoint_path}/metacritic_bronze\", # `checkpoint_dir` param\n",
    "    \"silver_reviews\",                       # `sink_table_name` param\n",
    "    metacritic_json_parser,                 # `json_parser` param\n",
    "\n",
    "    # columns to select after parsing the json:\n",
    "    \"seen_time\",\n",
    "    F.concat(F.lit(\"METACRITIC\"), col(\"payload.id\")).alias(\"id\"),\n",
    "    \"payload.app_id\",\n",
    "    F.to_timestamp(\"payload.review_date\").alias(\"review_ts\"),\n",
    "    \"payload.review\",\n",
    "    F.floor(col(\"payload.score\")).alias(\"rating\"),\n",
    "    \"payload.user_id\",\n",
    "    F.lit(\"METACRITIC\").alias(\"source\")\n",
    ")"
   ]
  },
  {
   "cell_type": "code",
   "execution_count": null,
   "id": "6cafce6a-eaf3-4c1b-ba27-373f1dc0111c",
   "metadata": {},
   "outputs": [],
   "source": [
    "spark.table(\"silver_reviews\").count()"
   ]
  },
  {
   "cell_type": "code",
   "execution_count": null,
   "id": "299f30bb-2701-471c-9656-13b4b20633ee",
   "metadata": {},
   "outputs": [],
   "source": [
    "spark.table(\"silver_reviews\").show(10, truncate=False)"
   ]
  },
  {
   "cell_type": "markdown",
   "id": "82c417df-e0f7-405f-8a6b-76c12ff6437e",
   "metadata": {},
   "source": [
    "### Золотой уровень - Golden Layer"
   ]
  },
  {
   "cell_type": "markdown",
   "id": "97ef2164-03ee-4c04-961a-6509fc0c1209",
   "metadata": {},
   "source": [
    "Таблицы на золотом уровне находятся в формате готовом для витрин данных. Одним из самых распространенных форматов является схема \"Звезда\": таблица фактов + таблицы измерений."
   ]
  },
  {
   "cell_type": "markdown",
   "id": "d3ac43ea-e9cc-4166-be48-c3daccff75ec",
   "metadata": {},
   "source": [
    "Создадим таблицу фактов на базе серебрянной таблицы `silver_reviews` для следующего запроса:"
   ]
  },
  {
   "cell_type": "code",
   "execution_count": null,
   "id": "5c005a16-a8ff-47ac-8954-9c1091d84185",
   "metadata": {},
   "outputs": [],
   "source": [
    "df = (\n",
    "    spark.table(\"silver_reviews\")\n",
    "        .select(\n",
    "            col(\"id\").alias(\"review_id\"),\n",
    "            \"app_id\",\n",
    "            \"user_id\"\n",
    "        )\n",
    ")\n",
    "df.show(5, truncate=False)"
   ]
  },
  {
   "cell_type": "code",
   "execution_count": null,
   "id": "ba8acc03-7176-4dc3-98e3-0cccafdad427",
   "metadata": {},
   "outputs": [],
   "source": [
    "spark.sql(\"DROP TABLE IF EXISTS golden_review_facts\")"
   ]
  },
  {
   "cell_type": "code",
   "execution_count": null,
   "id": "288eb085-460c-46bb-b51e-20692d072156",
   "metadata": {},
   "outputs": [],
   "source": [
    "def ingest_silver_reviews(silver_table: str, checkpoint_dir: str, sink_table_name: str, *cols):\n",
    "    silver_reviews_read_stream = (\n",
    "        spark.readStream\n",
    "                .format(\"delta\")\n",
    "                .option(\"maxFilesPerTrigger\", 1)\n",
    "                .option(\"checkpointLocation\", checkpoint_dir)\n",
    "                .table(silver_table)\n",
    "                .select(*cols)\n",
    "    )\n",
    "    \n",
    "    return (\n",
    "        silver_reviews_read_stream\n",
    "            .writeStream\n",
    "            .queryName(f\"Lakehouse: {silver_table} -> {sink_table_name}\")\n",
    "            .format(\"delta\")\n",
    "            .option(\"checkpointLocation\", checkpoint_dir)\n",
    "            .outputMode(\"append\")\n",
    "            .trigger(processingTime='5 seconds')\n",
    "            .toTable(sink_table_name)\n",
    "    )"
   ]
  },
  {
   "cell_type": "code",
   "execution_count": null,
   "id": "74bc3b42-0d72-488e-8288-296a4df77ec4",
   "metadata": {},
   "outputs": [],
   "source": [
    "spark.table(\"silver_reviews\").printSchema()"
   ]
  },
  {
   "cell_type": "code",
   "execution_count": null,
   "id": "660e7326-e0f4-4959-a998-91d916ffa05b",
   "metadata": {},
   "outputs": [],
   "source": [
    "golden_review_facts_stream = ingest_silver_reviews(\n",
    "    \"silver_reviews\",                         # `silver_table` param\n",
    "    f\"{checkpoint_path}/review_facts_golden\", # `checkpoint_dir` param\n",
    "    \"golden_review_facts\",                    # `sink_table_name` param\n",
    "\n",
    "    # columns for dimensions\n",
    "    col(\"id\").alias(\"review_id\"),\n",
    "    \"app_id\",\n",
    "    \"user_id\"\n",
    ")"
   ]
  },
  {
   "cell_type": "code",
   "execution_count": null,
   "id": "0d7eadcb-faa0-473b-9fda-1f54c0229cc7",
   "metadata": {},
   "outputs": [],
   "source": [
    "spark.table(\"golden_review_facts\").count()"
   ]
  },
  {
   "cell_type": "code",
   "execution_count": null,
   "id": "6b077774-f487-405b-b062-ea14954d116a",
   "metadata": {},
   "outputs": [],
   "source": [
    "spark.catalog.listTables()"
   ]
  },
  {
   "cell_type": "markdown",
   "id": "420dc8f9-5bae-4047-a68a-c6709e69e8e0",
   "metadata": {},
   "source": [
    "При помощи таблицы фактов, можно собирать агрегацию по пользователям:"
   ]
  },
  {
   "cell_type": "code",
   "execution_count": null,
   "id": "ee6c7d5b-c986-4b8b-ab5e-599964de70e9",
   "metadata": {},
   "outputs": [],
   "source": [
    "review_facts = spark.table(\"golden_review_facts\")\n",
    "users = spark.table(\"users\")"
   ]
  },
  {
   "cell_type": "markdown",
   "id": "b9a83698-9383-4f30-829e-c7ed7101e53c",
   "metadata": {},
   "source": [
    "Например, можно число отзывов для пользователей, чей идентификатор оканчивается на `1412`:"
   ]
  },
  {
   "cell_type": "code",
   "execution_count": null,
   "id": "1c4af094-9ab5-491d-90af-d10a5b521c18",
   "metadata": {},
   "outputs": [],
   "source": [
    "users.where(\"id % 10000 = 1412\").show()"
   ]
  },
  {
   "cell_type": "code",
   "execution_count": null,
   "id": "3ed2695a-ee35-42c4-b2fa-bb7fa8891f1f",
   "metadata": {},
   "outputs": [],
   "source": [
    "reviews_users = (\n",
    "    review_facts.alias(\"f\")\n",
    "        .join(\n",
    "            users.alias(\"u\"),\n",
    "            col(\"f.user_id\") == col(\"u.id\")\n",
    "        )\n",
    "        .where(\"u.id % 10000 = 1412\")\n",
    "        .groupBy(\"u.id\", \"u.username\")\n",
    "        .count()\n",
    "        .orderBy(\"count\")\n",
    ")\n",
    "reviews_users.show()"
   ]
  },
  {
   "cell_type": "markdown",
   "id": "c3d60ce6-d09e-407c-96bb-5838e41057fe",
   "metadata": {},
   "source": [
    "Если в источники добавить новые отзывы, то знчения автоматически пересчитаются:"
   ]
  },
  {
   "cell_type": "code",
   "execution_count": null,
   "id": "da8d50cc-8061-4b23-abf3-97a683f996b3",
   "metadata": {},
   "outputs": [],
   "source": [
    "reviews_metacritic = generate_reviews_metacritic(ids_range=range(30, 40))\n",
    "reviews_igromania = generate_reviews_igromania(ids_range=range(21, 25))"
   ]
  },
  {
   "cell_type": "code",
   "execution_count": null,
   "id": "6087d920-4462-41f9-b196-648f0ce2a37b",
   "metadata": {},
   "outputs": [],
   "source": [
    "save_df(reviews_metacritic, f\"{source_path}/reviews_metacritic\", format=\"json\", mode='append')\n",
    "save_df(reviews_igromania, f\"{source_path}/reviews_igromania\", format=\"json\", mode='append')"
   ]
  },
  {
   "cell_type": "code",
   "execution_count": null,
   "id": "d5f9a69e-7804-421a-9fbf-832a576ced55",
   "metadata": {},
   "outputs": [],
   "source": [
    "reviews_users.show()"
   ]
  },
  {
   "cell_type": "markdown",
   "id": "c0ead62c-a220-4686-87d3-d3f060b44394",
   "metadata": {},
   "source": [
    "## Внешний анализ данных на Apache Superset"
   ]
  },
  {
   "cell_type": "markdown",
   "id": "f35b0f2c-b079-4617-9412-6949dda49bd1",
   "metadata": {},
   "source": [
    "Для демонстрации возможностей нашей Lakehouse платформы подключим внешнюю систему для анализа и визуализации данных [Apache Superset](https://superset.apache.org/)."
   ]
  },
  {
   "cell_type": "markdown",
   "id": "e6cf01e4-513f-451e-9714-d8b40620b277",
   "metadata": {},
   "source": [
    "Apache Superset умеет подключать большое число внешних баз данных, но нас интересует возможностей построения отчетов на базе Delta Lake файлов в нашем озере данных."
   ]
  },
  {
   "cell_type": "markdown",
   "id": "0171f845-ddc5-4ce3-9b74-542576f50e2b",
   "metadata": {},
   "source": [
    "Apache Superset имеет поддержку базы данных [Trino](https://trino.io), которая умеет [читать](https://trino.io/docs/current/connector/delta-lake.html) Delta Lake файлы из HDFS."
   ]
  },
  {
   "cell_type": "markdown",
   "id": "cd57b5ba-9267-4b31-90bc-98b599b05474",
   "metadata": {},
   "source": [
    "### Конфигурация Apache Superset"
   ]
  },
  {
   "cell_type": "code",
   "execution_count": null,
   "id": "106e5537-5903-4b2c-9006-1f7532085a34",
   "metadata": {},
   "outputs": [],
   "source": [
    "# ! source ~/.bash_aliases && HOST=dind execute \\\n",
    "# docker compose --profile=trino --profile=superset up -d trino superset"
   ]
  },
  {
   "cell_type": "code",
   "execution_count": null,
   "id": "b9a3e3a7-ffd2-41ac-afe6-71e39e01d2c6",
   "metadata": {},
   "outputs": [],
   "source": [
    "! source ~/.bash_aliases && HOST=dind execute \\\n",
    "docker compose ps trino superset"
   ]
  },
  {
   "cell_type": "code",
   "execution_count": null,
   "id": "0ac331d3-a569-4f66-af67-d710d8f0aecd",
   "metadata": {},
   "outputs": [],
   "source": [
    "! source ~/.bash_aliases && HOST=superset execute \\\n",
    "pip install trino && \\\n",
    "docker compose restart superset"
   ]
  },
  {
   "cell_type": "markdown",
   "id": "f0ba94c6-a850-4c06-9d94-de068b4d1c16",
   "metadata": {},
   "source": [
    "Нужно дождаться, когда в колонке STATUS появится будет значение `healthy`:"
   ]
  },
  {
   "cell_type": "code",
   "execution_count": null,
   "id": "2ba791fc",
   "metadata": {},
   "outputs": [],
   "source": [
    "! source ~/.bash_aliases && HOST=dind execute \\\n",
    "docker compose ps trino superset | hl 'superset\\|trino\\|healthy'"
   ]
  },
  {
   "cell_type": "markdown",
   "id": "a054268d-f042-4d64-b616-a90c8e7a2d30",
   "metadata": {},
   "source": [
    "Необходимо создать пользователя:"
   ]
  },
  {
   "cell_type": "code",
   "execution_count": null,
   "id": "25b415e8-c059-4ad7-9e87-3ac7f3f9c8f0",
   "metadata": {},
   "outputs": [],
   "source": [
    "! source ~/.bash_aliases && HOST=superset execute \\\n",
    "superset fab create-admin \\\n",
    "              --username admin \\\n",
    "              --password admin \\\n",
    "              --firstname Superset \\\n",
    "              --lastname Admin \\\n",
    "              --email 'admin@superset.com'"
   ]
  },
  {
   "cell_type": "markdown",
   "id": "d81d0099-3eb2-4311-b148-0b9598189d61",
   "metadata": {},
   "source": [
    "Создать объекты Apache Superset в базе данных:"
   ]
  },
  {
   "cell_type": "code",
   "execution_count": null,
   "id": "ab1db968-2667-4197-912d-e34c8333f6b5",
   "metadata": {},
   "outputs": [],
   "source": [
    "! source ~/.bash_aliases && HOST=superset execute \\\n",
    "superset db upgrade"
   ]
  },
  {
   "cell_type": "markdown",
   "id": "b3b0561b-0cb3-472d-b38b-fdfc161bda10",
   "metadata": {},
   "source": [
    "Запустить инициализацию Apache Superset:"
   ]
  },
  {
   "cell_type": "code",
   "execution_count": null,
   "id": "005c9158-c12b-4b44-b9de-1f98e06021a8",
   "metadata": {},
   "outputs": [],
   "source": [
    "! source ~/.bash_aliases && HOST=superset execute \\\n",
    "superset init"
   ]
  },
  {
   "cell_type": "markdown",
   "id": "aad7d90c-ee73-4730-a186-90679381310d",
   "metadata": {},
   "source": [
    "### Настройка подключения к Trino"
   ]
  },
  {
   "cell_type": "code",
   "execution_count": null,
   "id": "6616ed9d-e81d-4c1f-9384-6237f6ced08d",
   "metadata": {},
   "outputs": [],
   "source": [
    "import requests\n",
    "import json"
   ]
  },
  {
   "cell_type": "markdown",
   "id": "a6fca4e7-8946-407b-9f93-8961ebe32627",
   "metadata": {},
   "source": [
    "Создать токен для работы через REST API:"
   ]
  },
  {
   "cell_type": "code",
   "execution_count": null,
   "id": "30bfb97a-35b2-4f8a-981d-fa609231dc61",
   "metadata": {},
   "outputs": [],
   "source": [
    "payload = {\n",
    "  \"username\": \"admin\",\n",
    "  \"password\": \"admin\",\n",
    "  \"provider\": \"db\"\n",
    "}\n",
    "r = requests.post('http://superset:8088/api/v1/security/login', json=payload)\n",
    "\n",
    "assert r.status_code == 200\n",
    "\n",
    "access_token = r.json()[\"access_token\"]"
   ]
  },
  {
   "cell_type": "markdown",
   "id": "74d21706-3555-4b67-a325-5bfc76e8dbed",
   "metadata": {},
   "source": [
    "Создать CSRF токен для работы через REST API:"
   ]
  },
  {
   "cell_type": "code",
   "execution_count": null,
   "id": "a1fead69-cc82-4ce4-b803-e82e22c1f264",
   "metadata": {},
   "outputs": [],
   "source": [
    "headers = {'Authorization': f'Bearer {access_token}'}\n",
    "r = requests.get('http://superset:8088/api/v1/security/csrf_token/', headers=headers)\n",
    "\n",
    "assert r.status_code == 200\n",
    "\n",
    "csrf = r.json()[\"result\"]\n",
    "cookies = r.cookies"
   ]
  },
  {
   "cell_type": "code",
   "execution_count": null,
   "id": "7c4fce11-8a2b-41ac-8a64-c295f6824a5f",
   "metadata": {},
   "outputs": [],
   "source": [
    "headers = {\n",
    "    \"Authorization\": f\"Bearer {access_token}\",\n",
    "    \"X-CSRFToken\": csrf\n",
    "}"
   ]
  },
  {
   "cell_type": "markdown",
   "id": "0b54bb6b-a0c4-4509-a132-45d80434ef63",
   "metadata": {},
   "source": [
    "Зарегистрировать Trino:"
   ]
  },
  {
   "cell_type": "code",
   "execution_count": null,
   "id": "2fc8fcdc-8f0b-4958-88bc-673f06ae69c8",
   "metadata": {},
   "outputs": [],
   "source": [
    "payload = {\n",
    "    \"database_name\": \"Trino Lakehouse\",\n",
    "    \"sqlalchemy_uri\": \"trino://trino@trino:8080/delta_lake\",\n",
    "    \"engine\": \"trino\"\n",
    "}\n",
    "\n",
    "r = requests.post('http://superset:8088/api/v1/database', headers=headers, json=payload, cookies=cookies)\n",
    "\n",
    "assert r.status_code == 201\n",
    "\n",
    "r.json()"
   ]
  },
  {
   "cell_type": "code",
   "execution_count": null,
   "id": "07642c54-2116-4dc6-80c2-4a72c3e1d24c",
   "metadata": {},
   "outputs": [],
   "source": [
    "database_id = r.json()[\"id\"]"
   ]
  },
  {
   "cell_type": "markdown",
   "id": "0972d1d0-fbaa-45da-9b45-0e6a51e7f852",
   "metadata": {},
   "source": [
    "Зарегистрировать таблицы:"
   ]
  },
  {
   "cell_type": "code",
   "execution_count": null,
   "id": "0a4839b3-bc52-4b72-8f78-7f0ed95dbd2c",
   "metadata": {},
   "outputs": [],
   "source": [
    "payload = {\n",
    "    \"database\": database_id,\n",
    "    \"schema\": \"default\"\n",
    "}\n",
    "\n",
    "for table in [\"users\", \"bronze_reviews_igromania\", \"bronze_reviews_metacritic\", \"silver_reviews\", \"golden_review_facts\"]:\n",
    "    print(f\"Registering {table}\")\n",
    "    payload[\"table_name\"] = table\n",
    "    \n",
    "    r = requests.post('http://superset:8088/api/v1/dataset', headers=headers, json=payload, cookies=cookies)\n",
    "    if r.status_code != 201:\n",
    "        print(r.json())\n",
    "        assert False"
   ]
  },
  {
   "cell_type": "markdown",
   "id": "1dca5ae6-5246-40aa-ab43-432377e9126a",
   "metadata": {},
   "source": [
    "Зарегистрировать датасет на базе таблицы `golden_review_facts`:"
   ]
  },
  {
   "cell_type": "code",
   "execution_count": null,
   "id": "d3a6d6a7-786a-471f-b548-feaae8da5930",
   "metadata": {},
   "outputs": [],
   "source": [
    "payload = {\n",
    "    \"database\": database_id,\n",
    "    \"schema\": \"default\",\n",
    "    \"table_name\": \"facts_enriched\",\n",
    "    \"is_managed_externally\": False,\n",
    "    \"external_url\": None,\n",
    "    \"sql\": \"\"\"\n",
    "SELECT review_id\n",
    "     , r.app_id\n",
    "     , f.user_id\n",
    "     , username\n",
    "     , gender\n",
    "     , dob\n",
    "     , title\n",
    "     , date_release\n",
    "     , win\n",
    "     , mac\n",
    "     , linux\n",
    "     , price_final\n",
    "  FROM golden_review_facts f\n",
    "  JOIN users u ON (u.id = f.user_id)\n",
    "  JOIN games g USING (app_id)\n",
    "  JOIN silver_reviews r ON (r.id = f.review_id)\n",
    "\"\"\"\n",
    "}\n",
    "r = requests.post('http://superset:8088/api/v1/dataset', headers=headers, json=payload, cookies=cookies)\n",
    "\n",
    "assert r.status_code == 201"
   ]
  },
  {
   "cell_type": "code",
   "execution_count": null,
   "id": "22b8d418-b8f5-48d9-ba24-50e53e2a441a",
   "metadata": {},
   "outputs": [],
   "source": [
    "datasource_id = r.json()[\"id\"]\n",
    "datasource_uid = r.json()[\"data\"][\"uid\"]"
   ]
  },
  {
   "cell_type": "markdown",
   "id": "6bd2cf43-58c5-41ad-8f7c-275902c1d598",
   "metadata": {},
   "source": [
    "Создать график, который покажет по годам сколько отзывов оставляли мужчины, а сколько женщины:"
   ]
  },
  {
   "cell_type": "code",
   "execution_count": null,
   "id": "30014a79-5772-4d01-a874-739535a135b5",
   "metadata": {
    "jupyter": {
     "source_hidden": true
    }
   },
   "outputs": [],
   "source": [
    "payload = {\n",
    "    \"params\": f\"\"\"{{\n",
    "        \"datasource\": \"{datasource_uid}\",\n",
    "        \"viz_type\": \"echarts_timeseries_bar\",\n",
    "        \"x_axis\": \"date_release\",\n",
    "        \"time_grain_sqla\": \"P1Y\",\n",
    "        \"x_axis_sort_asc\": true,\n",
    "        \"x_axis_sort_series\": \"name\",\n",
    "        \"x_axis_sort_series_ascending\": true,\n",
    "        \"metrics\": [\n",
    "            {{\n",
    "                \"expressionType\": \"SIMPLE\",\n",
    "                \"column\": {{\n",
    "                    \"advanced_data_type\": null,\n",
    "                    \"certification_details\": null,\n",
    "                    \"certified_by\": null,\n",
    "                    \"column_name\": \"review_id\",\n",
    "                    \"description\": null,\n",
    "                    \"expression\": null,\n",
    "                    \"filterable\": true,\n",
    "                    \"groupby\": true,\n",
    "                    \"id\": 20,\n",
    "                    \"is_certified\": false,\n",
    "                    \"is_dttm\": false,\n",
    "                    \"python_date_format\": null,\n",
    "                    \"type\": \"VARCHAR\",\n",
    "                    \"type_generic\": 1,\n",
    "                    \"verbose_name\": null,\n",
    "                    \"warning_markdown\": null\n",
    "                }},\n",
    "                \"aggregate\": \"COUNT_DISTINCT\",\n",
    "                \"sqlExpression\": null,\n",
    "                \"datasourceWarning\": false,\n",
    "                \"hasCustomLabel\": false,\n",
    "                \"label\": \"COUNT_DISTINCT(review_id)\",\n",
    "                \"optionName\": \"metric_x2g7cq064tb_vpz0jzxjivl\"\n",
    "            }}\n",
    "        ],\n",
    "        \"groupby\": [\n",
    "            \"gender\"\n",
    "        ],\n",
    "        \"adhoc_filters\": [\n",
    "            {{\n",
    "                \"expressionType\": \"SIMPLE\",\n",
    "                \"subject\": \"date_release\",\n",
    "                \"operator\": \"TEMPORAL_RANGE\",\n",
    "                \"comparator\": \"No filter\",\n",
    "                \"clause\": \"WHERE\",\n",
    "                \"sqlExpression\": null,\n",
    "                \"isExtra\": false,\n",
    "                \"isNew\": false,\n",
    "                \"datasourceWarning\": false,\n",
    "                \"filterOptionName\": \"filter_9glfwpxhc85_loni87wp65\"\n",
    "            }}\n",
    "        ],\n",
    "        \"order_desc\": true,\n",
    "        \"row_limit\": 50000,\n",
    "        \"truncate_metric\": true,\n",
    "        \"show_empty_columns\": true,\n",
    "        \"comparison_type\": \"values\",\n",
    "        \"annotation_layers\": [],\n",
    "        \"forecastPeriods\": 10,\n",
    "        \"forecastInterval\": 0.8,\n",
    "        \"orientation\": \"vertical\",\n",
    "        \"x_axis_title_margin\": 15,\n",
    "        \"y_axis_title_margin\": 15,\n",
    "        \"y_axis_title_position\": \"Left\",\n",
    "        \"sort_series_type\": \"sum\",\n",
    "        \"color_scheme\": \"supersetColors\",\n",
    "        \"only_total\": true,\n",
    "        \"show_legend\": true,\n",
    "        \"legendType\": \"scroll\",\n",
    "        \"legendOrientation\": \"top\",\n",
    "        \"x_axis_time_format\": \"smart_date\",\n",
    "        \"y_axis_format\": \"SMART_NUMBER\",\n",
    "        \"y_axis_bounds\": [\n",
    "            null,\n",
    "            null\n",
    "        ],\n",
    "        \"rich_tooltip\": true,\n",
    "        \"tooltipTimeFormat\": \"smart_date\",\n",
    "        \"extra_form_data\": {{}},\n",
    "        \"dashboards\": []\n",
    "    }}\n",
    "    \"\"\",\n",
    "    \"slice_name\": \"Reviews by Gender\",\n",
    "    \"viz_type\": \"echarts_timeseries_bar\",\n",
    "    \"datasource_id\": datasource_id,\n",
    "    \"datasource_type\": \"table\",\n",
    "    \"dashboards\": [],\n",
    "    \"query_context\": \"\"\"{\n",
    "        \"datasource\": {\n",
    "            \"id\": 6,\n",
    "            \"type\": \"table\"\n",
    "        },\n",
    "        \"force\": false,\n",
    "        \"queries\": [\n",
    "            {\n",
    "                \"filters\": [\n",
    "                    {\n",
    "                        \"col\": \"date_release\",\n",
    "                        \"op\": \"TEMPORAL_RANGE\",\n",
    "                        \"val\": \"No filter\"\n",
    "                    }\n",
    "                ],\n",
    "                \"extras\": {\n",
    "                    \"having\": \"\",\n",
    "                    \"where\": \"\"\n",
    "                },\n",
    "                \"applied_time_extras\": {},\n",
    "                \"columns\": [\n",
    "                    {\n",
    "                        \"timeGrain\": \"P1Y\",\n",
    "                        \"columnType\": \"BASE_AXIS\",\n",
    "                        \"sqlExpression\": \"date_release\",\n",
    "                        \"label\": \"date_release\",\n",
    "                        \"expressionType\": \"SQL\"\n",
    "                    },\n",
    "                    \"gender\"\n",
    "                ],\n",
    "                \"metrics\": [\n",
    "                    {\n",
    "                        \"expressionType\": \"SIMPLE\",\n",
    "                        \"column\": {\n",
    "                            \"advanced_data_type\": null,\n",
    "                            \"certification_details\": null,\n",
    "                            \"certified_by\": null,\n",
    "                            \"column_name\": \"review_id\",\n",
    "                            \"description\": null,\n",
    "                            \"expression\": null,\n",
    "                            \"filterable\": true,\n",
    "                            \"groupby\": true,\n",
    "                            \"id\": 20,\n",
    "                            \"is_certified\": false,\n",
    "                            \"is_dttm\": false,\n",
    "                            \"python_date_format\": null,\n",
    "                            \"type\": \"VARCHAR\",\n",
    "                            \"type_generic\": 1,\n",
    "                            \"verbose_name\": null,\n",
    "                            \"warning_markdown\": null\n",
    "                        },\n",
    "                        \"aggregate\": \"COUNT_DISTINCT\",\n",
    "                        \"sqlExpression\": null,\n",
    "                        \"datasourceWarning\": false,\n",
    "                        \"hasCustomLabel\": false,\n",
    "                        \"label\": \"COUNT_DISTINCT(review_id)\",\n",
    "                        \"optionName\": \"metric_x2g7cq064tb_vpz0jzxjivl\"\n",
    "                    }\n",
    "                ],\n",
    "                \"orderby\": [\n",
    "                    [\n",
    "                        {\n",
    "                            \"expressionType\": \"SIMPLE\",\n",
    "                            \"column\": {\n",
    "                                \"advanced_data_type\": null,\n",
    "                                \"certification_details\": null,\n",
    "                                \"certified_by\": null,\n",
    "                                \"column_name\": \"review_id\",\n",
    "                                \"description\": null,\n",
    "                                \"expression\": null,\n",
    "                                \"filterable\": true,\n",
    "                                \"groupby\": true,\n",
    "                                \"id\": 20,\n",
    "                                \"is_certified\": false,\n",
    "                                \"is_dttm\": false,\n",
    "                                \"python_date_format\": null,\n",
    "                                \"type\": \"VARCHAR\",\n",
    "                                \"type_generic\": 1,\n",
    "                                \"verbose_name\": null,\n",
    "                                \"warning_markdown\": null\n",
    "                            },\n",
    "                            \"aggregate\": \"COUNT_DISTINCT\",\n",
    "                            \"sqlExpression\": null,\n",
    "                            \"datasourceWarning\": false,\n",
    "                            \"hasCustomLabel\": false,\n",
    "                            \"label\": \"COUNT_DISTINCT(review_id)\",\n",
    "                            \"optionName\": \"metric_x2g7cq064tb_vpz0jzxjivl\"\n",
    "                        },\n",
    "                        false\n",
    "                    ]\n",
    "                ],\n",
    "                \"annotation_layers\": [],\n",
    "                \"row_limit\": 250,\n",
    "                \"series_columns\": [\n",
    "                    \"gender\"\n",
    "                ],\n",
    "                \"series_limit\": 0,\n",
    "                \"order_desc\": true,\n",
    "                \"url_params\": {},\n",
    "                \"custom_params\": {},\n",
    "                \"custom_form_data\": {},\n",
    "                \"time_offsets\": [],\n",
    "                \"post_processing\": [\n",
    "                    {\n",
    "                        \"operation\": \"pivot\",\n",
    "                        \"options\": {\n",
    "                            \"index\": [\n",
    "                                \"date_release\"\n",
    "                            ],\n",
    "                            \"columns\": [\n",
    "                                \"gender\"\n",
    "                            ],\n",
    "                            \"aggregates\": {\n",
    "                                \"COUNT_DISTINCT(review_id)\": {\n",
    "                                    \"operator\": \"mean\"\n",
    "                                }\n",
    "                            },\n",
    "                            \"drop_missing_columns\": false\n",
    "                        }\n",
    "                    },\n",
    "                    {\n",
    "                        \"operation\": \"rename\",\n",
    "                        \"options\": {\n",
    "                            \"columns\": {\n",
    "                                \"COUNT_DISTINCT(review_id)\": null\n",
    "                            },\n",
    "                            \"level\": 0,\n",
    "                            \"inplace\": true\n",
    "                        }\n",
    "                    },\n",
    "                    {\n",
    "                        \"operation\": \"flatten\"\n",
    "                    }\n",
    "                ]\n",
    "            }\n",
    "        ],\n",
    "        \"form_data\": {\n",
    "            \"datasource\": \"6__table\",\n",
    "            \"viz_type\": \"echarts_timeseries_bar\",\n",
    "            \"x_axis\": \"date_release\",\n",
    "            \"time_grain_sqla\": \"P1Y\",\n",
    "            \"x_axis_sort_asc\": true,\n",
    "            \"x_axis_sort_series\": \"name\",\n",
    "            \"x_axis_sort_series_ascending\": true,\n",
    "            \"metrics\": [\n",
    "                {\n",
    "                    \"expressionType\": \"SIMPLE\",\n",
    "                    \"column\": {\n",
    "                        \"advanced_data_type\": null,\n",
    "                        \"certification_details\": null,\n",
    "                        \"certified_by\": null,\n",
    "                        \"column_name\": \"review_id\",\n",
    "                        \"description\": null,\n",
    "                        \"expression\": null,\n",
    "                        \"filterable\": true,\n",
    "                        \"groupby\": true,\n",
    "                        \"id\": 20,\n",
    "                        \"is_certified\": false,\n",
    "                        \"is_dttm\": false,\n",
    "                        \"python_date_format\": null,\n",
    "                        \"type\": \"VARCHAR\",\n",
    "                        \"type_generic\": 1,\n",
    "                        \"verbose_name\": null,\n",
    "                        \"warning_markdown\": null\n",
    "                    },\n",
    "                    \"aggregate\": \"COUNT_DISTINCT\",\n",
    "                    \"sqlExpression\": null,\n",
    "                    \"datasourceWarning\": false,\n",
    "                    \"hasCustomLabel\": false,\n",
    "                    \"label\": \"COUNT_DISTINCT(review_id)\",\n",
    "                    \"optionName\": \"metric_x2g7cq064tb_vpz0jzxjivl\"\n",
    "                }\n",
    "            ],\n",
    "            \"groupby\": [\n",
    "                \"gender\"\n",
    "            ],\n",
    "            \"adhoc_filters\": [\n",
    "                {\n",
    "                    \"expressionType\": \"SIMPLE\",\n",
    "                    \"subject\": \"date_release\",\n",
    "                    \"operator\": \"TEMPORAL_RANGE\",\n",
    "                    \"comparator\": \"No filter\",\n",
    "                    \"clause\": \"WHERE\",\n",
    "                    \"sqlExpression\": null,\n",
    "                    \"isExtra\": false,\n",
    "                    \"isNew\": false,\n",
    "                    \"datasourceWarning\": false,\n",
    "                    \"filterOptionName\": \"filter_9glfwpxhc85_loni87wp65\"\n",
    "                }\n",
    "            ],\n",
    "            \"order_desc\": true,\n",
    "            \"row_limit\": 50000,\n",
    "            \"truncate_metric\": true,\n",
    "            \"show_empty_columns\": true,\n",
    "            \"comparison_type\": \"values\",\n",
    "            \"annotation_layers\": [],\n",
    "            \"forecastPeriods\": 10,\n",
    "            \"forecastInterval\": 0.8,\n",
    "            \"orientation\": \"vertical\",\n",
    "            \"x_axis_title_margin\": 15,\n",
    "            \"y_axis_title_margin\": 15,\n",
    "            \"y_axis_title_position\": \"Left\",\n",
    "            \"sort_series_type\": \"sum\",\n",
    "            \"color_scheme\": \"supersetColors\",\n",
    "            \"only_total\": true,\n",
    "            \"show_legend\": true,\n",
    "            \"legendType\": \"scroll\",\n",
    "            \"legendOrientation\": \"top\",\n",
    "            \"x_axis_time_format\": \"smart_date\",\n",
    "            \"y_axis_format\": \"SMART_NUMBER\",\n",
    "            \"y_axis_bounds\": [\n",
    "                null,\n",
    "                null\n",
    "            ],\n",
    "            \"rich_tooltip\": true,\n",
    "            \"tooltipTimeFormat\": \"smart_date\",\n",
    "            \"extra_form_data\": {},\n",
    "            \"dashboards\": [],\n",
    "            \"force\": false,\n",
    "            \"result_format\": \"json\",\n",
    "            \"result_type\": \"full\"\n",
    "        },\n",
    "        \"result_format\": \"json\",\n",
    "        \"result_type\": \"full\"\n",
    "    }\n",
    "    \"\"\"\n",
    "}"
   ]
  },
  {
   "cell_type": "code",
   "execution_count": null,
   "id": "91d0f1a7-b783-4674-8507-63dae1896a36",
   "metadata": {},
   "outputs": [],
   "source": [
    "r = requests.post('http://superset:8088/api/v1/chart', headers=headers, json=payload, cookies=cookies)\n",
    "assert r.status_code == 201"
   ]
  },
  {
   "cell_type": "markdown",
   "id": "3be96c5d-fa8a-4e8f-a05c-bc219d05cdcd",
   "metadata": {},
   "source": [
    "Apache Superset готов к работе. Apache Superset запущен на 18088 порту, веб-интерфейс Apache Superset можно найти по ссылке [http://localhost:18088](http://localhost:18088)."
   ]
  },
  {
   "cell_type": "markdown",
   "id": "125cf4b0-2124-42e6-af58-c5d0c048a7cf",
   "metadata": {},
   "source": [
    "### Аналитика в реальном времени"
   ]
  },
  {
   "cell_type": "markdown",
   "id": "11d9a761-a8a5-4af2-a680-3ec2347af87c",
   "metadata": {},
   "source": [
    "Для демонстрации аналитики в реальном времени выполните:\n",
    "\n",
    "1. Создайте новый [дашборд](http://localhost:18088/dashboard/list/) (кнопка `+ DASHBOARD` в правом верхнем углу) с именем `[ Lakehouse ]`;\n",
    "1. Добавьте на дашборд `[ Lakehouse ]` график `Reviews by Gender` (перетащить график мышью с правой панели в центр);\n",
    "1. Нажмите `SAVE` в правом верхнем углу."
   ]
  },
  {
   "cell_type": "markdown",
   "id": "a4f60a5c-5dd8-4474-85bc-8591709ce6b6",
   "metadata": {},
   "source": [
    "4. Добавьте новые отзывы:"
   ]
  },
  {
   "cell_type": "code",
   "execution_count": null,
   "id": "50ff262f-b8a9-405a-9010-a754a71eda25",
   "metadata": {},
   "outputs": [],
   "source": [
    "reviews_metacritic = generate_reviews_metacritic(ids_range=range(30, 40))\n",
    "reviews_igromania = generate_reviews_igromania(ids_range=range(21, 25))"
   ]
  },
  {
   "cell_type": "code",
   "execution_count": null,
   "id": "81b38fa2-25a4-491f-a945-4597ce8430d2",
   "metadata": {},
   "outputs": [],
   "source": [
    "save_df(reviews_metacritic, f\"{source_path}/reviews_metacritic\", format=\"json\", mode='append')\n",
    "save_df(reviews_igromania, f\"{source_path}/reviews_igromania\", format=\"json\", mode='append')"
   ]
  },
  {
   "cell_type": "markdown",
   "id": "e9c5c4f9-9a80-46b2-bd96-fed19e1a54e3",
   "metadata": {},
   "source": [
    "5. Откройте дашборд [`[ Lakehouse ]`](http://localhost:18088/dashboard/list/1)\n",
    "6. Обновляйте график (кнопка `...` в правом верхнем углу -> `Refresh dashboard`) и следите как меняются числа."
   ]
  },
  {
   "cell_type": "code",
   "execution_count": null,
   "id": "f2f86083-ebab-46a1-b28f-0e87346dc1fe",
   "metadata": {},
   "outputs": [],
   "source": [
    "golden_review_facts_stream.awaitTermination(timeout=5)\n",
    "golden_review_facts_stream.stop()"
   ]
  },
  {
   "cell_type": "code",
   "execution_count": null,
   "id": "6eedbfa6-7f7a-40bb-a4bc-fda33825ad10",
   "metadata": {},
   "outputs": [],
   "source": [
    "silver_reviews_from_metacritic_stream.awaitTermination(timeout=5)\n",
    "silver_reviews_from_metacritic_stream.stop()"
   ]
  },
  {
   "cell_type": "code",
   "execution_count": null,
   "id": "2250c8f4-4b84-4b4b-b623-74db72fa059a",
   "metadata": {},
   "outputs": [],
   "source": [
    "silver_reviews_from_igromania_stream.awaitTermination(timeout=5)\n",
    "silver_reviews_from_igromania_stream.stop()"
   ]
  },
  {
   "cell_type": "code",
   "execution_count": null,
   "id": "bd4dd191-e5bf-451f-a59d-0776ed4e1926",
   "metadata": {},
   "outputs": [],
   "source": [
    "bronze_reviews_igromania_stream.awaitTermination(timeout=5)\n",
    "bronze_reviews_igromania_stream.stop()"
   ]
  },
  {
   "cell_type": "code",
   "execution_count": null,
   "id": "a7c80f54-27b9-4769-9ceb-ee7451cf14bc",
   "metadata": {},
   "outputs": [],
   "source": [
    "bronze_reviews_metacritic_stream.awaitTermination(timeout=5)\n",
    "bronze_reviews_metacritic_stream.stop()"
   ]
  },
  {
   "cell_type": "code",
   "execution_count": null,
   "id": "e662881b-7d17-486e-9c85-b7d0bb37d7ee",
   "metadata": {},
   "outputs": [],
   "source": [
    "! source ~/.bash_aliases && \\\n",
    "docker compose stop trino superset"
   ]
  },
  {
   "cell_type": "markdown",
   "id": "08a69d38-0c29-4e25-b60a-a36b78ab903a",
   "metadata": {},
   "source": [
    "## Машинное обучение"
   ]
  },
  {
   "cell_type": "markdown",
   "id": "58bc0b0f-dc98-4b26-9233-e15cc9a75175",
   "metadata": {},
   "source": [
    "Платформа Lakehouse позволяет построить платформу данных для задач машинного обучения в том числе. Catboost поддерживает работу с Apache Spark."
   ]
  },
  {
   "cell_type": "code",
   "execution_count": null,
   "id": "c2e5fe3e-1f28-430c-b275-c83f246289d7",
   "metadata": {},
   "outputs": [],
   "source": [
    "from pyspark.sql import SparkSession\n",
    "from pyspark.sql.dataframe import DataFrame\n",
    "from pyspark.sql.functions import col\n",
    "from pyspark.sql import functions as F"
   ]
  },
  {
   "cell_type": "code",
   "execution_count": null,
   "id": "c849a339-18e1-49db-ac68-308baf4c0dd4",
   "metadata": {},
   "outputs": [],
   "source": [
    "from delta import configure_spark_with_delta_pip\n",
    "from delta.tables import DeltaTable"
   ]
  },
  {
   "cell_type": "code",
   "execution_count": null,
   "id": "975f311a-db57-45b6-81be-247aff123f66",
   "metadata": {},
   "outputs": [],
   "source": [
    "import os\n",
    "os.environ['PYSPARK_SUBMIT_ARGS'] = '--packages ai.catboost:catboost-spark_3.4_2.12:1.2.2,io.delta:delta-spark_2.12:3.0.0 pyspark-shell'"
   ]
  },
  {
   "cell_type": "code",
   "execution_count": null,
   "id": "62dd4213-fa21-4e3c-a13d-d73c1c1dd221",
   "metadata": {},
   "outputs": [],
   "source": [
    "builder = (\n",
    "    SparkSession\n",
    "        .builder\n",
    "        .appName(\"Catboost Lakehouse\")\n",
    "        .master(\"local[4]\")\n",
    "        .config(\"spark.sql.warehouse.dir\", \"data/spark-warehouse\")\n",
    "        .config(\"hive.metastore.uris\", \"thrift://hive:9083\")\n",
    "        .config(\"spark.sql.extensions\", \"io.delta.sql.DeltaSparkSessionExtension\")\n",
    "        .config(\"spark.sql.catalog.spark_catalog\", \"org.apache.spark.sql.delta.catalog.DeltaCatalog\")\n",
    "        .enableHiveSupport()\n",
    ")\n",
    "\n",
    "spark = configure_spark_with_delta_pip(builder) \\\n",
    "    .getOrCreate()\n",
    "\n",
    "sc = spark.sparkContext"
   ]
  },
  {
   "cell_type": "code",
   "execution_count": null,
   "id": "00a7fc00-632e-4720-9f12-0ba52da2e0ce",
   "metadata": {},
   "outputs": [],
   "source": [
    "import catboost_spark"
   ]
  },
  {
   "cell_type": "code",
   "execution_count": null,
   "id": "9bb9bc07-cce8-4f6a-a89c-cd19cf2e4bf1",
   "metadata": {},
   "outputs": [],
   "source": [
    "from pyspark.sql import Row,SparkSession\n",
    "from pyspark.ml.linalg import Vectors, VectorUDT\n",
    "from pyspark.sql.types import *"
   ]
  },
  {
   "cell_type": "code",
   "execution_count": null,
   "id": "f6eda2bf-b02e-41ca-9840-8744e871c3f2",
   "metadata": {},
   "outputs": [],
   "source": [
    "games = spark.table(\"games\")\n",
    "users = spark.table(\"users\")\n",
    "reviews = spark.table(\"silver_reviews\")\n",
    "review_facts_df = spark.table(\"golden_review_facts\")"
   ]
  },
  {
   "cell_type": "code",
   "execution_count": null,
   "id": "4c7239c1-9788-43b0-866a-f835616b7f5d",
   "metadata": {},
   "outputs": [],
   "source": [
    "games.printSchema()"
   ]
  },
  {
   "cell_type": "code",
   "execution_count": null,
   "id": "0ce003e4-eb00-420e-baa3-63ad815f0a72",
   "metadata": {},
   "outputs": [],
   "source": [
    "train_df = (\n",
    "    review_facts_df.alias(\"f\")\n",
    "        .join(games, \"app_id\")\n",
    "        .join(users.alias(\"u\"), col(\"f.user_id\") == col(\"u.id\"))\n",
    "        .join(reviews.alias(\"r\"), col(\"f.review_id\") == col(\"r.id\"))\n",
    ")\n",
    "\n",
    "train_pool = catboost_spark.Pool(train_df)"
   ]
  },
  {
   "cell_type": "code",
   "execution_count": null,
   "id": "d3b8a2e2-0db7-429e-b056-9770022c4949",
   "metadata": {},
   "outputs": [],
   "source": [
    "spark.stop()"
   ]
  },
  {
   "cell_type": "markdown",
   "id": "0234e3c7-6604-4b30-8261-9eb4fad6aa73",
   "metadata": {},
   "source": [
    "## Вывод"
   ]
  },
  {
   "cell_type": "markdown",
   "id": "522ce1cf-c9e9-4822-91fb-d5dd10dd07a6",
   "metadata": {},
   "source": [
    "Формат данных Delta Lake в совокупности с Apache Spark Structured Streaming позволяет по шаблону Lakehouse построить надежную платформу для аналитики данных в реальном времени, что повышает устойчивость бизнеса к резким колебаниям на рынке. При этом Structured Streaming работает в отрыве от Apache Kafka или любого другого брокера сообщений, что повышает требования к эксплуатации в части мониторинга. С другой стороны Structured Streaming в случае падения воркера Apache Spark перезапустит его автоматически и стриминг данных продолжится. Это, конечно, избавляет от аппартных проблем, но если воркер падает по `OutOfMemoryError`, то воркеры будут падать и перезапускаться постоянно, поэтому нужно внимательно работать с памятью при настройке стримов."
   ]
  },
  {
   "cell_type": "code",
   "execution_count": null,
   "id": "bd524d7a-592b-4804-8fb7-3e484644af37",
   "metadata": {},
   "outputs": [],
   "source": []
  },
  {
   "cell_type": "code",
   "execution_count": null,
   "id": "71b88f5b-9fd5-4766-bb25-88274f75f157",
   "metadata": {},
   "outputs": [],
   "source": []
  },
  {
   "cell_type": "code",
   "execution_count": null,
   "id": "ed3ac0db-6d88-47c5-b4d0-e03ffde75198",
   "metadata": {},
   "outputs": [],
   "source": []
  },
  {
   "cell_type": "code",
   "execution_count": null,
   "id": "37fdf55a-d15c-490d-a541-3ec4eef7f967",
   "metadata": {},
   "outputs": [],
   "source": []
  },
  {
   "cell_type": "code",
   "execution_count": null,
   "id": "b2e690dd-9e08-48a2-903f-adaea7c09608",
   "metadata": {},
   "outputs": [],
   "source": []
  },
  {
   "cell_type": "code",
   "execution_count": null,
   "id": "9fa876aa-718f-4ae6-acf7-489c952b4f65",
   "metadata": {},
   "outputs": [],
   "source": []
  },
  {
   "cell_type": "code",
   "execution_count": null,
   "id": "4a528394-e19f-4bbf-ab30-c770907ae66a",
   "metadata": {},
   "outputs": [],
   "source": []
  },
  {
   "cell_type": "code",
   "execution_count": null,
   "id": "4138f519-c7f9-4773-9891-433ec08be22d",
   "metadata": {},
   "outputs": [],
   "source": []
  }
 ],
 "metadata": {
  "kernelspec": {
   "display_name": "Python 3 (ipykernel)",
   "language": "python",
   "name": "python3"
  },
  "language_info": {
   "codemirror_mode": {
    "name": "ipython",
    "version": 3
   },
   "file_extension": ".py",
   "mimetype": "text/x-python",
   "name": "python",
   "nbconvert_exporter": "python",
   "pygments_lexer": "ipython3",
   "version": "3.11.6"
  }
 },
 "nbformat": 4,
 "nbformat_minor": 5
}
