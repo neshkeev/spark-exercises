{
 "cells": [
  {
   "cell_type": "code",
   "execution_count": 40,
   "id": "93619a9e-3407-4736-b531-f628b35a0f8f",
   "metadata": {},
   "outputs": [],
   "source": [
    "from time import sleep\n",
    "\n",
    "from pyspark import StorageLevel\n",
    "from pyspark.sql import SparkSession\n",
    "from pyspark.sql.types import *\n",
    "from pyspark.sql.functions import *\n",
    "\n",
    "spark = SparkSession.builder.master(\"local\").getOrCreate()\n",
    "sc = spark.sparkContext"
   ]
  },
  {
   "cell_type": "markdown",
   "id": "435dce30-e244-49b2-860a-46fc2f1467a7",
   "metadata": {},
   "source": [
    "### Как создать RDD из массива"
   ]
  },
  {
   "cell_type": "code",
   "execution_count": 41,
   "id": "ae08e150-e45c-4f30-8175-880e2059d4cb",
   "metadata": {},
   "outputs": [],
   "source": [
    "numbers = range(1, 1000000)\n",
    "numbers_parent_rdd = sc.parallelize(numbers, 4)"
   ]
  },
  {
   "cell_type": "code",
   "execution_count": 42,
   "id": "cc3652ce-7f42-48a5-8f3d-1d0c054ba357",
   "metadata": {},
   "outputs": [],
   "source": [
    "print(numbers_parent_rdd.toDebugString().decode('utf-8'))\n",
    "num2 = numbers_parent_rdd.take(10)\n",
    "print(num2)\n",
    "print(\"Количество разделов = \",numbers_parent_rdd.getNumPartitions())"
   ]
  },
  {
   "cell_type": "markdown",
   "id": "d9a94ed5-704e-4588-9d53-4ac5d2d3c373",
   "metadata": {},
   "source": [
    "### Как создать RDD из файла"
   ]
  },
  {
   "cell_type": "code",
   "execution_count": 43,
   "id": "9abf843d-8b55-4198-93e0-04ffd9275e52",
   "metadata": {},
   "outputs": [],
   "source": [
    "# sc.textFile возвращает RDD - распределенную коллекцию Java-объектов\n",
    "stocks_rdd_v2 = sc.textFile(\"data/stocks/aapl.csv\"). \\\n",
    "    map(lambda row: row.split(\",\")). \\\n",
    "    filter(lambda tokens: float(tokens[2]) > 15)\n",
    "\n",
    "# пока файл еще не читался\n",
    "# даже не было проверки его существования\n",
    "print(stocks_rdd_v2.toDebugString().decode('utf-8'))"
   ]
  },
  {
   "cell_type": "code",
   "execution_count": 44,
   "id": "dfc0db4e-0b52-442a-97f7-073be7ef951d",
   "metadata": {},
   "outputs": [],
   "source": [
    "stocks_rdd_v2.take(10)"
   ]
  },
  {
   "cell_type": "code",
   "execution_count": 45,
   "id": "4f042d2e-0888-425c-af23-444e69ff99c8",
   "metadata": {},
   "outputs": [],
   "source": [
    "# spark.read возвращает DataFrame - табличное представление данных \n",
    "stocks_df = spark.read.csv(\"data/stocks\"). \\\n",
    "    withColumnRenamed(\"_c0\", \"company\"). \\\n",
    "    withColumnRenamed(\"_c1\", \"date\"). \\\n",
    "    withColumnRenamed(\"_c2\", \"price\")\n",
    "\n",
    "# из DataFrame можно извлечь хранимые данные в виде RDD\n",
    "stocks_rdd_v3 = stocks_df.rdd\n",
    "\n",
    "prices_rdd = stocks_rdd_v3.map(lambda row: row.price)\n",
    "print(prices_rdd.toDebugString().decode('utf-8'))\n",
    "\n",
    "# до сих пор было только планирование работы\n",
    "# читать и обрабатывать данные будем только сейчас\n",
    "prices_rdd.take(10)"
   ]
  },
  {
   "cell_type": "code",
   "execution_count": 46,
   "id": "409efef6-edbf-46c8-986d-2358116235b1",
   "metadata": {},
   "outputs": [],
   "source": [
    "# из RDD[Row] сделать DataFrame\n",
    "stocks_df_v2 = spark.createDataFrame(stocks_rdd_v3)\n",
    "print(stocks_df_v2.columns)\n",
    "stocks_df_v2.take(10)"
   ]
  },
  {
   "cell_type": "markdown",
   "id": "33257034-53b5-464f-a6eb-1888df2f5814",
   "metadata": {},
   "source": [
    "### Зачем может понадобиться RDD\n",
    "- алгоритм обработки, который сложно выразить на SQL\n",
    "- особые оптимизации"
   ]
  },
  {
   "cell_type": "code",
   "execution_count": 47,
   "id": "48c67ffe-ee90-41dc-87e2-9258e7b31648",
   "metadata": {},
   "outputs": [],
   "source": [
    "# ленивые преобразования: из одного RDD сделать другой RDD\n",
    "# например, map, filter, flatMap, distinct\n",
    "company_names_rdd = stocks_rdd_v3 \\\n",
    "    .map(lambda row: row.company) \\\n",
    "    .distinct()\n",
    "# действие take запускает работу\n",
    "# нужно вернуть реальные данные, лениво выполнить не получится\n",
    "company_names_rdd.take(10)"
   ]
  },
  {
   "cell_type": "code",
   "execution_count": 48,
   "id": "d09cf766-1458-4285-a664-2fe6b1feda3f",
   "metadata": {},
   "outputs": [],
   "source": [
    "# действие count запускает работу\n",
    "# нужно вернуть реальное значение, лениво выполнить не получится\n",
    "total_entries = stocks_rdd_v3.count()  \n",
    "total_entries"
   ]
  },
  {
   "cell_type": "code",
   "execution_count": 49,
   "id": "f724343a-67b7-41c8-b847-072d6a4280bd",
   "metadata": {},
   "outputs": [],
   "source": [
    "aapl_stocks_rdd = stocks_rdd_v3 \\\n",
    "    .filter(lambda row: row.company == \"AAPL\") \\\n",
    "    .map(lambda row: float(row.price))\n",
    "\n",
    "# действия min и max\n",
    "max_aapl = aapl_stocks_rdd.max()\n",
    "min_aapl = aapl_stocks_rdd.min()\n",
    "print(max_aapl)\n",
    "print(min_aapl)"
   ]
  },
  {
   "cell_type": "code",
   "execution_count": 50,
   "id": "77f1b93c-946b-45ad-ba93-6eae9dbbcd12",
   "metadata": {},
   "outputs": [],
   "source": [
    "# действие reduce \n",
    "sum_prices = aapl_stocks_rdd \\\n",
    "    .reduce(lambda x, y: x + y)  # здесь может быть любая функция / код, возвращающий значение\n",
    "#  reduce (1,2,3,4)\n",
    "#  1+2 = 3 \n",
    "#        3+3 = 6 \n",
    "#                6+4 = 10\n",
    "print(sum_prices)"
   ]
  },
  {
   "cell_type": "code",
   "execution_count": 51,
   "id": "bcce2031-9c25-407c-be5d-381f816b8b15",
   "metadata": {},
   "outputs": [],
   "source": [
    "# группировка возвращает RDD с группаими в качестве элементов\n",
    "grouped_stocks_rdd = stocks_rdd_v3 \\\n",
    "    .groupBy(lambda row: row.company)  # в одну группу попадут все элементы с одинаковым значением этой функци\n",
    "# реализация группировки - всегда две фазы типа Map и Reduce + Shuffle между ними\n",
    "grouped_stocks_rdd.map(lambda value: (value[0], list(value[1])[:5])).take(10)"
   ]
  },
  {
   "cell_type": "code",
   "execution_count": 52,
   "id": "9ebaa4a8-17a9-4568-8171-c455df01f47e",
   "metadata": {},
   "outputs": [],
   "source": [
    "print(\"Оригинальное колличество партиций:\", stocks_rdd_v3.getNumPartitions())\n",
    "# изменение количества разделов: полная перегруппировка \n",
    "# Shuffle\n",
    "repartitioned_stocks_rdd = stocks_rdd_v3.repartition(4)\n",
    "print(\"Произошло увеличение партиций (1 -> 4):\", repartitioned_stocks_rdd.getNumPartitions())\n",
    "\n",
    "# изменение количества разделов: попарное слияние разделов, пока их не станет нужное количество \n",
    "# без Shuffle\n",
    "repartitioned_stocks_rdd1 = stocks_rdd_v3.coalesce(2)\n",
    "print(\"Увеличения партиций не произошло (1 -> 1):\", repartitioned_stocks_rdd1.getNumPartitions())\n",
    "\n",
    "repartitioned_stocks_rdd = repartitioned_stocks_rdd.coalesce(2)\n",
    "print(\"Произошло уменьшение партиций (4 -> 2):\", repartitioned_stocks_rdd.getNumPartitions())\n",
    "\n",
    "# RDD\n",
    "#  part1 => |||||| 20           \n",
    "#  part2 => |||||||||||||| 40   \n",
    "#  part3 => ||||| 10            \n",
    "#  part4 => ||||| 10       \n",
    "# максимальный параллелизм = количество исполнителей * количество ядер у исполнителя\n",
    "\n",
    "# rdd.repartition(2) - происходит shuffle, равномерное перераспределение\n",
    "#  part1 => ||||| 40\n",
    "#  part2 => ||||| 40\n",
    "\n",
    "# rdd.repartition(8) - происходит shuffle, равномерное перераспределение\n",
    "#  part1 => ||||| 10\n",
    "#  part2 => ||||| 10\n",
    "#  part3 => ||||| 10\n",
    "#  part4 => ||||| 10\n",
    "#  part5 => ||||| 10\n",
    "#  part6 => ||||| 10\n",
    "#  part7 => ||||| 10\n",
    "#  part8 => ||||| 10\n",
    "\n",
    "# rdd.coalesce(10) - ничего не меняется, coalesce умеет только склеивать и не умеет разделять\n",
    "\n",
    "# rdd.coalesce(2) - склеиваются соседние разделы\n",
    "# part1 => |||||| 20 + |||||||||||||| 40 => 60\n",
    "# part2 => ||||| 10 +   ||||| 10 => 20\n",
    "\n",
    "# rdd.coalesce(1) - склеиваются соседние разделы\n",
    "\n",
    "# rdd.repartition(col(\"company\")) - неравномерное распределение по разделам\n"
   ]
  },
  {
   "cell_type": "markdown",
   "id": "fdc63eaf-93ff-4e38-8277-57d64f8f883a",
   "metadata": {},
   "source": [
    "### Как сохранить RDD на диск"
   ]
  },
  {
   "cell_type": "code",
   "execution_count": 53,
   "id": "a1df60a8-27a0-4bcd-851b-ee662773780a",
   "metadata": {},
   "outputs": [],
   "source": [
    "r = [1, 2, 3, 4, 5, 6, 7, 8]\n",
    "ints = sc.parallelize(r, 4).coalesce(2)\n",
    "print(ints.getNumPartitions())"
   ]
  },
  {
   "cell_type": "code",
   "execution_count": 54,
   "id": "1ff1c91c-d595-408a-b553-f4f70867c3ef",
   "metadata": {},
   "outputs": [],
   "source": [
    "! rm -rf data/output/ints"
   ]
  },
  {
   "cell_type": "code",
   "execution_count": 55,
   "id": "e21536e4-c221-4300-a1ae-c7fb43662067",
   "metadata": {},
   "outputs": [],
   "source": [
    "ints.saveAsTextFile(\"data/output/ints\")\n",
    "print(\"Saved\")"
   ]
  },
  {
   "cell_type": "code",
   "execution_count": 56,
   "id": "b606aab5-4a5d-4302-ae63-8ad57c03cde8",
   "metadata": {},
   "outputs": [],
   "source": [
    "! rm -rf data/output/ints2"
   ]
  },
  {
   "cell_type": "code",
   "execution_count": 57,
   "id": "89234795",
   "metadata": {},
   "outputs": [],
   "source": [
    "ints = sc.parallelize(r).coalesce(1)\n",
    "ints.coalesce(2) \\\n",
    "    .saveAsTextFile(\"data/output/ints2\")"
   ]
  },
  {
   "cell_type": "code",
   "execution_count": 58,
   "id": "faa36640-29c9-469c-aee1-24fa5fb4e444",
   "metadata": {},
   "outputs": [],
   "source": [
    "cachedInts = sc.textFile(\"data/output/ints2\") \\\n",
    "    .map(lambda x: int(x)) \\\n",
    "    .persist(StorageLevel.DISK_ONLY_2) "
   ]
  },
  {
   "cell_type": "code",
   "execution_count": 59,
   "id": "8efd5d26",
   "metadata": {},
   "outputs": [],
   "source": [
    "print(cachedInts.count())\n",
    "print(cachedInts.take(1))"
   ]
  },
  {
   "cell_type": "code",
   "execution_count": 60,
   "id": "ea9d1d65",
   "metadata": {},
   "outputs": [],
   "source": [
    "cachedInts.unpersist()\n",
    "print(cachedInts.count())"
   ]
  },
  {
   "cell_type": "code",
   "execution_count": 61,
   "id": "9f44eb69-e9c8-44ca-a9bb-33c1ce12780d",
   "metadata": {},
   "outputs": [],
   "source": [
    "unpersisted = cachedInts.map(lambda x: x + 1).take(5)\n",
    "print(unpersisted)"
   ]
  },
  {
   "cell_type": "code",
   "execution_count": 62,
   "id": "40f4d75b-1ca9-44ec-ae4b-3d25c08c6b27",
   "metadata": {},
   "outputs": [],
   "source": [
    "reduced = cachedInts.reduce(lambda x, y: x + y)\n",
    "print(reduced)"
   ]
  },
  {
   "cell_type": "code",
   "execution_count": 63,
   "id": "25760d54-42e9-4272-8be7-edb4881fcd52",
   "metadata": {},
   "outputs": [],
   "source": [
    "doubles = cachedInts.map(lambda x: x * 2)\n",
    "\n",
    "even = cachedInts.filter(lambda x: x % 2 == 0)\n",
    "\n",
    "print(even.collect())\n",
    "\n",
    "even.setName(\"Even numbers\")\n",
    "print(\"Name is \" + even.name() + \" id is \" + str(even.id()))\n",
    "\n",
    "plan = even.toDebugString().decode(\"utf-8\")\n",
    "\n",
    "print(plan)\n",
    "print(doubles.take(5))"
   ]
  },
  {
   "cell_type": "markdown",
   "id": "77352e87-0b25-4182-81f0-467331037c88",
   "metadata": {},
   "source": [
    "### Как группировать и соединять RDD"
   ]
  },
  {
   "cell_type": "code",
   "execution_count": 64,
   "id": "8b4956d6-0bcd-48ca-a4ff-def362d69931",
   "metadata": {},
   "outputs": [],
   "source": [
    "data = [(\"Ivan\", 240), (\"Petr\", 39), (\"Elena\", 290), (\"Elena\", 300)]\n",
    "codeRows = sc.parallelize(data)\n",
    "codeRows.collect()"
   ]
  },
  {
   "cell_type": "code",
   "execution_count": 65,
   "id": "7ef57bf9-bf14-4682-943e-de84b8ef7d79",
   "metadata": {},
   "outputs": [],
   "source": [
    "reduced = codeRows.reduceByKey(lambda x, y: x + y)\n",
    "print(reduced.collect())"
   ]
  },
  {
   "cell_type": "code",
   "execution_count": 66,
   "id": "e8920c4c-10ee-48da-992f-9f72c81f70f8",
   "metadata": {},
   "outputs": [],
   "source": [
    "deduplicated = codeRows.reduceByKey(lambda x, y: x if (x > y) else y)\n",
    "print(deduplicated.collect())"
   ]
  },
  {
   "cell_type": "code",
   "execution_count": 67,
   "id": "179d5758-6230-48c8-b88c-ad3270f2eeb1",
   "metadata": {},
   "outputs": [],
   "source": [
    "folded = codeRows.foldByKey(1000, lambda x, y: x + y)\n",
    "\n",
    "# part1 (k1:2, k2:2, k3:2, k1:2) => shufle => reduce (k1:2, k1:2, k1:2) => k1:6\n",
    "# part2 (k2:2, k2:2, k3:2, k1:2) => shufle => (k2:2, k2:2, k2:2) => k2:6, (k3:2, k3:2) => k3:4\n",
    "\n",
    "folded.collect()"
   ]
  },
  {
   "cell_type": "code",
   "execution_count": 68,
   "id": "615665f4-a0a4-4de7-9eea-1574cd829494",
   "metadata": {},
   "outputs": [],
   "source": [
    "aggregated = codeRows.aggregateByKey(1000, lambda x, y: x + y, lambda x, y: x + y)\n",
    "aggregated.collect()\n",
    "\n",
    "#  part1 (k1:2, k2:2, k3:2, k1:2) => (k1:4, k2:2, k3:2) =>  shuffle => (k1:4, k1:2) => k1:6\n",
    "#  part2 (k2:2, k2:2, k3:2, k1:2) => (k1:2, k2:4, k3:2) => shuffle => (k2:4, k2:2) => k2:6, (k3:2, k3:2) => k3:4"
   ]
  },
  {
   "cell_type": "code",
   "execution_count": 69,
   "id": "06cdbceb-07ac-4b88-83d9-582b30bc82ae",
   "metadata": {},
   "outputs": [],
   "source": [
    "grouped = codeRows.groupByKey()\n",
    "print(grouped.collect())\n",
    "\n",
    "plan = grouped.toDebugString().decode(\"utf-8\")\n",
    "print(plan)"
   ]
  },
  {
   "cell_type": "markdown",
   "id": "af3191ca-ab7a-49ad-a98d-ec94b144dd36",
   "metadata": {},
   "source": [
    "### Соединение"
   ]
  },
  {
   "cell_type": "code",
   "execution_count": 70,
   "id": "272e6f0e-8461-4465-b2db-39c280a835c9",
   "metadata": {},
   "outputs": [],
   "source": [
    "profileData = [(\"Ivan\", \"Java\"), (\"Elena\", \"Scala\"), (\"Petr\", \"Scala\")]\n",
    "programmerProfiles = sc.parallelize(profileData)\n",
    "programmerProfiles.collect()"
   ]
  },
  {
   "cell_type": "code",
   "execution_count": 71,
   "id": "64cfced5-276d-4b22-9828-c06355168c8f",
   "metadata": {},
   "outputs": [],
   "source": [
    "joined = programmerProfiles.join(codeRows)\n",
    "print(joined.toDebugString().decode(\"utf-8\"))\n",
    "joined.collect()"
   ]
  },
  {
   "cell_type": "code",
   "execution_count": 72,
   "id": "29713661-8b43-46d1-8a25-78e42fd66c00",
   "metadata": {},
   "outputs": [],
   "source": [
    "data = [(\"Ivan\", 240), (\"Petr\", 39), (\"Elena\", 290), (\"Elena\", 300)]\n",
    "codeRows = sc.parallelize(data)\n",
    "codeRows = programmerProfiles.cogroup(codeRows)\n",
    "codeRows.map(lambda row: (row[0], [list(k) for k in row[1]])).take(5)"
   ]
  },
  {
   "cell_type": "code",
   "execution_count": 73,
   "id": "b6b9e990-a4e8-46f1-a408-ad796157f0cc",
   "metadata": {},
   "outputs": [],
   "source": [
    "programmerProfiles.cogroup(codeRows) \\\n",
    "    .sortByKey(False) \\\n",
    "    .collect()"
   ]
  },
  {
   "cell_type": "code",
   "execution_count": 74,
   "id": "477a5557-7f6b-40ae-9b76-b42bba22a5ff",
   "metadata": {},
   "outputs": [],
   "source": [
    "print(\"== CountByKey\")\n",
    "print(joined.countByKey())"
   ]
  },
  {
   "cell_type": "code",
   "execution_count": 75,
   "id": "6901654b-8484-4b21-8d07-5f40920e05e6",
   "metadata": {},
   "outputs": [],
   "source": [
    "print(\"== Keys\")\n",
    "codeRows.keys().collect()"
   ]
  },
  {
   "cell_type": "code",
   "execution_count": 76,
   "id": "9b5ac72e-fde9-4ad2-b85b-35d1b1938ad1",
   "metadata": {},
   "outputs": [],
   "source": [
    "print(\"== Value\")\n",
    "codeRows.values().map(lambda x : [list(k) for k in x]).collect()"
   ]
  },
  {
   "cell_type": "code",
   "execution_count": null,
   "id": "9a3fbf09-7e53-4d07-bb4d-764c6ceca10b",
   "metadata": {},
   "outputs": [],
   "source": []
  }
 ],
 "metadata": {
  "kernelspec": {
   "display_name": "Python 3 (ipykernel)",
   "language": "python",
   "name": "python3"
  },
  "language_info": {
   "codemirror_mode": {
    "name": "ipython",
    "version": 3
   },
   "file_extension": ".py",
   "mimetype": "text/x-python",
   "name": "python",
   "nbconvert_exporter": "python",
   "pygments_lexer": "ipython3",
   "version": "3.10.8"
  }
 },
 "nbformat": 4,
 "nbformat_minor": 5
}
