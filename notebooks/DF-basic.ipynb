{
 "cells": [
  {
   "cell_type": "code",
   "execution_count": 167,
   "id": "feaa5e22-d2a9-4463-a1e3-191d51816053",
   "metadata": {},
   "outputs": [],
   "source": [
    "from time import sleep\n",
    "\n",
    "from pyspark.sql import SparkSession\n",
    "from pyspark.sql.functions import expr, col\n",
    "from pyspark.sql.types import *\n",
    "\n",
    "spark = SparkSession.builder.master(\"local\").getOrCreate()\n",
    "spark.conf.set(\"spark.sql.autoBroadcastJoinThreshold\", 1000000) # 100Kb\n",
    "sc = spark.sparkContext"
   ]
  },
  {
   "cell_type": "markdown",
   "id": "2b98ce7e-fd80-419e-a6d3-2252c5dae8e6",
   "metadata": {},
   "source": [
    "### Как создать DataFrame"
   ]
  },
  {
   "cell_type": "code",
   "execution_count": 168,
   "id": "64ac42e3-989a-4100-b13d-603474947860",
   "metadata": {},
   "outputs": [],
   "source": [
    "first_df = spark.read \\\n",
    "  .format(\"json\") \\\n",
    "  .option(\"inferSchema\", \"true\") \\\n",
    "  .load(\"data/cars\")"
   ]
  },
  {
   "cell_type": "code",
   "execution_count": 169,
   "id": "1cdb13be-16d0-45a7-9941-4662db6f5f4e",
   "metadata": {},
   "outputs": [],
   "source": [
    "first_df.printSchema()"
   ]
  },
  {
   "cell_type": "code",
   "execution_count": 170,
   "id": "8cffb1fd-2aae-4548-8a0d-ce1e2b1d2c85",
   "metadata": {},
   "outputs": [],
   "source": [
    "first_df.show(10, False)"
   ]
  },
  {
   "cell_type": "code",
   "execution_count": 171,
   "id": "6039e0b2-b7b4-4bda-89e3-e91548067604",
   "metadata": {},
   "outputs": [],
   "source": [
    "# определение схемы вручную \n",
    "cars_schema = StructType([\n",
    "    StructField(\"Name\", StringType()),\n",
    "    StructField(\"Acceleration\", DoubleType()),\n",
    "    StructField(\"Cylinders\", IntegerType()),\n",
    "    StructField(\"Displacement\", DoubleType()),\n",
    "    StructField(\"Horsepower\", LongType()),\n",
    "    StructField(\"Miles_per_Gallon\", DoubleType()),\n",
    "    StructField(\"Origin\", StringType()),\n",
    "    StructField(\"Weight_in_lbs\", LongType()),\n",
    "    StructField(\"Year\", StringType()),\n",
    "])"
   ]
  },
  {
   "cell_type": "code",
   "execution_count": 172,
   "id": "eb282300-6ddb-4694-8303-a514a3d8ecf3",
   "metadata": {},
   "outputs": [],
   "source": [
    "cars_df = spark.read \\\n",
    "  .format(\"json\") \\\n",
    "  .schema(cars_schema) \\\n",
    "  .load(\"data/cars\")"
   ]
  },
  {
   "cell_type": "code",
   "execution_count": 173,
   "id": "539176b6-ca12-4e1d-8272-773c85bed3bc",
   "metadata": {},
   "outputs": [],
   "source": [
    "cars_df \\\n",
    "  .filter(col(\"Cylinders\") >= 7) \\\n",
    "  .show(5, False)"
   ]
  },
  {
   "cell_type": "code",
   "execution_count": 174,
   "id": "02927b1a-e8fd-4c1b-8717-f83e95326cd7",
   "metadata": {},
   "outputs": [],
   "source": [
    "cars_df \\\n",
    "  .filter(col(\"Cylinders\") >= 7) \\\n",
    "  .count()"
   ]
  },
  {
   "cell_type": "code",
   "execution_count": 175,
   "id": "bed9feca-588f-4aef-befb-c5329580293a",
   "metadata": {},
   "outputs": [],
   "source": [
    "# Сравните время исполнения RDD\n",
    "cars_df \\\n",
    "  .rdd \\\n",
    "  .filter(lambda row : row[\"Cylinders\"] >= 7) \\\n",
    "  .count()"
   ]
  },
  {
   "cell_type": "code",
   "execution_count": 176,
   "id": "14d5f6b6-510c-4b98-b22c-88fe5aff6b54",
   "metadata": {},
   "outputs": [],
   "source": [
    "# Как сравнить схемы двух DataFrame\n",
    "\n",
    "first_df_inferSchema = spark.read. \\\n",
    "    format(\"json\"). \\\n",
    "    option(\"inferSchema\", \"true\"). \\\n",
    "    load(\"data/cars\")\n",
    "\n",
    "first_df_inferSchema.printSchema()\n",
    "cars_df.printSchema()\n",
    "print(\"Схемы равны?\", set(first_df_inferSchema.schema) == set(cars_df.schema))"
   ]
  },
  {
   "cell_type": "code",
   "execution_count": 177,
   "id": "c100ac3b-736a-42f2-b0fc-ea7270ecc239",
   "metadata": {},
   "outputs": [],
   "source": [
    "inferred_schema = set(first_df_inferSchema.schema)\n",
    "actual_schema = set(cars_df.schema)\n",
    "\n",
    "print('поля только в вычисленной схеме:', set(inferred_schema) - set(actual_schema))\n",
    "print('поля только в заданной схеме:', set(actual_schema) - set(inferred_schema))"
   ]
  },
  {
   "cell_type": "markdown",
   "id": "50d8a1d3-8873-4f34-a089-92992207835d",
   "metadata": {},
   "source": [
    "### Catalyst Optimiser = логическая оптимизация и кодогенерация"
   ]
  },
  {
   "cell_type": "code",
   "execution_count": 178,
   "id": "10ca017f-2e28-4d75-bd1d-859cbd049be8",
   "metadata": {},
   "outputs": [],
   "source": [
    "# Adaptive Query Execution =\n",
    "#    Coalescing Post Shuffle Partitions\n",
    "#  + Converting sort-merge join to broadcast join\n",
    "#  + Optimizing Skew Join\n",
    "# Adaptive Query Execution\n",
    "print(\"\"\"AQE Configuration:\n",
    "\\tAQE enabled: {}\n",
    "\\tCoalescing Post Shuffle Partitions enabled: {}\n",
    "\\tConverting sort-merge join to broadcast join: {}\n",
    "\\tOptimizing Skew Join: {}\n",
    "\"\"\".format(\n",
    "    spark.conf.get(\"spark.sql.adaptive.enabled\"),\n",
    "    spark.conf.get(\"spark.sql.adaptive.coalescePartitions.enabled\"),\n",
    "    spark.conf.get(\"spark.sql.autoBroadcastJoinThreshold\"),\n",
    "    spark.conf.get(\"spark.sql.adaptive.skewJoin.enabled\"))\n",
    ")"
   ]
  },
  {
   "cell_type": "code",
   "execution_count": 179,
   "id": "8c5178be-9c25-4f20-a7bc-67b2e106465c",
   "metadata": {},
   "outputs": [],
   "source": [
    "most_powered_df = cars_df. \\\n",
    "    where(cars_df.Cylinders > 4). \\\n",
    "    withColumn(\"new\", expr(\"Acceleration + 10\")). \\\n",
    "    sort(cars_df.Horsepower.desc(), cars_df.Acceleration.asc())\n",
    "\n",
    "most_powered_df.explain(True)"
   ]
  },
  {
   "cell_type": "code",
   "execution_count": 180,
   "id": "ed6ba47a-1392-4b6a-9cfb-0799df61d24e",
   "metadata": {},
   "outputs": [],
   "source": [
    "for_plan_df = most_powered_df \\\n",
    "  .join(cars_df, \"Name\")"
   ]
  },
  {
   "cell_type": "code",
   "execution_count": 181,
   "id": "76a1c1ec-baae-43a4-801a-f36de749b5a2",
   "metadata": {},
   "outputs": [],
   "source": [
    "for_plan_df.explain()"
   ]
  },
  {
   "cell_type": "code",
   "execution_count": 182,
   "id": "a0b1e240-2f93-4ba0-8fd8-da1828d3a4cc",
   "metadata": {},
   "outputs": [],
   "source": [
    "spark.conf.set(\"spark.sql.autoBroadcastJoinThreshold\", 10)\n",
    "spark.conf.get(\"spark.sql.autoBroadcastJoinThreshold\")"
   ]
  },
  {
   "cell_type": "code",
   "execution_count": 183,
   "id": "325b809b-2ae0-4be2-9f89-f0920423e2ba",
   "metadata": {},
   "outputs": [],
   "source": [
    "# План уже построился, broadcast join будет использоваться\n",
    "for_plan_df.explain()"
   ]
  },
  {
   "cell_type": "code",
   "execution_count": 184,
   "id": "28757bba-cedb-454a-8ed5-078327e11acb",
   "metadata": {},
   "outputs": [],
   "source": [
    "# Для другой join операции (той же самой) broadcast join больше недоступен\n",
    "most_powered_df \\\n",
    "  .join(cars_df, \"Name\") \\\n",
    "  .explain()"
   ]
  },
  {
   "cell_type": "code",
   "execution_count": 185,
   "id": "d8beb8ac-5055-4c03-9be4-973f55dc18e3",
   "metadata": {},
   "outputs": [],
   "source": [
    "# можно явно использовать broadcast join\n",
    "from pyspark.sql.functions import broadcast\n",
    "\n",
    "most_powered_df \\\n",
    "  .join(broadcast(cars_df), \"Name\") \\\n",
    "  .explain()"
   ]
  },
  {
   "cell_type": "code",
   "execution_count": 187,
   "id": "c9188d9d-02fa-4373-9417-1a29877222b4",
   "metadata": {},
   "outputs": [],
   "source": [
    "most_powered_df.show(10)"
   ]
  }
 ],
 "metadata": {
  "kernelspec": {
   "display_name": "Python 3 (ipykernel)",
   "language": "python",
   "name": "python3"
  },
  "language_info": {
   "codemirror_mode": {
    "name": "ipython",
    "version": 3
   },
   "file_extension": ".py",
   "mimetype": "text/x-python",
   "name": "python",
   "nbconvert_exporter": "python",
   "pygments_lexer": "ipython3",
   "version": "3.10.8"
  }
 },
 "nbformat": 4,
 "nbformat_minor": 5
}
