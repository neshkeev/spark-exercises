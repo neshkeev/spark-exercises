{
 "cells": [
  {
   "cell_type": "code",
   "execution_count": 1,
   "id": "3456e3bc-b770-4a50-b563-9163a4eca554",
   "metadata": {},
   "outputs": [],
   "source": [
    "from pyspark.sql import SparkSession, Window\n",
    "from pyspark.sql.functions import *\n",
    "from pyspark.sql import functions as F\n",
    "\n",
    "spark = SparkSession. \\\n",
    "    builder. \\\n",
    "    appName(\"Spark Window UDF\"). \\\n",
    "    master(\"local[4]\"). \\\n",
    "    config(\"spark.sql.legacy.timeParserPolicy\", \"LEGACY\"). \\\n",
    "    getOrCreate()"
   ]
  },
  {
   "cell_type": "code",
   "execution_count": 2,
   "id": "21ce3c10-b834-4e6c-b01b-5755b49f61c5",
   "metadata": {},
   "outputs": [],
   "source": [
    "simpleData = [(\"James\", \"Sales\", 3000), (\"John\", \"ServiceDesk\", 4600), (\"Michael\", \"Sales\", 4600), (\"Robert\", \"Sales\", 4100),\n",
    "                 (\"Maria\", \"Finance\", 3000), (\"James\", \"Sales\", 3000), (\"Scott\", \"Finance\", 3300), (\"Jen\", \"Finance\", 3900),\n",
    "                 (\"Jeff\", \"Marketing\", 3000), (\"Kumar\", \"Marketing\", 2000), (\"Saif\", \"Sales\", 4100)]"
   ]
  },
  {
   "cell_type": "code",
   "execution_count": 3,
   "id": "e86a6873-613a-4a2f-bd4f-ef300d818d83",
   "metadata": {},
   "outputs": [],
   "source": [
    "employeeDF = spark \\\n",
    "  .createDataFrame(simpleData) \\\n",
    "  .toDF(\"employee_name\", \"department\", \"salary\")"
   ]
  },
  {
   "cell_type": "code",
   "execution_count": 4,
   "id": "34321996-957b-4817-9296-678dfd56d72e",
   "metadata": {},
   "outputs": [],
   "source": [
    "employeeDF.show(10, False)"
   ]
  },
  {
   "cell_type": "markdown",
   "id": "e7ae49eb-e213-418d-81dd-00eafa77bc03",
   "metadata": {},
   "source": [
    "# Window functions"
   ]
  },
  {
   "cell_type": "code",
   "execution_count": 6,
   "id": "2fb6e96c-9807-4529-a774-5e8d4107124f",
   "metadata": {},
   "outputs": [],
   "source": [
    "employeeDF.createOrReplaceTempView(\"employee\")"
   ]
  },
  {
   "cell_type": "code",
   "execution_count": 7,
   "id": "fe5aeed3-06db-477b-8e55-f562a2eb0038",
   "metadata": {},
   "outputs": [],
   "source": [
    "# How to find second salary in employee\n",
    "result_sql_df = spark.sql(\"\"\"select distinct salary from (\n",
    "                                select\n",
    "                                    employee_name,\n",
    "                                    department,\n",
    "                                    salary,\n",
    "                                    row_number() OVER (ORDER BY salary DESC) as row_num,\n",
    "                                    rank() OVER (ORDER BY salary DESC) as rank,\n",
    "                                    dense_rank() OVER (ORDER BY salary DESC) as dense_rank\n",
    "                              from employee) where dense_rank = 2\"\"\")"
   ]
  },
  {
   "cell_type": "code",
   "execution_count": 8,
   "id": "b27ee7b5-b5e5-46c5-9ad5-19c16e0aae08",
   "metadata": {},
   "outputs": [],
   "source": [
    "result_sql_df.explain()"
   ]
  },
  {
   "cell_type": "code",
   "execution_count": 9,
   "id": "c0642dcd-2eab-4c89-917a-3d87d47cf9bb",
   "metadata": {},
   "outputs": [],
   "source": [
    "result_sql_df.show()"
   ]
  },
  {
   "cell_type": "markdown",
   "id": "dddd1c7e-441d-4cf0-a84f-bd4c0dd499a7",
   "metadata": {},
   "source": [
    "## Window functions in Spark DSL"
   ]
  },
  {
   "cell_type": "code",
   "execution_count": 10,
   "id": "5fb1242a-20d8-4c90-8868-233e1be85d45",
   "metadata": {},
   "outputs": [],
   "source": [
    "# windowSpec = Window.partitionBy(\"department\").orderBy(F.col(\"salary\").desc())\n",
    "windowSpec = Window.orderBy(F.col(\"salary\").desc())"
   ]
  },
  {
   "cell_type": "code",
   "execution_count": 11,
   "id": "c19e43b1-1444-4765-b492-8d0ade69b9a5",
   "metadata": {},
   "outputs": [],
   "source": [
    "result_with_rank_df = employeeDF \\\n",
    "  .withColumn(\n",
    "    \"rank\",\n",
    "    F.rank()\n",
    "        .over(windowSpec)) \\\n",
    "  .withColumn(\n",
    "    \"row_number\",\n",
    "    F.row_number()\n",
    "        .over(windowSpec)) \\\n",
    "  .withColumn(\n",
    "    \"dense_rank\",\n",
    "    F.dense_rank()\n",
    "        .over(windowSpec))"
   ]
  },
  {
   "cell_type": "code",
   "execution_count": 12,
   "id": "1dda45d8-2ec7-4508-bd2e-a5417f7a8554",
   "metadata": {},
   "outputs": [],
   "source": [
    "result_with_rank_df.explain()"
   ]
  },
  {
   "cell_type": "code",
   "execution_count": 13,
   "id": "b7f83f67-7581-4c5f-95f9-74cf6deb9372",
   "metadata": {},
   "outputs": [],
   "source": [
    "result_with_rank_df.show()"
   ]
  },
  {
   "cell_type": "code",
   "execution_count": 14,
   "id": "92e7dc90-f21e-4492-bf26-d265b76da3da",
   "metadata": {},
   "outputs": [],
   "source": [
    "# Использовать одну партицю опасно, никогда не пишите такой код в PRODUCTION\n",
    "# Заметтье, тут COUNT(*) по всему множеству строк, что может не поместиться в память => OOM\n",
    "query = \"\"\"\n",
    "select \n",
    "    employee_name, \n",
    "    department, \n",
    "    salary, \n",
    "    count(*) OVER () as cnt\n",
    "from employee\n",
    "\"\"\"\n",
    "\n",
    "result_sql_df = spark.sql(query)"
   ]
  },
  {
   "cell_type": "code",
   "execution_count": 15,
   "id": "ec5e52dc-79f8-492c-ab34-40d93b5bf739",
   "metadata": {},
   "outputs": [],
   "source": [
    "result_sql_df.explain()"
   ]
  },
  {
   "cell_type": "code",
   "execution_count": 16,
   "id": "4fa64389-d702-4045-95d3-a756ca37eb00",
   "metadata": {},
   "outputs": [],
   "source": [
    "result_sql_df.show()"
   ]
  },
  {
   "cell_type": "code",
   "execution_count": 27,
   "id": "baa40cd0-3459-4726-877b-046aef774772",
   "metadata": {},
   "outputs": [],
   "source": [
    "# Spark DSL, SinglePartition\n",
    "single_part_df_1 = employeeDF.\\\n",
    "    withColumn(\"rank\", F.count(F.col(\"employee_name\")).over(windowSpec))"
   ]
  },
  {
   "cell_type": "code",
   "execution_count": 28,
   "id": "0b1567ba-b329-47ea-a249-381a1990140b",
   "metadata": {},
   "outputs": [],
   "source": [
    "single_part_df_1.explain()"
   ]
  },
  {
   "cell_type": "code",
   "execution_count": 29,
   "id": "b07855ad-6e90-4360-b6de-ce8b2f840322",
   "metadata": {},
   "outputs": [],
   "source": [
    "single_part_df_1.show()"
   ]
  },
  {
   "cell_type": "code",
   "execution_count": 30,
   "id": "984de0e1-f410-4182-8607-23de64542c3a",
   "metadata": {},
   "outputs": [],
   "source": [
    "# Правильный способ\n",
    "\n",
    "cnt = employeeDF.count()\n",
    "\n",
    "result_with_count_df = employeeDF \\\n",
    "  .withColumn(\n",
    "    \"count\",\n",
    "    F.lit(cnt)\n",
    "  )"
   ]
  },
  {
   "cell_type": "code",
   "execution_count": 31,
   "id": "95713949-2b9d-456d-8d1f-061fedf0c967",
   "metadata": {},
   "outputs": [],
   "source": [
    "result_with_count_df.explain()"
   ]
  },
  {
   "cell_type": "code",
   "execution_count": 32,
   "id": "1a21881a-dc19-4389-b12c-c3c3e50caf67",
   "metadata": {},
   "outputs": [],
   "source": [
    "result_with_count_df.show()"
   ]
  },
  {
   "cell_type": "code",
   "execution_count": 33,
   "id": "cd28d412-3a96-4ea8-879e-58d49a7f5b50",
   "metadata": {},
   "outputs": [],
   "source": [
    "# Не используйте row_number без партиционирования => Exchange SinglePartition\n",
    "\n",
    "single_part_df_2 = employeeDF \\\n",
    "  .withColumn(\"row_num\", F.row_number().over(windowSpec))"
   ]
  },
  {
   "cell_type": "code",
   "execution_count": 34,
   "id": "33a1306c-144e-4eae-aeed-1731213e5801",
   "metadata": {},
   "outputs": [],
   "source": [
    "single_part_df_2.explain()"
   ]
  },
  {
   "cell_type": "code",
   "execution_count": 35,
   "id": "14d61fc0-433a-485b-8809-7becd921cfd2",
   "metadata": {},
   "outputs": [],
   "source": [
    "single_part_df_2.show()"
   ]
  },
  {
   "cell_type": "code",
   "execution_count": 37,
   "id": "bdf034da-2a5b-4c52-ab7e-34631635567c",
   "metadata": {},
   "outputs": [],
   "source": [
    "# Способ получше\n",
    "\n",
    "result_with_uniq_num = employeeDF \\\n",
    "  .withColumn(\"row_num\", F.monotonically_increasing_id())\n",
    "\n",
    "print(\"Колличество партиций: \", employeeDF.rdd.getNumPartitions())"
   ]
  },
  {
   "cell_type": "code",
   "execution_count": 38,
   "id": "db2d59c2-bf97-4af9-98f9-4fb94eeb2a87",
   "metadata": {},
   "outputs": [],
   "source": [
    "result_with_uniq_num.explain()"
   ]
  },
  {
   "cell_type": "code",
   "execution_count": 39,
   "id": "cde59f2c-822e-4ae3-9996-b492cb2ed018",
   "metadata": {},
   "outputs": [],
   "source": [
    "result_with_uniq_num.show()"
   ]
  },
  {
   "cell_type": "markdown",
   "id": "aab46d16-6742-459b-b92d-a4712d99dec8",
   "metadata": {},
   "source": [
    "# UDF, UDAF user_define_functions"
   ]
  },
  {
   "cell_type": "code",
   "execution_count": 40,
   "id": "4b54e9fa-c5c2-4963-a1b7-eb4b4df94e2b",
   "metadata": {},
   "outputs": [],
   "source": [
    "# Определить UDF\n",
    "lambda_is_between_1972_and_1974 = lambda year: 1972 <= year <= 1974"
   ]
  },
  {
   "cell_type": "code",
   "execution_count": 41,
   "id": "0bd1a7c2-c05f-42f9-b3dc-d1fa41ac95e7",
   "metadata": {},
   "outputs": [],
   "source": [
    "# Зарегистрировать UDF либо через udf функцию\n",
    "is_between_1972_and_1974 = udf(lambda_is_between_1972_and_1974)"
   ]
  },
  {
   "cell_type": "code",
   "execution_count": 42,
   "id": "36126222-3907-44d9-bbd0-56eae09f2564",
   "metadata": {},
   "outputs": [],
   "source": [
    "# либо через spark context\n",
    "spark.udf.register(\"isBetween72And74\", lambda_is_between_1972_and_1974)"
   ]
  },
  {
   "cell_type": "code",
   "execution_count": 44,
   "id": "161a0c80-bf8f-4925-872f-d0f22945140d",
   "metadata": {},
   "outputs": [],
   "source": [
    "cars = spark.read. \\\n",
    "    option(\"inferSchema\", \"true\").\\\n",
    "    json(\"data/cars\")\n",
    "\n",
    "cars.show(5)"
   ]
  },
  {
   "cell_type": "code",
   "execution_count": 47,
   "id": "7dc98ae9-fb38-4ced-9bc5-34c840cd554e",
   "metadata": {},
   "outputs": [],
   "source": [
    "cars_72_74_df = cars \\\n",
    "  .selectExpr(\"Year\", \"isBetween72And74(CAST(SUBSTR(YEAR, 0, 4) as int)) as between_72_and_74\") \\\n",
    "  .filter(\"Year is not null\") \\\n",
    "  .distinct()"
   ]
  },
  {
   "cell_type": "code",
   "execution_count": 48,
   "id": "427db6fd-2615-46e5-9f89-8fa4f3b05dda",
   "metadata": {},
   "outputs": [],
   "source": [
    "cars_72_74_df.explain()"
   ]
  },
  {
   "cell_type": "code",
   "execution_count": 50,
   "id": "362dd80d-e7ed-4be5-8a90-2ebb89d6bf3f",
   "metadata": {},
   "outputs": [],
   "source": [
    "cars_72_74_df.show()"
   ]
  },
  {
   "cell_type": "code",
   "execution_count": 51,
   "id": "40f93401-2ada-4b0a-aae1-362e22f68ac3",
   "metadata": {},
   "outputs": [],
   "source": [
    "cars_72_74_df = cars \\\n",
    "  .select(cars.Year, is_between_1972_and_1974(cars.Year.substr(0, 4).cast(\"int\"))) \\\n",
    "  .filter(F.col(\"Year\").isNotNull()) \\\n",
    "  .distinct()"
   ]
  },
  {
   "cell_type": "code",
   "execution_count": 52,
   "id": "fc9a74e2-c7b3-4034-a80e-0bfe41e8e868",
   "metadata": {},
   "outputs": [],
   "source": [
    "cars_72_74_df.explain()"
   ]
  },
  {
   "cell_type": "code",
   "execution_count": 53,
   "id": "8b9a9633-af34-4513-ab37-b42fd6438bd2",
   "metadata": {},
   "outputs": [],
   "source": [
    "cars_72_74_df.show()"
   ]
  },
  {
   "cell_type": "code",
   "execution_count": 56,
   "id": "ee2adaf8-3570-4a43-aaf1-2890699fb504",
   "metadata": {},
   "outputs": [],
   "source": [
    "cars.createOrReplaceTempView(\"cars\")\n",
    "\n",
    "query = \"\"\"\n",
    "SELECT DISTINCT Name\n",
    "     , Year\n",
    "  FROM (\n",
    "    SELECT CAST(SUBSTR(YEAR, 0, 4) as int) Y\n",
    "         , *\n",
    "      FROM cars\n",
    "     WHERE Year IS NOT NULL\n",
    "    )\n",
    " WHERE isBetween72And74(Y) = true\n",
    "\"\"\"\n",
    "\n",
    "cars_72_74_df = spark.sql(query)"
   ]
  },
  {
   "cell_type": "code",
   "execution_count": 57,
   "id": "e2b2e45b-4004-4081-99f9-4e1fac689407",
   "metadata": {},
   "outputs": [],
   "source": [
    "cars_72_74_df.explain()"
   ]
  },
  {
   "cell_type": "code",
   "execution_count": 58,
   "id": "3c764431-fec6-422e-a461-af5a15eb063d",
   "metadata": {},
   "outputs": [],
   "source": [
    "cars_72_74_df.show(5, False)"
   ]
  }
 ],
 "metadata": {
  "kernelspec": {
   "display_name": "Python 3 (ipykernel)",
   "language": "python",
   "name": "python3"
  },
  "language_info": {
   "codemirror_mode": {
    "name": "ipython",
    "version": 3
   },
   "file_extension": ".py",
   "mimetype": "text/x-python",
   "name": "python",
   "nbconvert_exporter": "python",
   "pygments_lexer": "ipython3",
   "version": "3.10.8"
  }
 },
 "nbformat": 4,
 "nbformat_minor": 5
}
