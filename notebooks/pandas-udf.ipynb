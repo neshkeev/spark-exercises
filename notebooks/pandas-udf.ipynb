{
 "cells": [
  {
   "cell_type": "code",
   "execution_count": 1,
   "id": "3456e3bc-b770-4a50-b563-9163a4eca554",
   "metadata": {},
   "outputs": [],
   "source": [
    "from pyspark.sql import SparkSession, Window\n",
    "from pyspark.sql.functions import *\n",
    "from pyspark.sql import functions as F\n",
    "\n",
    "spark = SparkSession \\\n",
    "    .builder \\\n",
    "    .appName(\"Spark Pandas UDF\") \\\n",
    "    .master(\"local[4]\") \\\n",
    "    .config(\"spark.sql.execution.arrow.pyspark.enabled\", \"true\") \\\n",
    "    .getOrCreate()\n",
    "\n",
    "# .config(\"spark.sql.execution.arrow.maxRecordsPerBatch\", \"10000\") \\"
   ]
  },
  {
   "cell_type": "code",
   "execution_count": 2,
   "id": "54234a29-77de-4f2f-91b2-3e3a6384faae",
   "metadata": {},
   "outputs": [
    {
     "name": "stdout",
     "output_type": "stream",
     "text": [
      "CPU times: user 406 ms, sys: 96 ms, total: 502 ms\n",
      "Wall time: 2.67 s\n"
     ]
    }
   ],
   "source": [
    "spark.conf.set(\"spark.sql.execution.arrow.pyspark.enabled\", \"false\")\n",
    "df = spark.range(1 << 10).toDF(\"id\").withColumn(\"x\", rand())\n",
    "\n",
    "%time pandas_df = df.toPandas()"
   ]
  },
  {
   "cell_type": "code",
   "execution_count": 3,
   "id": "59bf7ed4-98ed-4281-8af1-0e074e6ec12b",
   "metadata": {},
   "outputs": [
    {
     "name": "stdout",
     "output_type": "stream",
     "text": [
      "CPU times: user 876 µs, sys: 17.5 ms, total: 18.3 ms\n",
      "Wall time: 675 ms\n"
     ]
    }
   ],
   "source": [
    "spark.conf.set(\"spark.sql.execution.arrow.pyspark.enabled\", \"true\")\n",
    "df = spark.range(1 << 10).toDF(\"id\").withColumn(\"x\", rand())\n",
    "\n",
    "%time pandas_df = df.toPandas()"
   ]
  },
  {
   "cell_type": "code",
   "execution_count": 4,
   "id": "7f6b1506-76e0-426f-a005-73cf385561ac",
   "metadata": {},
   "outputs": [],
   "source": [
    "import numpy as np\n",
    "import pandas as pd\n",
    "import pyarrow as pa"
   ]
  },
  {
   "cell_type": "code",
   "execution_count": 5,
   "id": "ed25dd35-1b09-474e-b2b3-e9999c3b728e",
   "metadata": {},
   "outputs": [
    {
     "name": "stdout",
     "output_type": "stream",
     "text": [
      "Arrow включен: true\n"
     ]
    }
   ],
   "source": [
    "print(\"Arrow включен:\", spark.conf.get(\"spark.sql.execution.arrow.pyspark.enabled\"))"
   ]
  },
  {
   "cell_type": "code",
   "execution_count": 6,
   "id": "8b178544-7dcc-4f8c-bce9-b2ec533f7e0b",
   "metadata": {},
   "outputs": [
    {
     "data": {
      "text/plain": [
       "pyarrow.Table\n",
       "temp: double\n",
       "month: string\n",
       "full: bool\n",
       "----\n",
       "temp: [[-17,null,4]]\n",
       "month: [[\"january\",\"february\",\"march\"]]\n",
       "full: [[true,false,true]]"
      ]
     },
     "execution_count": 6,
     "metadata": {},
     "output_type": "execute_result"
    }
   ],
   "source": [
    "pdf = pd.DataFrame({\n",
    "    'temp': [-17, np.nan, 4],\n",
    "    'month': ['january', 'february', 'march'],\n",
    "    'full': [True, False, True]\n",
    "    }\n",
    ")\n",
    "table = pa.Table.from_pandas(pdf)\n",
    "table"
   ]
  },
  {
   "cell_type": "code",
   "execution_count": 7,
   "id": "a6524466-3276-4659-8507-e021915f6821",
   "metadata": {},
   "outputs": [
    {
     "data": {
      "text/html": [
       "<div>\n",
       "<style scoped>\n",
       "    .dataframe tbody tr th:only-of-type {\n",
       "        vertical-align: middle;\n",
       "    }\n",
       "\n",
       "    .dataframe tbody tr th {\n",
       "        vertical-align: top;\n",
       "    }\n",
       "\n",
       "    .dataframe thead th {\n",
       "        text-align: right;\n",
       "    }\n",
       "</style>\n",
       "<table border=\"1\" class=\"dataframe\">\n",
       "  <thead>\n",
       "    <tr style=\"text-align: right;\">\n",
       "      <th></th>\n",
       "      <th>temp</th>\n",
       "      <th>month</th>\n",
       "      <th>full</th>\n",
       "    </tr>\n",
       "  </thead>\n",
       "  <tbody>\n",
       "    <tr>\n",
       "      <th>0</th>\n",
       "      <td>-17.0</td>\n",
       "      <td>january</td>\n",
       "      <td>True</td>\n",
       "    </tr>\n",
       "    <tr>\n",
       "      <th>1</th>\n",
       "      <td>NaN</td>\n",
       "      <td>february</td>\n",
       "      <td>False</td>\n",
       "    </tr>\n",
       "    <tr>\n",
       "      <th>2</th>\n",
       "      <td>4.0</td>\n",
       "      <td>march</td>\n",
       "      <td>True</td>\n",
       "    </tr>\n",
       "  </tbody>\n",
       "</table>\n",
       "</div>"
      ],
      "text/plain": [
       "   temp     month   full\n",
       "0 -17.0   january   True\n",
       "1   NaN  february  False\n",
       "2   4.0     march   True"
      ]
     },
     "execution_count": 7,
     "metadata": {},
     "output_type": "execute_result"
    }
   ],
   "source": [
    "pdf = table.to_pandas()\n",
    "pdf.head()"
   ]
  },
  {
   "cell_type": "code",
   "execution_count": 8,
   "id": "21ce3c10-b834-4e6c-b01b-5755b49f61c5",
   "metadata": {},
   "outputs": [],
   "source": [
    "emps = [(\"James\", \"Sales\", 3000), (\"John\", \"ServiceDesk\", 4600), (\"Michael\", \"Sales\", 4600), (\"Robert\", \"Sales\", 4100),\n",
    "                 (\"Maria\", \"Finance\", 3000), (\"James\", \"Sales\", 3000), (\"Scott\", \"Finance\", 3300), (\"Jen\", \"Finance\", 3900),\n",
    "                 (\"Jeff\", \"Marketing\", 3000), (\"Kumar\", \"Marketing\", 2000), (\"Saif\", \"Sales\", 4100)]\n",
    "emps = [x for x in emps for _ in range(500)]\n",
    "np.random.shuffle(emps)"
   ]
  },
  {
   "cell_type": "code",
   "execution_count": 9,
   "id": "e86a6873-613a-4a2f-bd4f-ef300d818d83",
   "metadata": {},
   "outputs": [],
   "source": [
    "spark \\\n",
    "  .createDataFrame(emps) \\\n",
    "  .toDF(\"employee_name\", \"department\", \"salary\") \\\n",
    "  .write \\\n",
    "  .mode(\"overwrite\") \\\n",
    "  .parquet(\"../out/emps\")"
   ]
  },
  {
   "cell_type": "code",
   "execution_count": 10,
   "id": "34321996-957b-4817-9296-678dfd56d72e",
   "metadata": {},
   "outputs": [
    {
     "data": {
      "text/plain": [
       "pyarrow.Table\n",
       "employee_name: string\n",
       "department: string\n",
       "salary: int64\n",
       "----\n",
       "employee_name: [[\"Michael\",\"Kumar\",\"James\",\"Jen\",\"Saif\"]]\n",
       "department: [[\"Sales\",\"Marketing\",\"Sales\",\"Finance\",\"Sales\"]]\n",
       "salary: [[4600,2000,3000,3900,4100]]"
      ]
     },
     "execution_count": 10,
     "metadata": {},
     "output_type": "execute_result"
    }
   ],
   "source": [
    "import pyarrow.parquet as pq\n",
    "\n",
    "empsTable = pq.ParquetDataset(\"../out/emps\").read()\n",
    "empsTable[0:5]"
   ]
  },
  {
   "cell_type": "code",
   "execution_count": 11,
   "id": "8f7369dd-c89d-4b03-9a22-253e714e78c8",
   "metadata": {},
   "outputs": [
    {
     "name": "stderr",
     "output_type": "stream",
     "text": [
      "/usr/local/spark/python/pyspark/sql/pandas/conversion.py:604: FutureWarning: iteritems is deprecated and will be removed in a future version. Use .items instead.\n",
      "  [(c, t) for (_, c), t in zip(pdf_slice.iteritems(), arrow_types)]\n"
     ]
    },
    {
     "name": "stdout",
     "output_type": "stream",
     "text": [
      "+-------------+----------+------+\n",
      "|employee_name|department|salary|\n",
      "+-------------+----------+------+\n",
      "|      Michael|     Sales|  4600|\n",
      "|        Kumar| Marketing|  2000|\n",
      "|        James|     Sales|  3000|\n",
      "|          Jen|   Finance|  3900|\n",
      "|         Saif|     Sales|  4100|\n",
      "+-------------+----------+------+\n",
      "only showing top 5 rows\n",
      "\n"
     ]
    }
   ],
   "source": [
    "pdf = empsTable.to_pandas()\n",
    "empsDf = spark.createDataFrame(pdf)\n",
    "empsDf.show(5)"
   ]
  },
  {
   "cell_type": "code",
   "execution_count": 12,
   "id": "61b6e29e-09c4-4de3-975b-4716c347f911",
   "metadata": {},
   "outputs": [
    {
     "data": {
      "text/html": [
       "<div>\n",
       "<style scoped>\n",
       "    .dataframe tbody tr th:only-of-type {\n",
       "        vertical-align: middle;\n",
       "    }\n",
       "\n",
       "    .dataframe tbody tr th {\n",
       "        vertical-align: top;\n",
       "    }\n",
       "\n",
       "    .dataframe thead th {\n",
       "        text-align: right;\n",
       "    }\n",
       "</style>\n",
       "<table border=\"1\" class=\"dataframe\">\n",
       "  <thead>\n",
       "    <tr style=\"text-align: right;\">\n",
       "      <th></th>\n",
       "      <th>employee_name</th>\n",
       "      <th>department</th>\n",
       "      <th>salary</th>\n",
       "    </tr>\n",
       "  </thead>\n",
       "  <tbody>\n",
       "    <tr>\n",
       "      <th>0</th>\n",
       "      <td>Michael</td>\n",
       "      <td>Sales</td>\n",
       "      <td>4600</td>\n",
       "    </tr>\n",
       "    <tr>\n",
       "      <th>1</th>\n",
       "      <td>Kumar</td>\n",
       "      <td>Marketing</td>\n",
       "      <td>2000</td>\n",
       "    </tr>\n",
       "    <tr>\n",
       "      <th>2</th>\n",
       "      <td>James</td>\n",
       "      <td>Sales</td>\n",
       "      <td>3000</td>\n",
       "    </tr>\n",
       "    <tr>\n",
       "      <th>3</th>\n",
       "      <td>Jen</td>\n",
       "      <td>Finance</td>\n",
       "      <td>3900</td>\n",
       "    </tr>\n",
       "    <tr>\n",
       "      <th>4</th>\n",
       "      <td>Saif</td>\n",
       "      <td>Sales</td>\n",
       "      <td>4100</td>\n",
       "    </tr>\n",
       "  </tbody>\n",
       "</table>\n",
       "</div>"
      ],
      "text/plain": [
       "  employee_name department  salary\n",
       "0       Michael      Sales    4600\n",
       "1         Kumar  Marketing    2000\n",
       "2         James      Sales    3000\n",
       "3           Jen    Finance    3900\n",
       "4          Saif      Sales    4100"
      ]
     },
     "execution_count": 12,
     "metadata": {},
     "output_type": "execute_result"
    }
   ],
   "source": [
    "empsPdf = empsDf.toPandas()\n",
    "empsPdf.head()"
   ]
  },
  {
   "cell_type": "markdown",
   "id": "e7ae49eb-e213-418d-81dd-00eafa77bc03",
   "metadata": {},
   "source": [
    "# Pandas UDFs"
   ]
  },
  {
   "cell_type": "code",
   "execution_count": 13,
   "id": "b0632475-1f7e-4341-b09a-2da8c600bb5e",
   "metadata": {},
   "outputs": [],
   "source": [
    "empsDf = spark.read.parquet(\"../out/emps\")"
   ]
  },
  {
   "cell_type": "code",
   "execution_count": 28,
   "id": "7b30155e-e474-4bb9-a641-a19fe694bd89",
   "metadata": {},
   "outputs": [
    {
     "data": {
      "text/plain": [
       "<function __main__.doubleSalary(salary: pandas.core.series.Series) -> pandas.core.series.Series>"
      ]
     },
     "execution_count": 28,
     "metadata": {},
     "output_type": "execute_result"
    }
   ],
   "source": [
    "@F.pandas_udf(\"long\")\n",
    "def doubleSalary(salary: pd.Series) -> pd.Series:\n",
    "    return salary * 2\n",
    "\n",
    "spark.udf.register(\"doubleSalary\", doubleSalary)"
   ]
  },
  {
   "cell_type": "code",
   "execution_count": 17,
   "id": "d384227c-62c8-4544-87e0-c8265e5a804e",
   "metadata": {},
   "outputs": [
    {
     "name": "stdout",
     "output_type": "stream",
     "text": [
      "+-------------+----------+------+----------+\n",
      "|employee_name|department|salary|new_salary|\n",
      "+-------------+----------+------+----------+\n",
      "|         Saif|     Sales|  4100|      8200|\n",
      "|         Saif|     Sales|  4100|      8200|\n",
      "|      Michael|     Sales|  4600|      9200|\n",
      "|       Robert|     Sales|  4100|      8200|\n",
      "|       Robert|     Sales|  4100|      8200|\n",
      "+-------------+----------+------+----------+\n",
      "only showing top 5 rows\n",
      "\n"
     ]
    }
   ],
   "source": [
    "empsDf \\\n",
    "  .withColumn(\"new_salary\", doubleSalary(col(\"salary\"))) \\\n",
    "  .show(5)"
   ]
  },
  {
   "cell_type": "code",
   "execution_count": 18,
   "id": "c03dd3c3-7ea1-4853-942f-f6454fe14996",
   "metadata": {},
   "outputs": [
    {
     "name": "stdout",
     "output_type": "stream",
     "text": [
      "+-------------+----------+------+----------+\n",
      "|employee_name|department|salary|new_salary|\n",
      "+-------------+----------+------+----------+\n",
      "|         Saif|     Sales|  4100|      8200|\n",
      "|         Saif|     Sales|  4100|      8200|\n",
      "|      Michael|     Sales|  4600|      9200|\n",
      "|       Robert|     Sales|  4100|      8200|\n",
      "|       Robert|     Sales|  4100|      8200|\n",
      "+-------------+----------+------+----------+\n",
      "only showing top 5 rows\n",
      "\n"
     ]
    }
   ],
   "source": [
    "empsDf.createOrReplaceTempView(\"emps\")\n",
    "spark.sql(\"select employee_name, department, salary, doubleSalary(salary) new_salary from emps\") \\\n",
    "  .show(5)"
   ]
  },
  {
   "cell_type": "code",
   "execution_count": 19,
   "id": "1b10e14b-92e4-4f3f-8eaf-0c6a16c464e9",
   "metadata": {},
   "outputs": [],
   "source": [
    "@pandas_udf(\"double\")\n",
    "def mean_udf(v: pd.Series) -> float:\n",
    "    return v.mean()"
   ]
  },
  {
   "cell_type": "code",
   "execution_count": 20,
   "id": "377cbf71-c2ba-43f6-8401-1709ccc01dbb",
   "metadata": {},
   "outputs": [
    {
     "name": "stdout",
     "output_type": "stream",
     "text": [
      "+-----------------+\n",
      "| mean_udf(salary)|\n",
      "+-----------------+\n",
      "|3509.090909090909|\n",
      "+-----------------+\n",
      "\n"
     ]
    }
   ],
   "source": [
    "empsDf.select(mean_udf(empsDf[\"salary\"])).show()"
   ]
  },
  {
   "cell_type": "code",
   "execution_count": 27,
   "id": "8f00590f-8fa3-4512-9150-e9f71be59b59",
   "metadata": {},
   "outputs": [
    {
     "name": "stdout",
     "output_type": "stream",
     "text": [
      "+-----------+----------------+\n",
      "| department|mean_udf(salary)|\n",
      "+-----------+----------------+\n",
      "|    Finance|          3400.0|\n",
      "|  Marketing|          2500.0|\n",
      "|      Sales|          3760.0|\n",
      "|ServiceDesk|          4600.0|\n",
      "+-----------+----------------+\n",
      "\n"
     ]
    }
   ],
   "source": [
    "empsDf \\\n",
    "  .groupby(\"department\") \\\n",
    "  .agg(mean_udf(empsDf['salary'])) \\\n",
    "  .show()"
   ]
  },
  {
   "cell_type": "code",
   "execution_count": 22,
   "id": "f102f726-164e-46c1-baf0-4930a1eb059c",
   "metadata": {},
   "outputs": [
    {
     "name": "stdout",
     "output_type": "stream",
     "text": [
      "+-------------+----------+------+------+\n",
      "|employee_name|department|salary|mean_v|\n",
      "+-------------+----------+------+------+\n",
      "|        Scott|   Finance|  3300|3400.0|\n",
      "|        Maria|   Finance|  3000|3400.0|\n",
      "|        Maria|   Finance|  3000|3400.0|\n",
      "|        Scott|   Finance|  3300|3400.0|\n",
      "|          Jen|   Finance|  3900|3400.0|\n",
      "+-------------+----------+------+------+\n",
      "only showing top 5 rows\n",
      "\n"
     ]
    }
   ],
   "source": [
    "windowSpec = Window.partitionBy('department')\n",
    "\n",
    "empsDf \\\n",
    "  .withColumn(\n",
    "    'mean_v',\n",
    "    mean_udf(empsDf['salary'])\n",
    "      .over(windowSpec)) \\\n",
    "  .show(5)"
   ]
  },
  {
   "cell_type": "code",
   "execution_count": 38,
   "id": "67edea60-1748-458d-a4dd-fec5ac40211e",
   "metadata": {},
   "outputs": [],
   "source": [
    "def subtract_mean(pdf: pd.DataFrame) -> pd.DataFrame:\n",
    "    sal_diff = pdf.salary\n",
    "    return pdf.assign(sal_diff=sal_diff - sal_diff.mean())"
   ]
  },
  {
   "cell_type": "code",
   "execution_count": 39,
   "id": "d9fc1d5f-523c-4b34-a52d-41588dbc9dee",
   "metadata": {},
   "outputs": [
    {
     "name": "stdout",
     "output_type": "stream",
     "text": [
      "+-------------+----------+------+--------+\n",
      "|employee_name|department|salary|sal_diff|\n",
      "+-------------+----------+------+--------+\n",
      "|        Scott|   Finance|3300.0|  -100.0|\n",
      "|        Maria|   Finance|3000.0|  -400.0|\n",
      "|        Maria|   Finance|3000.0|  -400.0|\n",
      "|        Scott|   Finance|3300.0|  -100.0|\n",
      "|          Jen|   Finance|3900.0|   500.0|\n",
      "+-------------+----------+------+--------+\n",
      "only showing top 5 rows\n",
      "\n"
     ]
    }
   ],
   "source": [
    "empsDf \\\n",
    "  .groupby(\"department\") \\\n",
    "  .applyInPandas(\n",
    "    subtract_mean,\n",
    "    schema=\"employee_name string, department string, salary double, sal_diff double\") \\\n",
    "  .show(5)"
   ]
  }
 ],
 "metadata": {
  "kernelspec": {
   "display_name": "Python 3 (ipykernel)",
   "language": "python",
   "name": "python3"
  },
  "language_info": {
   "codemirror_mode": {
    "name": "ipython",
    "version": 3
   },
   "file_extension": ".py",
   "mimetype": "text/x-python",
   "name": "python",
   "nbconvert_exporter": "python",
   "pygments_lexer": "ipython3",
   "version": "3.10.8"
  }
 },
 "nbformat": 4,
 "nbformat_minor": 5
}
