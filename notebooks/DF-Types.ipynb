{
 "cells": [
  {
   "cell_type": "code",
   "execution_count": 1,
   "id": "f91a7af4-ee51-4133-b2e4-801c2f59ebcb",
   "metadata": {},
   "outputs": [],
   "source": [
    "from time import sleep\n",
    "\n",
    "from pyspark.sql import SparkSession\n",
    "from pyspark.sql.functions import *\n",
    "from pyspark.sql import functions as F\n",
    "\n",
    "spark = SparkSession \\\n",
    "  .builder \\\n",
    "  .appName(\"Spark Types\") \\\n",
    "  .master(\"local\") \\\n",
    "  .getOrCreate()"
   ]
  },
  {
   "cell_type": "code",
   "execution_count": 2,
   "id": "45c60be9-f708-4e10-8f08-bd123cf13cfb",
   "metadata": {},
   "outputs": [],
   "source": [
    "movies_df = spark.read.json(\"data/movies\")\n",
    "movies_df.show(5)"
   ]
  },
  {
   "cell_type": "markdown",
   "id": "0f595abb-822e-4e03-84a8-e589f4565e2f",
   "metadata": {},
   "source": [
    "# Filters"
   ]
  },
  {
   "cell_type": "code",
   "execution_count": 3,
   "id": "c169d127-ea7a-4b30-b77a-bc9f97a70f24",
   "metadata": {},
   "outputs": [],
   "source": [
    "# demo_literal_values\n",
    "meaning_of_life_df = movies_df \\\n",
    "  .select(\n",
    "    col(\"Title\"),\n",
    "    lit(42).alias(\"MOL\")\n",
    "  )\n",
    "meaning_of_life_df.show(5, False)"
   ]
  },
  {
   "cell_type": "code",
   "execution_count": 5,
   "id": "78128f61-520a-4ce5-82a9-23155867b74a",
   "metadata": {},
   "outputs": [],
   "source": [
    "# Логические выражения\n",
    "drama_filter = movies_df.Major_Genre == \"Drama\"\n",
    "good_rating_filter = movies_df.IMDB_Rating > 7.0"
   ]
  },
  {
   "cell_type": "markdown",
   "id": "9a1bd524-a4a8-4bcf-ac1f-04f4038aa619",
   "metadata": {},
   "source": [
    "Для создания логических выражений можно использовать:\n",
    "- `&` для логического 'И' / 'AND' (коньюнкция)\n",
    "- `|` для логического 'ИЛИ' / 'OR' (дизьюнкция)\n",
    "- `~` для логического 'НЕ' (отрицание)"
   ]
  },
  {
   "cell_type": "code",
   "execution_count": 9,
   "id": "c1a68b45-bf5e-4f18-9d39-58d2653cc0e3",
   "metadata": {},
   "outputs": [],
   "source": [
    "good_drama_filter = good_rating_filter & drama_filter"
   ]
  },
  {
   "cell_type": "code",
   "execution_count": 10,
   "id": "5d8f3a5e-eb92-48e3-af70-37e1ff4f21d3",
   "metadata": {},
   "outputs": [],
   "source": [
    "type(good_drama_filter)"
   ]
  },
  {
   "cell_type": "code",
   "execution_count": 13,
   "id": "d301a6bc-b7c6-4e19-844f-571a1fc11c41",
   "metadata": {},
   "outputs": [],
   "source": [
    "# Можно использовать логические выражения там же, где используются обычные колонки\n",
    "# Например, в фильтрах\n",
    "good_dramas_df = movies_df \\\n",
    "  .filter(good_drama_filter) \\\n",
    "  .select(\"Title\", \"Major_Genre\", \"IMDB_Rating\")\n",
    "\n",
    "good_dramas_df.show(5, 25)"
   ]
  },
  {
   "cell_type": "code",
   "execution_count": 12,
   "id": "1f5b4a6e-2a54-4b18-9f89-eeaaffe3f630",
   "metadata": {},
   "outputs": [],
   "source": [
    "good_dramas_df.explain()"
   ]
  },
  {
   "cell_type": "code",
   "execution_count": 14,
   "id": "e7be5686-e421-4160-bc92-0bf81437ff1f",
   "metadata": {},
   "outputs": [],
   "source": [
    "# Также логические выражения можно использовать и в выборке колонок\n",
    "movies_with_good_drama_condition_df = movies_df \\\n",
    "    .select(col(\"Title\"), good_drama_filter.alias(\"IsItAGoodDrama\"))\n",
    "\n",
    "movies_with_good_drama_condition_df.show(5, False)"
   ]
  },
  {
   "cell_type": "code",
   "execution_count": 15,
   "id": "8b11977f-985b-427f-8ac7-82ff8a1084fe",
   "metadata": {},
   "outputs": [],
   "source": [
    "good_dramas_df_v2 = movies_with_good_drama_condition_df.filter(\"IsItAGoodDrama\")\n",
    "\n",
    "good_dramas_df_v2.show(5, False)"
   ]
  },
  {
   "cell_type": "code",
   "execution_count": 19,
   "id": "5e655c10-0fd6-4eb0-9302-e4e5d7b3e4b2",
   "metadata": {},
   "outputs": [],
   "source": [
    "# отрицание\n",
    "bad_drama_filter = ~good_drama_filter\n",
    "bad_dramas = movies_df.select(col(\"Title\"), bad_drama_filter.alias(\"Bad Drama\"))"
   ]
  },
  {
   "cell_type": "code",
   "execution_count": 20,
   "id": "1d970fea-20dc-4412-bb39-7a47a505d82f",
   "metadata": {},
   "outputs": [],
   "source": [
    "bad_dramas.explain()"
   ]
  },
  {
   "cell_type": "code",
   "execution_count": 21,
   "id": "792dcc6f-0b10-4adf-9567-737a76ff89f7",
   "metadata": {},
   "outputs": [],
   "source": [
    "bad_dramas.show(5, False)"
   ]
  },
  {
   "cell_type": "markdown",
   "id": "4ea652f9-6184-493e-b9bc-29b031b24c46",
   "metadata": {},
   "source": [
    "# Stat num functions"
   ]
  },
  {
   "cell_type": "code",
   "execution_count": 41,
   "id": "7931d7bd-e44a-4ea1-9bd8-2414de9a14fc",
   "metadata": {},
   "outputs": [],
   "source": [
    "scalled_rotten_tomatoes_rating = col(\"Rotten_Tomatoes_Rating\") / 10\n",
    "average_between_RT_and_IMDB = (scalled_rotten_tomatoes_rating + col(\"IMDB_Rating\")) / 2\n",
    "\n",
    "when_rating_exist = col(\"Rotten_Tomatoes_Rating\").isNotNull() & col(\"IMDB_Rating\").isNotNull()\n",
    "\n",
    "movies_avg_ratings_df = movies_df \\\n",
    "  .select(\n",
    "    col(\"Title\"),\n",
    "    average_between_RT_and_IMDB.alias(\"Average Rating\")\n",
    "  ) \\\n",
    "  .filter(when_rating_exist)"
   ]
  },
  {
   "cell_type": "code",
   "execution_count": 42,
   "id": "1103bc6c-35d6-4d50-8e1e-669bc30f40f0",
   "metadata": {},
   "outputs": [],
   "source": [
    "movies_avg_ratings_df.show(5, False)"
   ]
  },
  {
   "cell_type": "code",
   "execution_count": 43,
   "id": "9c3e83a0-6ede-4981-aa7b-aa0c2f3bdfb7",
   "metadata": {},
   "outputs": [],
   "source": [
    "movies_avg_ratings_df.explain()"
   ]
  },
  {
   "cell_type": "code",
   "execution_count": 49,
   "id": "f7a7a52e-91bf-4cc8-a0cf-152da8071db7",
   "metadata": {},
   "outputs": [],
   "source": [
    "# Получить статистику по таблице, например корреляцию по Пирсону [-1, 1]\n",
    "rating_correlation = movies_df \\\n",
    "  .stat \\\n",
    "  .corr(\"IMDB_Rating\", \"Rotten_Tomatoes_Rating\")\n",
    "\n",
    "print(rating_correlation)"
   ]
  },
  {
   "cell_type": "markdown",
   "id": "e68d0b53-4dc5-4dfa-8a45-3a85dbb42e3f",
   "metadata": {},
   "source": [
    "# String functions"
   ]
  },
  {
   "cell_type": "code",
   "execution_count": 57,
   "id": "227d9816-a008-438c-ac28-f15211e3666f",
   "metadata": {},
   "outputs": [],
   "source": [
    "movies_df \\\n",
    "  .select(\n",
    "    initcap(col(\"Title\")),\n",
    "    upper(\"Director\"),\n",
    "    lower(\"Distributor\")\n",
    "  ) \\\n",
    "  .filter(movies_df[\"Director\"].isNotNull()) \\\n",
    "  .show(5, False)"
   ]
  },
  {
   "cell_type": "code",
   "execution_count": 59,
   "id": "75bf4394-d935-4811-a9fe-fc70d80a83b5",
   "metadata": {},
   "outputs": [],
   "source": [
    "movies_df \\\n",
    "  .select(\"Title\", \"Director\", \"IMDB_Rating\", \"Major_Genre\") \\\n",
    "  .filter(\n",
    "    col(\"Title\").contains(\"love\")\n",
    "  ) \\\n",
    "  .show(5, False)"
   ]
  },
  {
   "cell_type": "markdown",
   "id": "d127f743-1117-48ee-acdf-b4dcb8a332e6",
   "metadata": {},
   "source": [
    "# Regexes filtering"
   ]
  },
  {
   "cell_type": "code",
   "execution_count": 62,
   "id": "818f3667-060d-4d07-9724-8f91cea93d61",
   "metadata": {},
   "outputs": [],
   "source": [
    "cars_df = spark.read.json(\"data/cars\")"
   ]
  },
  {
   "cell_type": "code",
   "execution_count": 69,
   "id": "578cacc8-0c14-463a-a962-14e323cc116d",
   "metadata": {},
   "outputs": [],
   "source": [
    "regexString = \"(volkswagen|vw)\"\n",
    "\n",
    "vw_df = cars_df \\\n",
    "  .select(\n",
    "    col(\"Name\"),\n",
    "    regexp_extract(\n",
    "        col(\"Name\"),\n",
    "        regexString,\n",
    "        1\n",
    "    ).alias(\"regex_extract\")\n",
    "  ) \\\n",
    "  .filter(col(\"regex_extract\") != \"\")"
   ]
  },
  {
   "cell_type": "code",
   "execution_count": 70,
   "id": "15aed40d-773c-4c77-8ca4-29e7d479ce1e",
   "metadata": {},
   "outputs": [],
   "source": [
    "vw_df.explain()"
   ]
  },
  {
   "cell_type": "code",
   "execution_count": 71,
   "id": "da940275-5a6e-46bc-b977-11a570f184cd",
   "metadata": {},
   "outputs": [],
   "source": [
    "vw_df.show(5, False)"
   ]
  },
  {
   "cell_type": "code",
   "execution_count": 72,
   "id": "8aa4334d-7d1a-4c81-a2b6-e4b65e390733",
   "metadata": {},
   "outputs": [],
   "source": [
    "regexString = \"(volkswagen|vw)\"\n",
    "\n",
    "vw_new_name_df = vw_df \\\n",
    "  .select(\n",
    "    col(\"Name\"),\n",
    "    regexp_replace(\n",
    "        col(\"Name\"),\n",
    "        regexString,\n",
    "        \"Volkswagen\"\n",
    "    ).alias(\"replacement\")\n",
    "  )\n",
    "vw_new_name_df.show(5, False)"
   ]
  },
  {
   "cell_type": "markdown",
   "id": "ad28e0a9-eef3-4bb5-81a6-a1a85e4ceb21",
   "metadata": {},
   "source": [
    "# Задача\n",
    "\n",
    "Выберите строки из `cars_df`, поле `Name` которых содержит либо \"Ford\", либо \"Mercedes-Benz\", либо \"Volkswagen\" без учета регистра. Решить задачу двумя способами:\n",
    "\n",
    "- Через функцию `contains`\n",
    "- Через регулярное выражения"
   ]
  },
  {
   "cell_type": "code",
   "execution_count": 73,
   "id": "38099f66-174a-4e9a-ab38-e006d6d1a4a7",
   "metadata": {},
   "outputs": [],
   "source": [
    "def get_car_names():\n",
    "    return [\"Volkswagen\", \"Mercedes-Benz\", \"Ford\"]"
   ]
  },
  {
   "cell_type": "code",
   "execution_count": 85,
   "id": "091318e5-4551-4e9d-af1f-ba5e1e41ef9c",
   "metadata": {},
   "outputs": [],
   "source": [
    "# Регулярное выражение\n",
    "regexString = \"|\".join([name.lower() for name in get_car_names()])\n",
    "\n",
    "cars_interest_df = cars_df \\\n",
    "  .select(\n",
    "    col(\"Name\"),\n",
    "    regexp_extract(\n",
    "        lower(col(\"Name\")),\n",
    "        regexString,\n",
    "        0\n",
    "    ).alias(\"regex_extract\")\n",
    "  ) \\\n",
    "  .filter(col(\"regex_extract\") != \"\") \\\n",
    "  .orderBy(col(\"regex_extract\"))\n",
    "\n",
    "cars_interest_df.show(5, False)"
   ]
  },
  {
   "cell_type": "code",
   "execution_count": 86,
   "id": "088e0cad-ca5b-4250-9175-85cc9a3cc5ac",
   "metadata": {},
   "outputs": [],
   "source": [
    "cars_interest_df.explain()"
   ]
  },
  {
   "cell_type": "code",
   "execution_count": 88,
   "id": "5aeae3f9-ac87-42cc-a684-93813ba33661",
   "metadata": {},
   "outputs": [],
   "source": [
    "# v2 - contains\n",
    "car_name_filters = [\n",
    "    col(\"Name\").contains(car_name.lower())\n",
    "    for car_name in [\"Volkswagen\", \"Mercedes-Benz\", \"Ford\"]\n",
    "]"
   ]
  },
  {
   "cell_type": "code",
   "execution_count": 89,
   "id": "ce352ad2-c035-41f3-974c-b735855daaef",
   "metadata": {},
   "outputs": [],
   "source": [
    "from functools import reduce\n",
    "\n",
    "all_cars_filter = reduce(lambda filter1, filter2: filter1 | filter2, car_name_filters)"
   ]
  },
  {
   "cell_type": "code",
   "execution_count": 90,
   "id": "0512df9f-4461-4801-accf-c40e6962e674",
   "metadata": {},
   "outputs": [],
   "source": [
    "filtered_cars = cars_df.filter(all_cars_filter)\n",
    "\n",
    "filtered_cars.show(5, False)"
   ]
  },
  {
   "cell_type": "code",
   "execution_count": 91,
   "id": "1cf4ba81-c340-485a-accc-f6bb234e7b1c",
   "metadata": {},
   "outputs": [],
   "source": [
    "filtered_cars.explain()"
   ]
  },
  {
   "cell_type": "markdown",
   "id": "3f23bd46-a7f5-4c2d-92e5-fb70ca721373",
   "metadata": {},
   "source": [
    "# Даты"
   ]
  },
  {
   "cell_type": "markdown",
   "id": "046e9622-73af-4329-9b37-2e66a8d75ee3",
   "metadata": {},
   "source": [
    "Год, состоящий из 2 символов, будет интепретироваться год после 2000, так 99 - это не 1999, а 2099. Подробнее узнать о форматах дат можно в [документации](https://spark.apache.org/docs/latest/sql-ref-datetime-pattern.html)"
   ]
  },
  {
   "cell_type": "code",
   "execution_count": 103,
   "id": "f5ae2f51-eb6f-4d0f-9624-0d56d917bfd1",
   "metadata": {},
   "outputs": [],
   "source": [
    "movies_with_release_dates_df = movies_df \\\n",
    "  .select(\n",
    "    col(\"Title\"),\n",
    "    col(\"Release_Date\"),\n",
    "    to_date(\n",
    "        col(\"Release_Date\"),\n",
    "        \"d-MMM-yy\"\n",
    "    ).alias(\"Actual_Release\")\n",
    "  )\n",
    "\n",
    "movies_with_release_dates_df.show(5, False)"
   ]
  },
  {
   "cell_type": "code",
   "execution_count": 104,
   "id": "0ca0e28d-f96f-4a7e-9a08-341e52f096d5",
   "metadata": {},
   "outputs": [],
   "source": [
    "movies_with_release_dates_df.explain()"
   ]
  },
  {
   "cell_type": "code",
   "execution_count": 106,
   "id": "796a105f-9837-4b15-9ddd-25d04232e981",
   "metadata": {},
   "outputs": [],
   "source": [
    "# Текущая дата, текущий таймстемп, разница между датами\n",
    "\n",
    "enriched_movies_df = movies_with_release_dates_df \\\n",
    "  .withColumn(\"Today\", current_date()) \\\n",
    "  .withColumn(\"Right_Now\", current_timestamp()) \\\n",
    "  .withColumn(\"Movie_Age\", datediff(col(\"Today\"), col(\"Actual_Release\")) / 365)\n",
    "\n",
    "enriched_movies_df.show(5, False)"
   ]
  },
  {
   "cell_type": "code",
   "execution_count": 107,
   "id": "63232adf-8abb-4397-8b10-3bf346cd40e7",
   "metadata": {},
   "outputs": [],
   "source": [
    "# Выбрать пустые значения\n",
    "no_release_known_df = movies_with_release_dates_df \\\n",
    "  .filter(col(\"Actual_Release\").isNull())\n",
    "\n",
    "no_release_known_df.show(5, False)"
   ]
  },
  {
   "cell_type": "markdown",
   "id": "1136b515-7985-4d1e-931c-b89a3178ee90",
   "metadata": {},
   "source": [
    "# Structures"
   ]
  },
  {
   "cell_type": "code",
   "execution_count": 118,
   "id": "aaf9ac3f-9089-42fa-b874-2810b3b03c4b",
   "metadata": {},
   "outputs": [],
   "source": [
    "# Создать структуру в поле\n",
    "movies_struct_df = movies_df \\\n",
    "  .select(\n",
    "    col(\"Title\"),\n",
    "    struct(\n",
    "        col(\"US_Gross\"),\n",
    "        col(\"Worldwide_Gross\"),\n",
    "        col(\"US_DVD_Sales\")\n",
    "    ).alias(\"Profit\")\n",
    "  ) \\\n",
    "  .filter(\"US_DVD_Sales is not NULL\")\n",
    "\n",
    "movies_struct_df.show(5, False)"
   ]
  },
  {
   "cell_type": "code",
   "execution_count": 120,
   "id": "bf0ddd53-7b0e-4573-b5bb-f6ba72c75193",
   "metadata": {},
   "outputs": [],
   "source": [
    "# Обращение к полям\n",
    "\n",
    "movies_struct_field_df = movies_struct_df \\\n",
    "  .select(\n",
    "    col(\"Title\"),\n",
    "    col(\"Profit\") \\\n",
    "        .getField(\"US_Gross\") \\\n",
    "        .alias(\"US_Profit\")\n",
    "  )\n",
    "\n",
    "movies_struct_field_df.show(5, False)"
   ]
  },
  {
   "cell_type": "code",
   "execution_count": 121,
   "id": "6bdcc5a3-4991-4606-8b33-16f49d6f7aba",
   "metadata": {},
   "outputs": [],
   "source": [
    "movies_struct_field_df.explain()"
   ]
  },
  {
   "cell_type": "code",
   "execution_count": 126,
   "id": "2704a040-ee97-40c4-b63c-9bd0e4f232b5",
   "metadata": {},
   "outputs": [],
   "source": [
    "# Получить поле через selectExpr\n",
    "movies_struct_df_v2 = movies_df \\\n",
    "  .selectExpr(\"Title\", \"(US_Gross, Worldwide_Gross, US_DVD_Sales) as Profit\") \\\n",
    "  .filter(\"US_DVD_Sales is not NULL\") \\\n",
    "  .selectExpr(\"Title\", \"Profit.US_Gross as US_Profit\")\n",
    "\n",
    "movies_struct_df_v2.show(5, False)"
   ]
  },
  {
   "cell_type": "code",
   "execution_count": 127,
   "id": "a4f4d22f-99cb-491f-8561-795fb4b698ad",
   "metadata": {},
   "outputs": [],
   "source": [
    "movies_struct_df_v2.explain()"
   ]
  },
  {
   "cell_type": "code",
   "execution_count": 129,
   "id": "5f67a743-360a-4f88-8639-30f21c0db1dd",
   "metadata": {},
   "outputs": [],
   "source": [
    "# Структура большой вложенности\n",
    "stucture_field = \"\"\"\n",
    "(\n",
    "  (IMDB_Rating, Rotten_Tomatoes_Rating) as Rating,\n",
    "  (US_Gross, Worldwide_Gross, US_DVD_Sales) as Profit\n",
    ") as Success\n",
    "\"\"\"\n",
    "\n",
    "movies_struct_df_v3 = movies_df \\\n",
    "  .selectExpr(\"Title\", stucture_field)\n",
    "\n",
    "movies_struct_df_v3.show(5, False)"
   ]
  },
  {
   "cell_type": "code",
   "execution_count": 130,
   "id": "0ad2c743-9671-4333-bc93-ee64ecf225d5",
   "metadata": {},
   "outputs": [],
   "source": [
    "movies_struct_field_v3 = movies_struct_df_v3 \\\n",
    "  .selectExpr(\n",
    "    \"Title\",\n",
    "    \"Success.Rating.IMDB_Rating as IMDB\"\n",
    "  )\n",
    "\n",
    "movies_struct_field_v3.show(5, False)"
   ]
  },
  {
   "cell_type": "code",
   "execution_count": 131,
   "id": "838dc928-bae7-4d7e-a617-789db77b7d32",
   "metadata": {},
   "outputs": [],
   "source": [
    "movies_struct_field_v3.explain()"
   ]
  },
  {
   "cell_type": "markdown",
   "id": "a41f7ab3-5a76-4196-ad2c-9f548ac3e0c0",
   "metadata": {},
   "source": [
    "# Массивы"
   ]
  },
  {
   "cell_type": "code",
   "execution_count": 141,
   "id": "574a6468-e765-492d-a269-6c5061b535fc",
   "metadata": {},
   "outputs": [],
   "source": [
    "regex_pattern = \" |,\"\n",
    "\n",
    "movies_with_words_df = movies_df \\\n",
    "  .select(\n",
    "    col(\"Title\"),\n",
    "    split(col(\"Title\"), regex_pattern).alias(\"Title_Words\"),\n",
    "    split(col(\"Director\"), regex_pattern).alias(\"Director_Words\")\n",
    "  ) \\\n",
    "  .filter(\"Director is not NULL\")\n",
    "\n",
    "movies_with_words_df.printSchema()"
   ]
  },
  {
   "cell_type": "code",
   "execution_count": 142,
   "id": "98bd35dc-f715-479b-897f-e45a6104d35e",
   "metadata": {},
   "outputs": [],
   "source": [
    "movies_with_words_df.show(10, False)"
   ]
  },
  {
   "cell_type": "code",
   "execution_count": 144,
   "id": "b836a422-436b-4ce2-9e39-c64b687ae39c",
   "metadata": {},
   "outputs": [],
   "source": [
    "movies_with_words_df.explain()"
   ]
  },
  {
   "cell_type": "code",
   "execution_count": 151,
   "id": "2fd689ea-b476-494c-915e-6a5354d5e6fc",
   "metadata": {},
   "outputs": [],
   "source": [
    "# Операции с массивом\n",
    "array_ops_df = movies_with_words_df \\\n",
    "  .select(\n",
    "    col(\"Title\"),\n",
    "    expr(\"Title_Words[0]\"),\n",
    "    size(col(\"Title_Words\")),\n",
    "    array_contains(col(\"Title_Words\"), \"Men\").alias(\"With 'Men' Word\")\n",
    "  )\n",
    "\n",
    "array_ops_df.show(5, False)"
   ]
  },
  {
   "cell_type": "code",
   "execution_count": 152,
   "id": "18797e98-08f2-4002-b263-158e52ff2376",
   "metadata": {},
   "outputs": [],
   "source": [
    "array_ops_df.explain()"
   ]
  },
  {
   "cell_type": "code",
   "execution_count": 155,
   "id": "5930d965-c3d8-42dd-9f5b-f860bf377131",
   "metadata": {},
   "outputs": [],
   "source": [
    "# Развернуть массив: каждому элменту массива создать новую строку\n",
    "\n",
    "array_ops_df = movies_with_words_df \\\n",
    "  .select(\n",
    "    col(\"Title\"),\n",
    "    explode(col(\"Title_Words\"))\n",
    "  )\n",
    "\n",
    "array_ops_df.show(10, False)"
   ]
  }
 ],
 "metadata": {
  "kernelspec": {
   "display_name": "Python 3 (ipykernel)",
   "language": "python",
   "name": "python3"
  },
  "language_info": {
   "codemirror_mode": {
    "name": "ipython",
    "version": 3
   },
   "file_extension": ".py",
   "mimetype": "text/x-python",
   "name": "python",
   "nbconvert_exporter": "python",
   "pygments_lexer": "ipython3",
   "version": "3.10.8"
  }
 },
 "nbformat": 4,
 "nbformat_minor": 5
}
