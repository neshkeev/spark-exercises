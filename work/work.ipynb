{
 "cells": [
  {
   "cell_type": "markdown",
   "id": "5ed2e4dd-428b-43d5-8084-e224348beff3",
   "metadata": {},
   "source": [
    "# Spark Caching"
   ]
  },
  {
   "cell_type": "markdown",
   "id": "ded82d58-9c0f-4338-a0b6-41d927ad8d0b",
   "metadata": {},
   "source": [
    "## Устройство памяти воркера"
   ]
  },
  {
   "cell_type": "markdown",
   "id": "1518d79c-dcb9-4318-8a2d-fd909eac9619",
   "metadata": {},
   "source": [
    "Вся доступная память разбивается на четыре раздела:\n",
    "\n",
    "- **зарезервировано**: область памяти, которая используется для внутренних нужд процессов воркера. Всегда равно 300 МБ, не может быть меньше или больше;\n",
    "- **исполнение (execution)**: область памяти для выполнения логики запросов - сортировка, агрегация, перемешивание и пр.;\n",
    "- **кеш (storage)***: область памяти доступная для хранения пользовательских объектов в кеше;\n",
    "- **пользовательские объекты**: область памяти для пользовательских объектов и метаданных кластера.\n",
    "\n",
    "![](../imgs/spark-memory-layout.drawio.svg)"
   ]
  },
  {
   "cell_type": "markdown",
   "id": "297c3151-6841-4123-a601-cb9ae4dab40a",
   "metadata": {},
   "source": [
    "## Стратегия работы кеша"
   ]
  },
  {
   "cell_type": "markdown",
   "id": "a9cb0872-6d9a-4616-a865-ac97e22bf552",
   "metadata": {},
   "source": [
    "Кеш хранит объекты по стратегии LRU - Least Recent Use. Так, если нужно добавить новый объект в кеш, а места там нет, то Apache Spark выбросит из кеша данные, которые не использовались дольше всего.\n",
    "\n",
    "В кеш можно положить партицию целиком, невозможно положить в кеш только часть партиции.\n",
    "\n",
    "![](../imgs/spark-cache-lru.drawio.svg)"
   ]
  },
  {
   "cell_type": "markdown",
   "id": "dc4bda9c-0255-4423-9627-ad508a8da938",
   "metadata": {},
   "source": [
    "### Приёмники"
   ]
  },
  {
   "cell_type": "markdown",
   "id": "38037db4-0b99-4047-b7ed-e2d4c7ee618d",
   "metadata": {},
   "source": [
    "Вызов метода [`DataFrame#cache`](https://spark.apache.org/docs/3.1.1/api/python/reference/api/pyspark.sql.DataFrame.cache.html) кеширует датафрейм в память, а партиции, которые невозможно уместить в памяти, попадают на диск. Для более тонкой настройки кеширования необходимо использовать метод [`DataFrame#persist`](https://spark.apache.org/docs/3.1.1/api/python/reference/api/pyspark.sql.DataFrame.persist.html), который принимает `enum` типа [`StorageLevel`](https://spark.apache.org/docs/3.1.1/api/python/reference/api/pyspark.StorageLevel.html). Его значения:\n",
    "\n",
    "- `DISK_ONLY` - кешировать датафрейм целиком на диск;\n",
    "- `DISK_ONLY_2`- кешировать датафрейм целиком на диск в двух копиях: одна копия на локальном диске воркера, а вторая на локальном диске любого другого воркера в кластере;\n",
    "- `DISK_ONLY_3` - кешировать датафрейм целиком на диск в двух копиях: одна копия на локальном диске воркера, а вторая на локальном диске любых двух других воркеров в кластере;\n",
    "- `MEMORY_AND_DISK` - кешировать датафрейм в память, а все партиции, которые не поместились в память, положить на диск. Синонимом `df.persist(StorageLevel.MEMORY_AND_DISK)` является прямой вызов [`DataFrame#cache`](https://spark.apache.org/docs/3.1.1/api/python/reference/api/pyspark.sql.DataFrame.cache.html);\n",
    "- `MEMORY_AND_DISK_2` - кешировать датафрейм в память, а все партиции, которые не поместились в память, положить на диск. Сохранить вторую копию на любом другом воркере;\n",
    "- `MEMORY_AND_DISK_DESER` - кешировать датафрейм в память, а все партиции, которые не поместились в память, положить на диск. Данные хранятся без сжатия;\n",
    "- `MEMORY_ONLY` - кешировать датафрейм в память. Партиции, которые не помещаются в память, игнорировать. Если их данные потребуются в будущем, вычислить заново каждый раз;\n",
    "- `MEMORY_ONLY_2` - аналогичен `MEMORY_ONLY`, но каждая партиция хранится в кеше в двух экземплярах, второй экземпляр попадает на любой другой воркер в кластере;\n",
    "- `OFF_HEAP` - положить данные вне HEAP (не мешаем Garbage Collector)."
   ]
  },
  {
   "cell_type": "markdown",
   "id": "4ee27a5e-40e2-4c77-86e4-ce7553923181",
   "metadata": {},
   "source": [
    "## Запуск приложения"
   ]
  },
  {
   "cell_type": "code",
   "execution_count": null,
   "id": "f8821ce4-11f8-42fb-b209-aba8e6c0c6ee",
   "metadata": {
    "tags": []
   },
   "outputs": [],
   "source": [
    "from pyspark.sql import SparkSession\n",
    "from pyspark.sql import functions as F"
   ]
  },
  {
   "cell_type": "code",
   "execution_count": null,
   "id": "66ed9ef6-a12c-4053-a382-467d632cbc78",
   "metadata": {
    "tags": []
   },
   "outputs": [],
   "source": [
    "spark = SparkSession \\\n",
    "  .builder \\\n",
    "  .appName(\"Caching\") \\\n",
    "  .master(\"local[4]\") \\\n",
    "  .getOrCreate()"
   ]
  },
  {
   "cell_type": "markdown",
   "id": "21459518-a0b2-4c93-9d99-63641d753a27",
   "metadata": {
    "tags": []
   },
   "source": [
    "## Подготовка данных"
   ]
  },
  {
   "cell_type": "code",
   "execution_count": null,
   "id": "c20dc8af-2082-4940-9b80-74eb7aa2a69a",
   "metadata": {},
   "outputs": [],
   "source": [
    "!mkdir -p /tmp/taxi\n",
    "!unzip -o -d /tmp/taxi ./data/taxi.zip"
   ]
  },
  {
   "cell_type": "code",
   "execution_count": null,
   "id": "cec0a924-ab5b-4c15-99ac-f62a546306c3",
   "metadata": {
    "tags": []
   },
   "outputs": [],
   "source": [
    "taxi_df = spark.read.parquet(\"/tmp/taxi\")"
   ]
  },
  {
   "cell_type": "code",
   "execution_count": null,
   "id": "568915df-8b92-4dee-85bb-7e1646ca7356",
   "metadata": {
    "tags": []
   },
   "outputs": [],
   "source": [
    "taxi_df.printSchema()"
   ]
  },
  {
   "cell_type": "code",
   "execution_count": null,
   "id": "fef45762-a093-422c-82ed-ec297b267383",
   "metadata": {
    "tags": []
   },
   "outputs": [],
   "source": [
    "taxi_df.rdd.getNumPartitions()"
   ]
  },
  {
   "cell_type": "code",
   "execution_count": null,
   "id": "c38f1546-adb3-4ead-8fd3-6e1d6f98ab13",
   "metadata": {
    "tags": []
   },
   "outputs": [],
   "source": [
    "taxi_df.groupby(F.spark_partition_id()).count().show()"
   ]
  },
  {
   "cell_type": "markdown",
   "id": "e2873d4e-43a8-414a-8696-9f8aac4add3e",
   "metadata": {
    "tags": []
   },
   "source": [
    "# Особенности кеширования"
   ]
  },
  {
   "cell_type": "markdown",
   "id": "f5ff5439-dc7b-43a0-ba7f-71f1f0f8941f",
   "metadata": {},
   "source": [
    "Закэшируем запрос:"
   ]
  },
  {
   "cell_type": "code",
   "execution_count": null,
   "id": "c0fa12a2-def9-4159-a435-cdf34467207c",
   "metadata": {
    "tags": []
   },
   "outputs": [],
   "source": [
    "taxi_cached_df = taxi_df.select(taxi_df.trip_distance, taxi_df.passenger_count) \\\n",
    "  .filter(taxi_df.passenger_count > 3) \\\n",
    "  .cache()"
   ]
  },
  {
   "cell_type": "code",
   "execution_count": null,
   "id": "0ae9b2da-501f-4958-b562-3cc5a4110c09",
   "metadata": {
    "tags": []
   },
   "outputs": [],
   "source": [
    "taxi_cached_df.explain(True)"
   ]
  },
  {
   "cell_type": "markdown",
   "id": "301e1ae6-d374-4461-8a33-3e032889dddc",
   "metadata": {},
   "source": [
    "На плане можно увидеть, что фильтрация датасета выполняется перед тем, как датасет попадет в кеш:\n",
    "\n",
    "![Spark Cache](../imgs/spark-cache-plan.drawio.svg)"
   ]
  },
  {
   "cell_type": "markdown",
   "id": "afb27227-4e05-421b-8ec8-0012fa6f26b3",
   "metadata": {
    "tags": []
   },
   "source": [
    "### Ситуация 1. Поменять операции местами"
   ]
  },
  {
   "cell_type": "markdown",
   "id": "cb489938-adb3-4f44-9a82-e7d7f5b1460e",
   "metadata": {},
   "source": [
    "Рассмотрим запрос аналогичный предыдущему, в котром операции `filter` и `select` поменялись местами:\n",
    "\n",
    "![Query Switch operaors order](../imgs/spark-cache-operators-order.drawio.svg)"
   ]
  },
  {
   "cell_type": "code",
   "execution_count": null,
   "id": "a2eb5783-7846-4c8b-b5de-ca5a78049976",
   "metadata": {
    "tags": []
   },
   "outputs": [],
   "source": [
    "taxi_select_after_filter_df = taxi_df.filter(taxi_df.passenger_count > 3) \\\n",
    "  .select(taxi_df.trip_distance, taxi_df.passenger_count)"
   ]
  },
  {
   "cell_type": "markdown",
   "id": "8a80a4e0-0ddf-4584-a809-ef417ed7b27f",
   "metadata": {},
   "source": [
    "**Вопрос:** удастся ли Spark воспользоваться кешем?"
   ]
  },
  {
   "cell_type": "code",
   "execution_count": null,
   "id": "bbf992a4-dec4-4f42-91f6-5dd2a1d4fd00",
   "metadata": {
    "tags": []
   },
   "outputs": [],
   "source": [
    "taxi_select_after_filter_df.explain()"
   ]
  },
  {
   "cell_type": "markdown",
   "id": "f341f2fc-7d46-49eb-b504-0cabfa809e94",
   "metadata": {},
   "source": [
    "<details>\n",
    "    <summary><strong>Ответ</strong></summary>\n",
    "    <p>Не удалось.</p>\n",
    "    <p><i>Cache Manager</i> вступает в игру на стадии после логического плана, но перед оптимизатором. После оптимизатора планы запроса для <code>taxi_select_after_filter_df</code> и <code>taxi_cached_df</code> будут одинаковыми. Логические планы (Analyzed Logical Plans) у них разные, поэтому кэширование не используется в работе</p>\n",
    "    <img src=\"../imgs/spark-cache-operators-order-plan.drawio.svg\" />\n",
    "</details>"
   ]
  },
  {
   "cell_type": "code",
   "execution_count": null,
   "id": "2eb92bcd-d2cc-4ba0-a2d0-86fa2f71561c",
   "metadata": {},
   "outputs": [],
   "source": [
    "# закешированный запрос\n",
    "taxi_cached_df.explain(True)"
   ]
  },
  {
   "cell_type": "code",
   "execution_count": null,
   "id": "e53c5a30-7e5d-4057-ac5d-838ab8a2404a",
   "metadata": {
    "tags": []
   },
   "outputs": [],
   "source": [
    "# новый запрос\n",
    "taxi_select_after_filter_df.explain(True)"
   ]
  },
  {
   "cell_type": "markdown",
   "id": "6e2a2acd-3267-47ed-93e0-3b3266ee11b9",
   "metadata": {
    "tags": []
   },
   "source": [
    "### Ситуация 2. Усилить условие"
   ]
  },
  {
   "cell_type": "markdown",
   "id": "533b53e1-b91b-4bb9-a0c3-ade506639871",
   "metadata": {},
   "source": [
    "Рассмотрим запрос, аналогичный `taxi_cached_df`, в котором условие усилено:\n",
    "\n",
    "![Spark Cache Stronger Condition](../imgs/spark-cache-stronger-condition.drawio.svg)"
   ]
  },
  {
   "cell_type": "code",
   "execution_count": null,
   "id": "08b95f70-ab92-4bf9-8220-72e7ad6aad32",
   "metadata": {
    "tags": []
   },
   "outputs": [],
   "source": [
    "taxi_stronger_condition_df = taxi_df.select(taxi_df.trip_distance, taxi_df.passenger_count) \\\n",
    "  .filter(taxi_df.passenger_count > 7)"
   ]
  },
  {
   "cell_type": "markdown",
   "id": "aa4b6fac-938b-4bdd-927f-4610ce833150",
   "metadata": {},
   "source": [
    "**Вопрос**: удастся ли Spark воспользоваться кэшем?"
   ]
  },
  {
   "cell_type": "code",
   "execution_count": null,
   "id": "83fe0ab0-b789-488f-83df-83dcccddde02",
   "metadata": {
    "tags": []
   },
   "outputs": [],
   "source": [
    "taxi_stronger_condition_df.explain()"
   ]
  },
  {
   "cell_type": "markdown",
   "id": "455690f2-3ddf-41bc-adaa-d460aef23f35",
   "metadata": {},
   "source": [
    "<details>\n",
    "    <summary><strong>Ответ</strong></summary>\n",
    "    <p>Не удалось.</p>\n",
    "    <p>Чисто логически можно заключить, что данные находятся в кэше, но Spark не будет их читать оттуда, потому что логические планы (Analyzed Logical Plans) отличаются: в этот раз условие фильтрации другое.</p>\n",
    "    <p>Воспользоваться кэшем в этот раз можно следующим образом:</p>\n",
    "    <img src=\"../imgs/spark-cache-stronger-condition-plan.drawio.svg\" />\n",
    "</details>"
   ]
  },
  {
   "cell_type": "code",
   "execution_count": null,
   "id": "6eab3d93-20f1-438d-bd7b-4eced2a6e6d4",
   "metadata": {
    "tags": []
   },
   "outputs": [],
   "source": [
    "taxi_stronger_condition_df2 = taxi_df.select(taxi_df.trip_distance, taxi_df.passenger_count) \\\n",
    "  .filter(taxi_df.passenger_count > 3) \\\n",
    "  .filter(taxi_df.passenger_count > 7)"
   ]
  },
  {
   "cell_type": "code",
   "execution_count": null,
   "id": "c420d3e1-f5da-4cd5-9612-b89705ac0a0f",
   "metadata": {},
   "outputs": [],
   "source": [
    "taxi_stronger_condition_df2.explain(True)"
   ]
  },
  {
   "cell_type": "code",
   "execution_count": null,
   "id": "7bd376a5-88d5-4c54-beb2-f56dbaf23cba",
   "metadata": {},
   "outputs": [],
   "source": [
    "taxi_cached_df.explain(True)"
   ]
  },
  {
   "cell_type": "markdown",
   "id": "b2ebd3c9-95a6-4bcb-8ee0-7f7cf1e02502",
   "metadata": {},
   "source": [
    "![Spark Stronger Condition Fixed](../imgs/spark-cache-stronger-condition-plan.drawio-fixed.svg)"
   ]
  },
  {
   "cell_type": "markdown",
   "id": "07d2cd77-0be7-41e4-aa6a-ade192eebcdf",
   "metadata": {
    "tags": []
   },
   "source": [
    "### Ситуация 3. Выбрать меньше полей"
   ]
  },
  {
   "cell_type": "markdown",
   "id": "a656f95a-4bf0-4137-b38f-0d80919fc0b3",
   "metadata": {},
   "source": [
    "Рассмотрим запрос, который выбирает меньше полей, чем `taxi_cached_df`:\n",
    "\n",
    "![Select Fewer Field](../imgs/spark-cache-get-fewer-fields.drawio.svg)"
   ]
  },
  {
   "cell_type": "code",
   "execution_count": null,
   "id": "34c10957-3f6a-48a5-8795-6fb59fe45168",
   "metadata": {
    "tags": []
   },
   "outputs": [],
   "source": [
    "taxi_fewer_columns_df = taxi_df.select(taxi_df.trip_distance) \\\n",
    "  .filter(taxi_df.passenger_count > 3)"
   ]
  },
  {
   "cell_type": "markdown",
   "id": "fb5b5feb-dda7-4d71-99c0-d99c816d956f",
   "metadata": {},
   "source": [
    "**Вопрос:** удастся ли Spark воспользоваться кэшем?"
   ]
  },
  {
   "cell_type": "code",
   "execution_count": null,
   "id": "a3da461b-650e-47aa-8970-bfd0f4112e3c",
   "metadata": {
    "tags": []
   },
   "outputs": [],
   "source": [
    "taxi_fewer_columns_df.explain()"
   ]
  },
  {
   "cell_type": "markdown",
   "id": "97b2918b-30bc-4288-9c07-e24e399b54f3",
   "metadata": {},
   "source": [
    "<details>\n",
    "    <summary><strong>Ответ</strong></summary>\n",
    "    <p>Удалось.</p>\n",
    "    <p>Логически можно продолжить рассуждения о том, что логические план (Analyzed Logical Plans) отличается от плана <code>taxi_cached_df</code> - выбирается только одна колонка. Фильтрация выполняется по <code>passenger_count</code>, который отсутствует в проекции (список колонок на выборку). Spark воспользуется правилом <code>ResolveMissingReferences</code> и добавит <code>passenger_count</code> к проекции, и тогда планы <code>taxi_fewer_columns_df</code> и <code>taxi_cached_df</code> станут идентичными. <i>Cache Manager</i> найдет закешированный план и воспользуется им.</p>\n",
    "    <img src=\"../imgs/spark-cache-get-fewer-fields-plan.drawio.svg\" />\n",
    "</details>"
   ]
  },
  {
   "cell_type": "code",
   "execution_count": null,
   "id": "f4606014-6661-435f-957a-862e9acc693d",
   "metadata": {},
   "outputs": [],
   "source": [
    "taxi_fewer_columns_df.explain(True)"
   ]
  },
  {
   "cell_type": "markdown",
   "id": "f1f4971f-4a95-46aa-8194-34eae2c0032d",
   "metadata": {},
   "source": [
    "## Почему так?"
   ]
  },
  {
   "cell_type": "markdown",
   "id": "98270f9e-10e7-4d07-a75d-9cca7e843710",
   "metadata": {},
   "source": [
    "Особенность [`CacheManager`](https://github.com/apache/spark/blob/master/sql/core/src/main/scala/org/apache/spark/sql/execution/CacheManager.scala) заключается в том, что он вступает в работу между стадиями `Analyzed Logical Plan` и `Optimized Logical Plan`, поэтому ему могут быть недоступны трансформации дерева, выполненные на стадии `Optimized Logical Plan` и далее:\n",
    "\n",
    "![Catalyst Cache Manager](../imgs/spark-cache-manager.drawio.svg)\n",
    "\n",
    "\n",
    "В качестве [ключа](https://github.com/apache/spark/blob/445c5417ea1d7b7f4fb055153eab8fb0f711a183/sql/core/src/main/scala/org/apache/spark/sql/execution/CacheManager.scala#L42) для закешированных данных Cache Manager использует план/дерево. Если Cache Manager находит поддерево в планах новых запросов, для которого есть закешированные данные, то он перенаправляет запросы в кеш.\n",
    "\n",
    "> Ключом закешированных данных является дерево логического плана запроса\n"
   ]
  },
  {
   "cell_type": "markdown",
   "id": "95df615d-2df5-4e16-8981-21f39921486b",
   "metadata": {
    "tags": []
   },
   "source": [
    "## Выводы"
   ]
  },
  {
   "cell_type": "markdown",
   "id": "887499ba-e5b6-429a-b30f-cfab01b48b3f",
   "metadata": {
    "tags": []
   },
   "source": [
    "### 1. Создавайте новый DataFrame при кешировании другого DataFrame"
   ]
  },
  {
   "cell_type": "markdown",
   "id": "833bedd2-0615-4f35-a2ad-d25e146cb9bd",
   "metadata": {},
   "source": [
    "Создание нового DataFrame (`taxi_cached_df`) при кэшировании позволит избежать проблем с кэшированием\n",
    "\n",
    "```python\n",
    "taxi_cached_df = taxi_df.select(taxi_df.trip_distance, taxi_df.passenger_count) \\\n",
    "  .filter(taxi_df.passenger_count > 3) \\\n",
    "  .cache()\n",
    "```"
   ]
  },
  {
   "cell_type": "code",
   "execution_count": null,
   "id": "36c25921-ce4d-4f17-8080-9cc207effba0",
   "metadata": {
    "tags": []
   },
   "outputs": [],
   "source": [
    "taxi_cached_df.filter(taxi_df.passenger_count > 3) \\\n",
    "  .select(taxi_df.trip_distance, taxi_df.passenger_count) \\\n",
    "  .explain()"
   ]
  },
  {
   "cell_type": "code",
   "execution_count": null,
   "id": "50b3a679-c5f7-4bf0-ae02-811b6d2bbdab",
   "metadata": {
    "tags": []
   },
   "outputs": [],
   "source": [
    "taxi_cached_df.select(taxi_df.trip_distance, taxi_df.passenger_count) \\\n",
    "  .filter(taxi_df.passenger_count > 7) \\\n",
    "  .explain()"
   ]
  },
  {
   "cell_type": "code",
   "execution_count": null,
   "id": "38a9bcca-bd08-42ac-a2c6-a3f9e77b5be3",
   "metadata": {
    "tags": []
   },
   "outputs": [],
   "source": [
    "taxi_cached_df.select(taxi_df.trip_distance) \\\n",
    "  .filter(taxi_df.passenger_count > 3) \\\n",
    "  .explain()"
   ]
  },
  {
   "cell_type": "markdown",
   "id": "1b528d2f-8ff8-4dcd-a498-4f63259319b8",
   "metadata": {
    "tags": []
   },
   "source": [
    "### 2. Явно исключайте из кеша данные, которые больше не нужны"
   ]
  },
  {
   "cell_type": "markdown",
   "id": "b2ca881d-2051-4ce3-a77b-05c8119e4f9a",
   "metadata": {},
   "source": [
    "При помощи [`DataFrame#unpersist()`](https://spark.apache.org/docs/latest/api/python/reference/pyspark.sql/api/pyspark.sql.DataFrame.unpersist.html) можно явно убрать из кэша данные. Когда кэш заполняется, Spark начинает выбрасывать из кэша данных по стратегии LRU (Least Recent Used). Явный вызов [`unpersist()`](https://spark.apache.org/docs/latest/api/python/reference/pyspark.sql/api/pyspark.sql.DataFrame.unpersist.html) дает больше контроля над кэшем.\n",
    "\n",
    "Чем меньше памяти занято кэшем, тем больше памяти Spark может использовать для выполнения работы (создание служебных объектов HashMap, и т.д.)"
   ]
  },
  {
   "cell_type": "code",
   "execution_count": null,
   "id": "e68fb7fa-2327-45b4-8e59-13448783e504",
   "metadata": {},
   "outputs": [],
   "source": [
    "taxi_cached_df.unpersist()"
   ]
  },
  {
   "cell_type": "markdown",
   "id": "15fb1c09-f381-4aef-a5e5-47bb8d77ae69",
   "metadata": {
    "tags": []
   },
   "source": [
    "### 3. Кэшируйте только необходимое"
   ]
  },
  {
   "cell_type": "markdown",
   "id": "7881bc97-81f5-422a-a689-ee18d586fec1",
   "metadata": {},
   "source": [
    "Кэширование всего датафрейма является контпродуктивным подходом, если дальнейшая выборка идет лишь по нескольким полям. В этом случае, лучше:\n",
    "\n",
    "1. создать новый `DataFrame`, в котором выбраны только нужные колонки,\n",
    "1. закешировать этот `DataFrame`,\n",
    "1. выполнять выборку на базе закешированного `DataFrame`."
   ]
  },
  {
   "cell_type": "code",
   "execution_count": null,
   "id": "08c67478-90d0-40b4-ac57-e712c3bcfa7f",
   "metadata": {
    "tags": []
   },
   "outputs": [],
   "source": [
    "cached_taxi_df = taxi_df.cache()"
   ]
  },
  {
   "cell_type": "code",
   "execution_count": null,
   "id": "17913fb7-8a7a-4ed0-8b15-d20147c3c516",
   "metadata": {
    "tags": []
   },
   "outputs": [],
   "source": [
    "passenger_count_df = cached_taxi_df.select(cached_taxi_df.passenger_count)"
   ]
  },
  {
   "cell_type": "code",
   "execution_count": null,
   "id": "3e77156e-e9f2-48f4-ad0d-bb4334f16e37",
   "metadata": {},
   "outputs": [],
   "source": [
    "passenger_count_df.explain()"
   ]
  },
  {
   "cell_type": "markdown",
   "id": "5d44d441-010c-49b9-b925-8bb9845fc1e9",
   "metadata": {},
   "source": [
    "![Read Excessive Columns From Disk](../imgs/spark-excessive-cache-data.drawio.svg)"
   ]
  },
  {
   "cell_type": "code",
   "execution_count": null,
   "id": "e3d45d95-1691-4401-beed-d911c35a4520",
   "metadata": {
    "tags": []
   },
   "outputs": [],
   "source": [
    "taxi_date_distance_df = cached_taxi_df.select(cached_taxi_df.tpep_pickup_datetime, cached_taxi_df.trip_distance)"
   ]
  },
  {
   "cell_type": "code",
   "execution_count": null,
   "id": "dc7e38c9-d4a3-4150-ba59-4f6ec164ccd8",
   "metadata": {},
   "outputs": [],
   "source": [
    "taxi_date_distance_df.explain()"
   ]
  },
  {
   "cell_type": "markdown",
   "id": "52301eaa-11ee-4571-bb4b-7d4d314379bd",
   "metadata": {},
   "source": [
    "![Excessive Caching](../imgs/spark-excessive-cache-data.drawio-2.svg)"
   ]
  },
  {
   "cell_type": "markdown",
   "id": "a0e988c4-9841-492d-86a0-34b3c65a908a",
   "metadata": {},
   "source": [
    "**^ Так делать очень плохо**"
   ]
  },
  {
   "cell_type": "markdown",
   "id": "15fa79b5-b38e-4f60-bdb4-33f4836fc420",
   "metadata": {},
   "source": [
    "**Лушее решение**: закэшировать только тот объем данных который реально будет использоваться:"
   ]
  },
  {
   "cell_type": "code",
   "execution_count": null,
   "id": "0468058d-53aa-42fa-8b23-ef9bddffa5ee",
   "metadata": {
    "tags": []
   },
   "outputs": [],
   "source": [
    "cached_taxi_df.unpersist()"
   ]
  },
  {
   "cell_type": "code",
   "execution_count": null,
   "id": "fd5ffb36-7808-4f7e-a72b-c8e12a7e963b",
   "metadata": {
    "tags": []
   },
   "outputs": [],
   "source": [
    "cached_taxi_df = taxi_df.select(\n",
    "    cached_taxi_df.passenger_count,\n",
    "    cached_taxi_df.tpep_pickup_datetime,\n",
    "    cached_taxi_df.trip_distance\n",
    "  ) \\\n",
    "  .cache()"
   ]
  },
  {
   "cell_type": "code",
   "execution_count": null,
   "id": "8abf73d0-e73d-4127-94a0-95cb83bd5777",
   "metadata": {},
   "outputs": [],
   "source": [
    "cached_taxi_df.explain()"
   ]
  },
  {
   "cell_type": "code",
   "execution_count": null,
   "id": "eadf98a2-55db-43df-b6b6-f99cea8117fd",
   "metadata": {
    "tags": []
   },
   "outputs": [],
   "source": [
    "passenger_count_df = cached_taxi_df.select(cached_taxi_df.passenger_count)\n",
    "passenger_count_df.explain()"
   ]
  },
  {
   "cell_type": "code",
   "execution_count": null,
   "id": "d566e753-44d9-4c43-a31b-757d85d6bb25",
   "metadata": {
    "tags": []
   },
   "outputs": [],
   "source": [
    "taxi_date_distance_df = cached_taxi_df.select(cached_taxi_df.tpep_pickup_datetime, cached_taxi_df.trip_distance)\n",
    "taxi_date_distance_df.explain()"
   ]
  },
  {
   "cell_type": "markdown",
   "id": "37711f87-f341-432a-85e4-3f695bf4f342",
   "metadata": {},
   "source": [
    "![Cache Only Needed](../imgs/spark-cache-needed-only.drawio.svg)"
   ]
  },
  {
   "cell_type": "markdown",
   "id": "7c311667-b7a9-4819-b6ad-f042003bc838",
   "metadata": {},
   "source": [
    "После окончания работы с кэшем необходимо освободить кеш:"
   ]
  },
  {
   "cell_type": "code",
   "execution_count": null,
   "id": "217bb5ff-e330-49ce-b634-b9dd68c56a9a",
   "metadata": {
    "tags": []
   },
   "outputs": [],
   "source": [
    "cached_taxi_df.unpersist()"
   ]
  },
  {
   "cell_type": "markdown",
   "id": "b0a814c4-a1ce-497f-8a9e-3a409cf203c0",
   "metadata": {
    "tags": []
   },
   "source": [
    "## А может без кэширования быстрее?"
   ]
  },
  {
   "cell_type": "markdown",
   "id": "0a6a1eae-eee1-4c61-98e0-89099fc0a17d",
   "metadata": {},
   "source": [
    "Датафрейм `taxi_df` строится на основе parquet файла:"
   ]
  },
  {
   "cell_type": "code",
   "execution_count": null,
   "id": "852ce827-16c2-46e7-84a2-1a1cafbbdbdd",
   "metadata": {
    "tags": []
   },
   "outputs": [],
   "source": [
    "taxi_df.explain()"
   ]
  },
  {
   "cell_type": "markdown",
   "id": "7701d0f7-04dd-4146-aa1c-d7bf6c556ae1",
   "metadata": {},
   "source": [
    "Получить общее число строк:"
   ]
  },
  {
   "cell_type": "code",
   "execution_count": null,
   "id": "671197c1-186b-4a2f-9c26-6bfe9ec2f15e",
   "metadata": {
    "tags": []
   },
   "outputs": [],
   "source": [
    "taxi_df.count()"
   ]
  },
  {
   "cell_type": "markdown",
   "id": "6656d3ba-fe0c-4f77-9e79-ca570840447f",
   "metadata": {},
   "source": [
    "На плане видно, что с файловой системы ни одна колонка не считывается:\n",
    "\n",
    "![](../imgs/spark-parquet-count.drawio.svg)"
   ]
  },
  {
   "cell_type": "markdown",
   "id": "02a726e7-0314-49b9-a98b-f0e97da52465",
   "metadata": {},
   "source": [
    "Получить число строк, попадающих по фильтру:"
   ]
  },
  {
   "cell_type": "code",
   "execution_count": null,
   "id": "f49648d4-16d2-4929-b5b3-1914935526fa",
   "metadata": {
    "tags": []
   },
   "outputs": [],
   "source": [
    "passengers_filter_taxi_df = taxi_df.filter(taxi_df.passenger_count > 3)\n",
    "passengers_filter_taxi_df.explain()"
   ]
  },
  {
   "cell_type": "markdown",
   "id": "76498078-26e3-4008-a004-e80a097bb0f1",
   "metadata": {},
   "source": [
    "**(!!!)** План запроса показывает, что данные из parquet файла отфильтровываются уже на этапе чтения (**Pushed Filters**):\n",
    "\n",
    "![](../imgs/spark-parquet-pushed-filters.drawio.svg)"
   ]
  },
  {
   "cell_type": "code",
   "execution_count": null,
   "id": "a7591bee-0707-4218-adee-78b41dafc53d",
   "metadata": {
    "tags": []
   },
   "outputs": [],
   "source": [
    "passengers_filter_taxi_df.count()"
   ]
  },
  {
   "cell_type": "markdown",
   "id": "5c480946-049a-4c01-ac79-147db186abaa",
   "metadata": {},
   "source": [
    "Положим `taxi_df` в кеш:"
   ]
  },
  {
   "cell_type": "code",
   "execution_count": null,
   "id": "c2a586d8-62d7-48df-b8d1-2d2fd0608d4c",
   "metadata": {
    "tags": []
   },
   "outputs": [],
   "source": [
    "taxi_cached_df = taxi_df.cache()"
   ]
  },
  {
   "cell_type": "code",
   "execution_count": null,
   "id": "2cd3f17d-9c06-48f5-b814-3ee481011279",
   "metadata": {
    "tags": []
   },
   "outputs": [],
   "source": [
    "taxi_cached_df.explain()"
   ]
  },
  {
   "cell_type": "markdown",
   "id": "27a514c4-5b1b-48c8-9af5-ec45fcf93a1e",
   "metadata": {},
   "source": [
    "Первая опреация работает долго, т.к. нужно положить данные в кэш:"
   ]
  },
  {
   "cell_type": "code",
   "execution_count": null,
   "id": "9f762782-cc19-41d3-942c-4390f0f6c247",
   "metadata": {
    "tags": []
   },
   "outputs": [],
   "source": [
    "taxi_cached_df.count()"
   ]
  },
  {
   "cell_type": "code",
   "execution_count": null,
   "id": "36093da0-9f83-4523-af0f-6909dab26451",
   "metadata": {
    "tags": []
   },
   "outputs": [],
   "source": [
    "taxi_cached_df.count()"
   ]
  },
  {
   "cell_type": "markdown",
   "id": "6bb63cd7-eba1-4cb1-91e4-63459966e41f",
   "metadata": {},
   "source": [
    "Получить число строк из датафрейма в кэше, попадающих по фильтру:"
   ]
  },
  {
   "cell_type": "code",
   "execution_count": null,
   "id": "635ddb91-0481-4ed3-805e-37fd681ecc54",
   "metadata": {
    "tags": []
   },
   "outputs": [],
   "source": [
    "passengers_filter_taxi_cached_df = taxi_cached_df.filter(taxi_cached_df.passenger_count > 3)\n",
    "passengers_filter_taxi_cached_df.explain()"
   ]
  },
  {
   "cell_type": "markdown",
   "id": "8b2a879d-b3b2-43ce-a6bd-037832ed4ac8",
   "metadata": {},
   "source": [
    "План запроса показывает, что данные из parquet читаются целиком, а фильтрация происходит на более поздней страдии:\n",
    "\n",
    "\n",
    "![](../imgs/spark-parquet-pushed-filters-index-scan.drawio.svg)"
   ]
  },
  {
   "cell_type": "code",
   "execution_count": null,
   "id": "a727b9b3-d6dc-420e-9404-aadbeac3597a",
   "metadata": {
    "tags": []
   },
   "outputs": [],
   "source": [
    "taxi_cached_df.unpersist()"
   ]
  },
  {
   "cell_type": "markdown",
   "id": "a7bc7141-bccc-4201-8067-99c176a59381",
   "metadata": {
    "tags": []
   },
   "source": [
    "### Выводы"
   ]
  },
  {
   "cell_type": "markdown",
   "id": "aedd4aaa-0f19-4c40-9fca-9a2b41286a02",
   "metadata": {},
   "source": [
    "1. Формат Parquet позволяет провести оптимизацию, при которой можно не читать ненужные данные из файла, если известно условие фильтрации;\n",
    "1. Кэширование вынуждает Spark прочитать весь parquet файл целиком;\n",
    "1. Кэширование отрезает Spark возможность применения оптимизации Pushed Filters;\n",
    "1. Все встроенные источники данных (`json`, `csv`, `parquet`, `orc`, `avro`) поддерживают правило оптимизации `Pushed Filters`."
   ]
  },
  {
   "cell_type": "markdown",
   "id": "57da030b-a67a-4941-a94c-e56360863ce7",
   "metadata": {},
   "source": [
    "### Задание"
   ]
  },
  {
   "cell_type": "markdown",
   "id": "bcd5cf0f-1008-4f3b-9b4c-402b63c60fea",
   "metadata": {},
   "source": [
    "1. Какой запрос будет работать эффективнее (быстрее, меньше ресурсов и т.д.):\n",
    "\n",
    "```python\n",
    "taxi_df.select(passenger_count)\n",
    "```\n",
    "или\n",
    "```\n",
    "cached_taxi_df = taxi_df.cache()\n",
    "cached_taxi_df.select(passenger_count)\n",
    "```\n",
    "?\n",
    "\n",
    "Игнорировать затраты необходимые для добавления данных в кеш.\n",
    "\n",
    "2. Какое правило оптимизации включается в работу?"
   ]
  },
  {
   "cell_type": "markdown",
   "id": "78e951c4-416b-4b53-bb20-028f32ead384",
   "metadata": {
    "tags": []
   },
   "source": [
    "## Кэширование в SQL"
   ]
  },
  {
   "cell_type": "markdown",
   "id": "8e077b5f-f343-4d59-aadd-cb65737377f2",
   "metadata": {},
   "source": [
    "Можно выполнять кэширование таблиц при работе со Spark через датафреймы."
   ]
  },
  {
   "cell_type": "code",
   "execution_count": null,
   "id": "90088d94-6d7a-489e-919a-09b07f38bc8d",
   "metadata": {
    "tags": []
   },
   "outputs": [],
   "source": [
    "taxi_df.createOrReplaceTempView(\"taxi\")"
   ]
  },
  {
   "cell_type": "code",
   "execution_count": null,
   "id": "fb9f24f0-7705-43bc-a79b-a2b1b5367948",
   "metadata": {
    "tags": []
   },
   "outputs": [],
   "source": [
    "spark.catalog.listTables()"
   ]
  },
  {
   "cell_type": "code",
   "execution_count": null,
   "id": "b8a45160-fa33-47f6-9a34-5e49730fec4f",
   "metadata": {
    "tags": []
   },
   "outputs": [],
   "source": [
    "spark.sql(\"SELECT count(*) FROM taxi\").show()"
   ]
  },
  {
   "cell_type": "markdown",
   "id": "6e9012de-7e68-4017-950e-054373febfc9",
   "metadata": {},
   "source": [
    "Инструкция `cache` позволяет закэшировать таблицу:"
   ]
  },
  {
   "cell_type": "code",
   "execution_count": null,
   "id": "2d5ecaba-0c72-44ab-ae68-1827ce9357eb",
   "metadata": {
    "tags": []
   },
   "outputs": [],
   "source": [
    "spark.sql(\"cache table taxi\")"
   ]
  },
  {
   "cell_type": "code",
   "execution_count": null,
   "id": "e3f419a3-9460-48e3-b8eb-8034ff3cbe84",
   "metadata": {
    "tags": []
   },
   "outputs": [],
   "source": [
    "spark.sql(\"SELECT count(*) FROM taxi\").show()"
   ]
  },
  {
   "cell_type": "markdown",
   "id": "f174559e-e0fe-404d-9f2c-a2e6ba1aef86",
   "metadata": {},
   "source": [
    "Инструкция `uncache` позволяет убрать таблицу из кэша:"
   ]
  },
  {
   "cell_type": "code",
   "execution_count": null,
   "id": "28df4f59-4b31-4e71-8ad0-488f0b9273b3",
   "metadata": {
    "tags": []
   },
   "outputs": [],
   "source": [
    "spark.sql(\"uncache table taxi\")"
   ]
  },
  {
   "cell_type": "markdown",
   "id": "49ebc521-3abb-4291-a3bb-2d2b395d991f",
   "metadata": {},
   "source": [
    "Можно заметить, что в отличии от Spark DSL, кэширование в Spark SQL выполняется сразу, тогда как `cache()` метод в Spark DSL ленивая операция. Можно сделать операцию кэшировани в Spark SQL также ленивой:"
   ]
  },
  {
   "cell_type": "code",
   "execution_count": null,
   "id": "7e5394b9-5a01-4917-99df-0fee7f11e78b",
   "metadata": {
    "tags": []
   },
   "outputs": [],
   "source": [
    "spark.sql(\"cache lazy table taxi\")"
   ]
  },
  {
   "cell_type": "markdown",
   "id": "22781394-c282-4948-a82b-db1606757bc7",
   "metadata": {},
   "source": [
    "Можно узнать находится ли таблица в кэше:"
   ]
  },
  {
   "cell_type": "code",
   "execution_count": null,
   "id": "d320f812-2405-4ab7-aafa-e8010fd758cc",
   "metadata": {
    "tags": []
   },
   "outputs": [],
   "source": [
    "spark.catalog.isCached(\"taxi\")"
   ]
  },
  {
   "cell_type": "code",
   "execution_count": null,
   "id": "b7b28053-be41-4467-8eb1-0822c1b9cb58",
   "metadata": {
    "tags": []
   },
   "outputs": [],
   "source": [
    "spark.sql(\"SELECT count(*) FROM taxi\").show()"
   ]
  },
  {
   "cell_type": "markdown",
   "id": "9af72938-2725-47a1-a7e2-cef082e3b924",
   "metadata": {},
   "source": [
    "Можно очистить весь кэш при помощи `clearCache` и убрать все таблицы из кэша:"
   ]
  },
  {
   "cell_type": "code",
   "execution_count": null,
   "id": "353c309d-7d7f-4fc7-bdf6-29388fa2f342",
   "metadata": {
    "tags": []
   },
   "outputs": [],
   "source": [
    "spark.catalog.clearCache()"
   ]
  },
  {
   "cell_type": "markdown",
   "id": "42842a22-2819-4456-94c6-cd32ac7ec20c",
   "metadata": {},
   "source": [
    "## Инвалидация кеша"
   ]
  },
  {
   "cell_type": "markdown",
   "id": "65fb1268-465b-4c64-b33a-401b2f4fa683",
   "metadata": {},
   "source": [
    "Spark прекрасно справляется с задачей инвалидиации кеша:"
   ]
  },
  {
   "cell_type": "markdown",
   "id": "959ad2c4-fed0-4101-aee7-06f0ad8bb5b2",
   "metadata": {},
   "source": [
    "Создать parquet файл с 10 строками:"
   ]
  },
  {
   "cell_type": "code",
   "execution_count": null,
   "id": "5ac89c40-0a5f-4c4e-b003-26a916c49b93",
   "metadata": {},
   "outputs": [],
   "source": [
    "taxi_df.limit(10).write.mode(\"overwrite\").parquet(\"/tmp/taxi_cache_invalidate\")"
   ]
  },
  {
   "cell_type": "code",
   "execution_count": null,
   "id": "eb524dbf-2a86-4b7e-887f-e44c4e9fcf87",
   "metadata": {},
   "outputs": [],
   "source": [
    "taxi_invalidate_cache_df = spark.read.parquet(\"/tmp/taxi_cache_invalidate\")\n",
    "cached_taxi_df = taxi_invalidate_cache_df.cache()"
   ]
  },
  {
   "cell_type": "code",
   "execution_count": null,
   "id": "d60842d1-3ab7-41e8-9e89-8f84c5035d34",
   "metadata": {},
   "outputs": [],
   "source": [
    "count_df = cached_taxi_df.select(F.count(F.lit(1)))"
   ]
  },
  {
   "cell_type": "code",
   "execution_count": null,
   "id": "da051b62-d84d-4cc9-a70e-06c0f81d042e",
   "metadata": {},
   "outputs": [],
   "source": [
    "count_df.explain()"
   ]
  },
  {
   "cell_type": "code",
   "execution_count": null,
   "id": "248f0746-5ef8-442f-a731-a5a2d77abd61",
   "metadata": {},
   "outputs": [],
   "source": [
    "count_df.show()"
   ]
  },
  {
   "cell_type": "markdown",
   "id": "054a686b-6acd-480d-a116-6008955c398b",
   "metadata": {},
   "source": [
    "Обновить источник. Создать parquet файл из 10000 строк:"
   ]
  },
  {
   "cell_type": "code",
   "execution_count": null,
   "id": "025c4950-a601-4396-ba0d-e1d0495a3a57",
   "metadata": {},
   "outputs": [],
   "source": [
    "taxi_df.limit(10000).write.mode(\"overwrite\").parquet(\"/tmp/taxi_cache_invalidate\")"
   ]
  },
  {
   "cell_type": "code",
   "execution_count": null,
   "id": "e85bc201-58cc-4979-9c7b-796690690dad",
   "metadata": {},
   "outputs": [],
   "source": [
    "count_df.explain()"
   ]
  },
  {
   "cell_type": "markdown",
   "id": "de2c6138-9fa6-496a-b0a1-07ea05dcf4a6",
   "metadata": {},
   "source": [
    "План запроса не изменился (за исключением служебных имен колонок):\n",
    "\n",
    "![](../imgs/spark-cache-invalidate-plans.drawio.svg)"
   ]
  },
  {
   "cell_type": "code",
   "execution_count": null,
   "id": "2667db15-a3bc-4838-a5e5-8e518d2db52a",
   "metadata": {},
   "outputs": [],
   "source": [
    "count_df.show()"
   ]
  },
  {
   "cell_type": "markdown",
   "id": "558586cc-c16a-4575-81a1-698d006310d4",
   "metadata": {},
   "source": [
    "Объем закешированных данных увеличился (ожидаемо):\n",
    "\n",
    "![](../imgs/spark-cache-invalidate-storage.drawio.svg)"
   ]
  },
  {
   "cell_type": "markdown",
   "id": "bab4077e-9c63-4e0a-ab6d-546478611f3d",
   "metadata": {},
   "source": [
    "### Вывод"
   ]
  },
  {
   "cell_type": "markdown",
   "id": "89688efe-bb76-48dc-9d49-32fbe7b0ba64",
   "metadata": {},
   "source": [
    "Инвалиация кеша выполняется прозрачно: Apache Spark отслеживает источники данных и при их изменении инвалидирует кеш."
   ]
  },
  {
   "cell_type": "markdown",
   "id": "f1004cb9-4f89-46a1-b78d-9667bfe4a924",
   "metadata": {},
   "source": [
    "## Кэширование плана"
   ]
  },
  {
   "cell_type": "markdown",
   "id": "e252e704-e7c2-4c72-ab21-cd53f6efb896",
   "metadata": {},
   "source": [
    "В ситуации, когда план становится очень длинным, есть риск, что случится `StackOverflowError` или драйвер будет тратить очень много времени на построение плана, или другие проблемы во время работы. План можно разбить на несколько частей, и обратиться к ним, когда возникнет необхоимость. Этого можно достичь при помощи механизма Checkpoint. При помощи Checkpoint можно разбить план и материализовать запрос. При обработке следующих трансформаций, Spark начнет создавать новый план."
   ]
  },
  {
   "cell_type": "code",
   "execution_count": null,
   "id": "57cdee61-01e4-4de6-9ed3-5c2b10136856",
   "metadata": {
    "tags": []
   },
   "outputs": [],
   "source": [
    "spark.sparkContext.setCheckpointDir(\"plan/checkpoint\")"
   ]
  },
  {
   "cell_type": "code",
   "execution_count": null,
   "id": "d183d714-dfc3-4af7-951e-bccf6300d580",
   "metadata": {
    "tags": []
   },
   "outputs": [],
   "source": [
    "small_taxi_df = taxi_df.limit(10)"
   ]
  },
  {
   "cell_type": "code",
   "execution_count": null,
   "id": "05cf28fc-f175-4875-aac8-3ae371d9235f",
   "metadata": {
    "tags": []
   },
   "outputs": [],
   "source": [
    "small_taxi_df = small_taxi_df.checkpoint()"
   ]
  },
  {
   "cell_type": "code",
   "execution_count": null,
   "id": "0a34e885-164d-4c7e-a487-496a3a23efa4",
   "metadata": {
    "tags": []
   },
   "outputs": [],
   "source": [
    "df = small_taxi_df.select(small_taxi_df.passenger_count)\n",
    "df.explain()"
   ]
  },
  {
   "cell_type": "markdown",
   "id": "b8c2e33d-7700-4d5b-af0e-f6aa04da1889",
   "metadata": {},
   "source": [
    "![](../imgs/spark-scan-checkpointed.drawio.svg)"
   ]
  },
  {
   "cell_type": "markdown",
   "id": "25b61926-89fb-4651-af74-ce4499530dde",
   "metadata": {},
   "source": [
    "Обратите внимание:\n",
    "\n",
    "1. в отличии от `cache`, плане запроса отсутствует информация о том, что был просканирован какой-то parquet файл перед `checkpoint`'ом, т.е. фактически произошло отсечение линии жизни/плана RDD;\n",
    "2. на диск был сохранен RDD со всеми колонками из parquet файла, а в результате требуется только одна колонка. Следовательно, необходимо применять те же размышления, что и при кешировании, и сохранять только нужные колонки."
   ]
  },
  {
   "cell_type": "code",
   "execution_count": null,
   "id": "dc18e8d1-e4d5-4e2b-a70f-c2284cbcf0be",
   "metadata": {
    "tags": []
   },
   "outputs": [],
   "source": [
    "df.show()"
   ]
  },
  {
   "cell_type": "markdown",
   "id": "a6b33aff-daef-474f-9724-fb0253b97450",
   "metadata": {},
   "source": [
    "В отличии от кеширования, оптимизатор не перенаправляет запросы к сохраненному RDD:"
   ]
  },
  {
   "cell_type": "code",
   "execution_count": null,
   "id": "565a0b1a-6d7d-404d-b7f7-c8229b526958",
   "metadata": {
    "tags": []
   },
   "outputs": [],
   "source": [
    "df = taxi_df \\\n",
    "  .limit(10) \\\n",
    "  .select(taxi_df.passenger_count)"
   ]
  },
  {
   "cell_type": "code",
   "execution_count": null,
   "id": "a697d5c6-6c66-4b0a-80bc-92bc1caba84a",
   "metadata": {
    "tags": []
   },
   "outputs": [],
   "source": [
    "df.explain()"
   ]
  },
  {
   "cell_type": "code",
   "execution_count": null,
   "id": "b3b05d56-e856-4523-b9d6-3264d64711ce",
   "metadata": {
    "tags": []
   },
   "outputs": [],
   "source": [
    "df.show()"
   ]
  },
  {
   "cell_type": "markdown",
   "id": "279edda1-7b1f-4514-ba96-f0b21e569deb",
   "metadata": {},
   "source": [
    "### Выводы"
   ]
  },
  {
   "cell_type": "markdown",
   "id": "3fc1ee8d-9955-47ad-b9bf-05eb758b0c30",
   "metadata": {},
   "source": [
    "1. Checkpoint позволяет разбить большой план на несколько частей, каждая из которых может запускает свои задачи и задания на кластере;\n",
    "1. В отличии от кеширования Checkpoint не показывает какие операции привели к созданию RDD, т.е. происходит отсечение плана;\n",
    "1. Необходимо выполнять checkpoint с минимально необходимым объемом данных как по количеству колонок, так и по количеству строк, т.к. правила оптимизации **Pushed Filters** и **Pushed Projections** не применяются."
   ]
  },
  {
   "cell_type": "markdown",
   "id": "a8226b40-7642-4758-a5c7-ac4e5767991c",
   "metadata": {},
   "source": [
    "### Задание"
   ]
  },
  {
   "cell_type": "markdown",
   "id": "021d7673-8457-476d-aab9-c52e990670f7",
   "metadata": {},
   "source": [
    "Изменить запрос, чтобы сохранить (checkpoint) только нужные колонки и строки:\n",
    "```python\n",
    "cp_df = taxi_df.checkpoint()\n",
    "many_passengers_df = cp_df.select(cp_df.passenger_count, cp_df.trip_distance).where(cp_df.trip_distance > 10)\n",
    "generous_rides_df = cp_df.where(cp_df.tip_amount / cp_df.total_amount > 0.3).select(cp_df.VendorID, cp_df.trip_distance)\n",
    "```"
   ]
  },
  {
   "cell_type": "code",
   "execution_count": null,
   "id": "ac42f242-b51a-4d62-b15b-dc97f358c005",
   "metadata": {},
   "outputs": [],
   "source": []
  }
 ],
 "metadata": {
  "kernelspec": {
   "display_name": "Python 3 (ipykernel)",
   "language": "python",
   "name": "python3"
  },
  "language_info": {
   "codemirror_mode": {
    "name": "ipython",
    "version": 3
   },
   "file_extension": ".py",
   "mimetype": "text/x-python",
   "name": "python",
   "nbconvert_exporter": "python",
   "pygments_lexer": "ipython3",
   "version": "3.11.5"
  }
 },
 "nbformat": 4,
 "nbformat_minor": 5
}
